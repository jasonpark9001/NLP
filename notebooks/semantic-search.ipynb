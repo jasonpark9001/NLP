{
  "nbformat": 4,
  "nbformat_minor": 0,
  "metadata": {
    "colab": {
      "name": "Building_a_Semantic_Search_Engine_with_Transformers.ipynb",
      "provenance": [],
      "collapsed_sections": [],
      "include_colab_link": true
    },
    "kernelspec": {
      "name": "python3",
      "display_name": "Python 3"
    },
    "accelerator": "GPU"
  },
  "cells": [
    {
      "cell_type": "markdown",
      "metadata": {
        "id": "view-in-github",
        "colab_type": "text"
      },
      "source": [
        "<a href=\"https://colab.research.google.com/github/jasonpark9001/NLP/blob/main/Building_a_Semantic_Search_Engine_with_Transformers.ipynb\" target=\"_parent\"><img src=\"https://colab.research.google.com/assets/colab-badge.svg\" alt=\"Open In Colab\"/></a>"
      ]
    },
    {
      "cell_type": "markdown",
      "metadata": {
        "id": "8w2MPbHppeO0"
      },
      "source": [
        "# Building a Semantic Search Engine to Search for Queries with Transformers"
      ]
    },
    {
      "cell_type": "markdown",
      "metadata": {
        "id": "Fb75SQP5pro_"
      },
      "source": [
        "# Semantic Search\n",
        "Semantic search seeks to improve search accuracy by understanding the content of the search query. In contrast to traditional search engines, that only finds documents based on lexical matches, semantic search can also find synonyms.\n",
        "\n",
        "\n",
        "## Background\n",
        "The idea behind semantic search is to embedd all entries in your corpus, which can be sentences, paragraphs, or documents, into a vector space. \n",
        "\n",
        "At search time, the query is embedded into the same vector space and the closest embedding from your corpus are found. These entries should have a high semantic overlap with the query.\n",
        "\n",
        "![SemanticSearch](https://raw.githubusercontent.com/UKPLab/sentence-transformers/master/docs/img/SemanticSearch.png) \n",
        "\n",
        "\n",
        "## Similarity Computation\n",
        "\n",
        "For small corpora (up to about 100k entries) we can compute the cosine-similarity between the query and all entries in the corpus.\n",
        "\n",
        "For small corpora with few example sentences we compute the embeddings for the corpus as well as for our query.\n",
        "\n",
        "We then use the [util.pytorch_cos_sim()](../../../docs/usage/semantic_textual_similarity.md) function to compute the cosine similarity between the query and all corpus entries.\n",
        "\n",
        "For large corpora, sorting all scores would take too much time. Hence, we can use [torch.topk](https://pytorch.org/docs/stable/generated/torch.topk.html) to only get the top k entries.\n",
        "\n",
        "[Reference](https://github.com/UKPLab/sentence-transformers/tree/master/examples/applications/semantic-search)\n",
        "\n",
        "\n",
        "## Objective\n",
        "\n",
        "For today's objective we will create a corpus of around 50000 question titles asked on Quora from an open dataset. Your task will be to compute sentence embeddings and then try to retrieve top 5 similar questions from the corpus for a few example queries mentioned below.\n",
        "\n",
        "Use [Sentence Transformers](https://github.com/UKPLab/sentence-transformers) which provides a scalable way to generate document embeddings using transformers\n",
        "\n"
      ]
    },
    {
      "cell_type": "markdown",
      "metadata": {
        "id": "637DLY-vqofj"
      },
      "source": [
        "## Load Dependencies"
      ]
    },
    {
      "cell_type": "code",
      "metadata": {
        "id": "1G6XYAOjKfoe"
      },
      "source": [
        "!pip install transformers"
      ],
      "execution_count": null,
      "outputs": []
    },
    {
      "cell_type": "code",
      "metadata": {
        "id": "-4Gb28zvKmfb"
      },
      "source": [
        "!pip install -U sentence-transformers"
      ],
      "execution_count": null,
      "outputs": []
    },
    {
      "cell_type": "code",
      "metadata": {
        "id": "hZbso1ipKa2S"
      },
      "source": [
        "import transformers"
      ],
      "execution_count": 3,
      "outputs": []
    },
    {
      "cell_type": "code",
      "metadata": {
        "id": "uRSgF-ITKWL6"
      },
      "source": [
        "import pandas as pd\n",
        "import numpy as np"
      ],
      "execution_count": 4,
      "outputs": []
    },
    {
      "cell_type": "markdown",
      "metadata": {
        "id": "Qd9fnlmlqqxh"
      },
      "source": [
        "## Download and Load Corpus of Questions"
      ]
    },
    {
      "cell_type": "code",
      "metadata": {
        "id": "O37SmvVPK4Q_"
      },
      "source": [
        "!wget http://qim.fs.quoracdn.net/quora_duplicate_questions.tsv"
      ],
      "execution_count": null,
      "outputs": []
    },
    {
      "cell_type": "code",
      "metadata": {
        "id": "Wz3j4m13KtaR",
        "colab": {
          "base_uri": "https://localhost:8080/",
          "height": 206
        },
        "outputId": "557a6ce3-3fbb-4e05-d991-8af83fa41d9c"
      },
      "source": [
        "df = pd.read_csv('quora_duplicate_questions.tsv', sep='\\t').head(25000)\n",
        "df.head()"
      ],
      "execution_count": 6,
      "outputs": [
        {
          "output_type": "execute_result",
          "data": {
            "text/plain": [
              "   id  qid1  qid2                                          question1  \\\n",
              "0   0     1     2  What is the step by step guide to invest in sh...   \n",
              "1   1     3     4  What is the story of Kohinoor (Koh-i-Noor) Dia...   \n",
              "2   2     5     6  How can I increase the speed of my internet co...   \n",
              "3   3     7     8  Why am I mentally very lonely? How can I solve...   \n",
              "4   4     9    10  Which one dissolve in water quikly sugar, salt...   \n",
              "\n",
              "                                           question2  is_duplicate  \n",
              "0  What is the step by step guide to invest in sh...             0  \n",
              "1  What would happen if the Indian government sto...             0  \n",
              "2  How can Internet speed be increased by hacking...             0  \n",
              "3  Find the remainder when [math]23^{24}[/math] i...             0  \n",
              "4            Which fish would survive in salt water?             0  "
            ],
            "text/html": [
              "\n",
              "  <div id=\"df-ac8777d1-7f17-4173-99d4-c1fb5cbe8a4f\">\n",
              "    <div class=\"colab-df-container\">\n",
              "      <div>\n",
              "<style scoped>\n",
              "    .dataframe tbody tr th:only-of-type {\n",
              "        vertical-align: middle;\n",
              "    }\n",
              "\n",
              "    .dataframe tbody tr th {\n",
              "        vertical-align: top;\n",
              "    }\n",
              "\n",
              "    .dataframe thead th {\n",
              "        text-align: right;\n",
              "    }\n",
              "</style>\n",
              "<table border=\"1\" class=\"dataframe\">\n",
              "  <thead>\n",
              "    <tr style=\"text-align: right;\">\n",
              "      <th></th>\n",
              "      <th>id</th>\n",
              "      <th>qid1</th>\n",
              "      <th>qid2</th>\n",
              "      <th>question1</th>\n",
              "      <th>question2</th>\n",
              "      <th>is_duplicate</th>\n",
              "    </tr>\n",
              "  </thead>\n",
              "  <tbody>\n",
              "    <tr>\n",
              "      <th>0</th>\n",
              "      <td>0</td>\n",
              "      <td>1</td>\n",
              "      <td>2</td>\n",
              "      <td>What is the step by step guide to invest in sh...</td>\n",
              "      <td>What is the step by step guide to invest in sh...</td>\n",
              "      <td>0</td>\n",
              "    </tr>\n",
              "    <tr>\n",
              "      <th>1</th>\n",
              "      <td>1</td>\n",
              "      <td>3</td>\n",
              "      <td>4</td>\n",
              "      <td>What is the story of Kohinoor (Koh-i-Noor) Dia...</td>\n",
              "      <td>What would happen if the Indian government sto...</td>\n",
              "      <td>0</td>\n",
              "    </tr>\n",
              "    <tr>\n",
              "      <th>2</th>\n",
              "      <td>2</td>\n",
              "      <td>5</td>\n",
              "      <td>6</td>\n",
              "      <td>How can I increase the speed of my internet co...</td>\n",
              "      <td>How can Internet speed be increased by hacking...</td>\n",
              "      <td>0</td>\n",
              "    </tr>\n",
              "    <tr>\n",
              "      <th>3</th>\n",
              "      <td>3</td>\n",
              "      <td>7</td>\n",
              "      <td>8</td>\n",
              "      <td>Why am I mentally very lonely? How can I solve...</td>\n",
              "      <td>Find the remainder when [math]23^{24}[/math] i...</td>\n",
              "      <td>0</td>\n",
              "    </tr>\n",
              "    <tr>\n",
              "      <th>4</th>\n",
              "      <td>4</td>\n",
              "      <td>9</td>\n",
              "      <td>10</td>\n",
              "      <td>Which one dissolve in water quikly sugar, salt...</td>\n",
              "      <td>Which fish would survive in salt water?</td>\n",
              "      <td>0</td>\n",
              "    </tr>\n",
              "  </tbody>\n",
              "</table>\n",
              "</div>\n",
              "      <button class=\"colab-df-convert\" onclick=\"convertToInteractive('df-ac8777d1-7f17-4173-99d4-c1fb5cbe8a4f')\"\n",
              "              title=\"Convert this dataframe to an interactive table.\"\n",
              "              style=\"display:none;\">\n",
              "        \n",
              "  <svg xmlns=\"http://www.w3.org/2000/svg\" height=\"24px\"viewBox=\"0 0 24 24\"\n",
              "       width=\"24px\">\n",
              "    <path d=\"M0 0h24v24H0V0z\" fill=\"none\"/>\n",
              "    <path d=\"M18.56 5.44l.94 2.06.94-2.06 2.06-.94-2.06-.94-.94-2.06-.94 2.06-2.06.94zm-11 1L8.5 8.5l.94-2.06 2.06-.94-2.06-.94L8.5 2.5l-.94 2.06-2.06.94zm10 10l.94 2.06.94-2.06 2.06-.94-2.06-.94-.94-2.06-.94 2.06-2.06.94z\"/><path d=\"M17.41 7.96l-1.37-1.37c-.4-.4-.92-.59-1.43-.59-.52 0-1.04.2-1.43.59L10.3 9.45l-7.72 7.72c-.78.78-.78 2.05 0 2.83L4 21.41c.39.39.9.59 1.41.59.51 0 1.02-.2 1.41-.59l7.78-7.78 2.81-2.81c.8-.78.8-2.07 0-2.86zM5.41 20L4 18.59l7.72-7.72 1.47 1.35L5.41 20z\"/>\n",
              "  </svg>\n",
              "      </button>\n",
              "      \n",
              "  <style>\n",
              "    .colab-df-container {\n",
              "      display:flex;\n",
              "      flex-wrap:wrap;\n",
              "      gap: 12px;\n",
              "    }\n",
              "\n",
              "    .colab-df-convert {\n",
              "      background-color: #E8F0FE;\n",
              "      border: none;\n",
              "      border-radius: 50%;\n",
              "      cursor: pointer;\n",
              "      display: none;\n",
              "      fill: #1967D2;\n",
              "      height: 32px;\n",
              "      padding: 0 0 0 0;\n",
              "      width: 32px;\n",
              "    }\n",
              "\n",
              "    .colab-df-convert:hover {\n",
              "      background-color: #E2EBFA;\n",
              "      box-shadow: 0px 1px 2px rgba(60, 64, 67, 0.3), 0px 1px 3px 1px rgba(60, 64, 67, 0.15);\n",
              "      fill: #174EA6;\n",
              "    }\n",
              "\n",
              "    [theme=dark] .colab-df-convert {\n",
              "      background-color: #3B4455;\n",
              "      fill: #D2E3FC;\n",
              "    }\n",
              "\n",
              "    [theme=dark] .colab-df-convert:hover {\n",
              "      background-color: #434B5C;\n",
              "      box-shadow: 0px 1px 3px 1px rgba(0, 0, 0, 0.15);\n",
              "      filter: drop-shadow(0px 1px 2px rgba(0, 0, 0, 0.3));\n",
              "      fill: #FFFFFF;\n",
              "    }\n",
              "  </style>\n",
              "\n",
              "      <script>\n",
              "        const buttonEl =\n",
              "          document.querySelector('#df-ac8777d1-7f17-4173-99d4-c1fb5cbe8a4f button.colab-df-convert');\n",
              "        buttonEl.style.display =\n",
              "          google.colab.kernel.accessAllowed ? 'block' : 'none';\n",
              "\n",
              "        async function convertToInteractive(key) {\n",
              "          const element = document.querySelector('#df-ac8777d1-7f17-4173-99d4-c1fb5cbe8a4f');\n",
              "          const dataTable =\n",
              "            await google.colab.kernel.invokeFunction('convertToInteractive',\n",
              "                                                     [key], {});\n",
              "          if (!dataTable) return;\n",
              "\n",
              "          const docLinkHtml = 'Like what you see? Visit the ' +\n",
              "            '<a target=\"_blank\" href=https://colab.research.google.com/notebooks/data_table.ipynb>data table notebook</a>'\n",
              "            + ' to learn more about interactive tables.';\n",
              "          element.innerHTML = '';\n",
              "          dataTable['output_type'] = 'display_data';\n",
              "          await google.colab.output.renderOutput(dataTable, element);\n",
              "          const docLink = document.createElement('div');\n",
              "          docLink.innerHTML = docLinkHtml;\n",
              "          element.appendChild(docLink);\n",
              "        }\n",
              "      </script>\n",
              "    </div>\n",
              "  </div>\n",
              "  "
            ]
          },
          "metadata": {},
          "execution_count": 6
        }
      ]
    },
    {
      "cell_type": "code",
      "metadata": {
        "id": "R3AfKmnGLCFg"
      },
      "source": [
        "corpus = df['question1'].tolist() + df['question2'].tolist()"
      ],
      "execution_count": 7,
      "outputs": []
    },
    {
      "cell_type": "code",
      "metadata": {
        "id": "rKfVgMPELMvT",
        "colab": {
          "base_uri": "https://localhost:8080/"
        },
        "outputId": "8f6b9824-da27-49ec-e590-28d4ef096c17"
      },
      "source": [
        "len(corpus)"
      ],
      "execution_count": 9,
      "outputs": [
        {
          "output_type": "execute_result",
          "data": {
            "text/plain": [
              "50000"
            ]
          },
          "metadata": {},
          "execution_count": 9
        }
      ]
    },
    {
      "cell_type": "markdown",
      "metadata": {
        "id": "8v-WQjCAqvd9"
      },
      "source": [
        "## Use Sentence Transformers and Generate Corpus Embeddings"
      ]
    },
    {
      "cell_type": "markdown",
      "metadata": {
        "id": "KuwhkFevq1rm"
      },
      "source": [
        "Reference:\n",
        "\n",
        "[Semantic Search Tutorial](https://github.com/UKPLab/sentence-transformers/blob/master/examples/applications/semantic-search/semantic_search.py)\n"
      ]
    },
    {
      "cell_type": "markdown",
      "metadata": {
        "id": "ufWzsq6dt4vI"
      },
      "source": [
        "# 1. Load Pre-trained Embedder Model\n",
        "\n",
        "Load the __`roberta-large-nli-stsb-mean-tokens`__ model to generate embeddings"
      ]
    },
    {
      "cell_type": "code",
      "metadata": {
        "id": "gf8Q7vV4LP3A"
      },
      "source": [
        "from sentence_transformers import SentenceTransformer"
      ],
      "execution_count": 10,
      "outputs": []
    },
    {
      "cell_type": "code",
      "metadata": {
        "id": "fJIxH70vL3L1"
      },
      "source": [
        "model = 'roberta-large-nli-stsb-mean-tokens'\n",
        "embedder = SentenceTransformer(model)"
      ],
      "execution_count": null,
      "outputs": []
    },
    {
      "cell_type": "markdown",
      "metadata": {
        "id": "q1LzJrmbuOaW"
      },
      "source": [
        "#  2. Generate Corpus Embeddings\n",
        "\n",
        "Generate embeddings for each and every document using the pre-trained model"
      ]
    },
    {
      "cell_type": "code",
      "metadata": {
        "id": "G27sHdxRPPri"
      },
      "source": [
        "corpus_embeddings = embedder.encode(corpus, convert_to_tensor=True)"
      ],
      "execution_count": 12,
      "outputs": []
    },
    {
      "cell_type": "code",
      "metadata": {
        "id": "9NVNIPeRP0Uj",
        "colab": {
          "base_uri": "https://localhost:8080/"
        },
        "outputId": "7b3a1ba5-da69-4c72-f7bc-10ea05fedbe5"
      },
      "source": [
        "corpus_embeddings.shape"
      ],
      "execution_count": 13,
      "outputs": [
        {
          "output_type": "execute_result",
          "data": {
            "text/plain": [
              "torch.Size([50000, 1024])"
            ]
          },
          "metadata": {},
          "execution_count": 13
        }
      ]
    },
    {
      "cell_type": "markdown",
      "metadata": {
        "id": "rJS9cPFkrJO_"
      },
      "source": [
        "# 3. Create a function to print top K similar sentences for a given query\n",
        "\n",
        "Use cosine similarity by leveraging the pytorch utility in `sentence_transformers` as depicted in the previously linked tutorial."
      ]
    },
    {
      "cell_type": "code",
      "metadata": {
        "id": "zz4J-WCdP7uz"
      },
      "source": [
        "from sentence_transformers import util\n",
        "import torch\n",
        "\n",
        "def print_similar_sentences(queries, model_embedder, corpus_embeddings, top_k):\n",
        "    for query in queries:\n",
        "        query_embedding = embedder.encode(query, convert_to_tensor=True)\n",
        "        cos_scores = util.cos_sim(query_embedding, corpus_embeddings)[0]\n",
        "        top_results = torch.topk(cos_scores, k = top_k)\n",
        "        \n",
        "        print(\"\\n\\n======================\\n\\n\")\n",
        "        print(\"Query:\", query)\n",
        "        print(\"\\nTop 5 most similar sentences in corpus:\")\n",
        "        \n",
        "        for score, idx in zip(top_results[0], top_results[1]):\n",
        "            print(corpus[idx], \"(score: {:.4f})\".format(score))\n",
        "\n",
        "    "
      ],
      "execution_count": 15,
      "outputs": []
    },
    {
      "cell_type": "markdown",
      "metadata": {
        "id": "ZW53grWprO73"
      },
      "source": [
        "# 4. Perform Semantic Search on Sample Questions to get Similar Queries from the Corpus"
      ]
    },
    {
      "cell_type": "code",
      "metadata": {
        "id": "HGbnncfyQsC8",
        "colab": {
          "base_uri": "https://localhost:8080/"
        },
        "outputId": "10b18807-fbb9-4f36-903b-c0f64d46359b"
      },
      "source": [
        "s = 'What is the step by step guide to invest'\n",
        "print_similar_sentences(queries=[s],\n",
        "                        model_embedder=embedder, \n",
        "                        corpus_embeddings=corpus_embeddings,\n",
        "                        top_k=5)"
      ],
      "execution_count": 17,
      "outputs": [
        {
          "output_type": "stream",
          "name": "stdout",
          "text": [
            "\n",
            "\n",
            "======================\n",
            "\n",
            "\n",
            "Query: What is the step by step guide to invest\n",
            "\n",
            "Top 5 most similar sentences in corpus:\n",
            "What is the step by step guide to invest in share market? (score: 0.8431)\n",
            "What are the best investment strategy for beginners? (score: 0.7725)\n",
            "What are the ways to get an investment for startup? (score: 0.7692)\n",
            "How do I invest in stock market? (score: 0.7558)\n",
            "How much money will I need to start investing in stock market? (score: 0.7447)\n"
          ]
        }
      ]
    },
    {
      "cell_type": "code",
      "metadata": {
        "id": "OFlPlIERQ9xy",
        "colab": {
          "base_uri": "https://localhost:8080/"
        },
        "outputId": "c8f3c7b2-4c39-4404-93b6-c3ad2e810a6d"
      },
      "source": [
        "s = 'What is Data Science?'\n",
        "print_similar_sentences(queries=[s],\n",
        "                        model_embedder=embedder, \n",
        "                        corpus_embeddings=corpus_embeddings,\n",
        "                        top_k=5)"
      ],
      "execution_count": 18,
      "outputs": [
        {
          "output_type": "stream",
          "name": "stdout",
          "text": [
            "\n",
            "\n",
            "======================\n",
            "\n",
            "\n",
            "Query: What is Data Science?\n",
            "\n",
            "Top 5 most similar sentences in corpus:\n",
            "What is data science (score: 0.9840)\n",
            "What is actually a data science? (score: 0.9609)\n",
            "What does a data scientist do? (score: 0.8919)\n",
            "What is big data science? (score: 0.8633)\n",
            "What is the difference between data science and data analysis? (score: 0.7723)\n"
          ]
        }
      ]
    },
    {
      "cell_type": "code",
      "metadata": {
        "id": "I1Sse303SloA",
        "colab": {
          "base_uri": "https://localhost:8080/"
        },
        "outputId": "4bd315dc-3aa5-4ae2-eabe-2308c7572adf"
      },
      "source": [
        "s = 'What is natural language processing?'\n",
        "print_similar_sentences(queries=[s],\n",
        "                        model_embedder=embedder, \n",
        "                        corpus_embeddings=corpus_embeddings,\n",
        "                        top_k=5)"
      ],
      "execution_count": 19,
      "outputs": [
        {
          "output_type": "stream",
          "name": "stdout",
          "text": [
            "\n",
            "\n",
            "======================\n",
            "\n",
            "\n",
            "Query: What is natural language processing?\n",
            "\n",
            "Top 5 most similar sentences in corpus:\n",
            "How does natural language processing work? (score: 0.9242)\n",
            "Which are the best schools for studying natural language processing? (score: 0.6843)\n",
            "What is the english word for \"अंत्योदय\"? (score: 0.6685)\n",
            "What are natural numbers? (score: 0.6590)\n",
            "Who owns Natural Factors? (score: 0.6589)\n"
          ]
        }
      ]
    },
    {
      "cell_type": "code",
      "metadata": {
        "id": "yTaLBUMpS7lc",
        "colab": {
          "base_uri": "https://localhost:8080/"
        },
        "outputId": "a2d934aa-83d2-4557-b9bd-c08856cfbb8c"
      },
      "source": [
        "s = ['Best Harry Potter Movie?','What is the best smartphone?','What is the best starter pokemon?','Batman or Superman?']\n",
        "\n",
        "print_similar_sentences(queries=s,\n",
        "                        model_embedder=embedder, \n",
        "                        corpus_embeddings=corpus_embeddings,\n",
        "                        top_k=5)"
      ],
      "execution_count": 20,
      "outputs": [
        {
          "output_type": "stream",
          "name": "stdout",
          "text": [
            "\n",
            "\n",
            "======================\n",
            "\n",
            "\n",
            "Query: Best Harry Potter Movie?\n",
            "\n",
            "Top 5 most similar sentences in corpus:\n",
            "Which Harry Potter movie is the best? (score: 0.9560)\n",
            "Which is the best Harry Potter movie? (score: 0.9456)\n",
            "Which is your favourite Harry Potter movie and why? (score: 0.8769)\n",
            "Where were the Harry Potter movies shot? (score: 0.8664)\n",
            "Where was Harry Potter filmed? (score: 0.8336)\n",
            "\n",
            "\n",
            "======================\n",
            "\n",
            "\n",
            "Query: What is the best smartphone?\n",
            "\n",
            "Top 5 most similar sentences in corpus:\n",
            "What are the best smartphones? (score: 0.9829)\n",
            "What are the best smartphones? (score: 0.9829)\n",
            "What is the best smartphone to date? (score: 0.9759)\n",
            "What are the best Smartphones tech gadgets? (score: 0.9262)\n",
            "Which is the best smartphone to buy now? (score: 0.9253)\n",
            "\n",
            "\n",
            "======================\n",
            "\n",
            "\n",
            "Query: What is the best starter pokemon?\n",
            "\n",
            "Top 5 most similar sentences in corpus:\n",
            "How do you choose the right starter pokemon in any game? (score: 0.8680)\n",
            "What is the best Pokemon GO hack? (score: 0.7935)\n",
            "Which set of starter Pokemon would you choose considering all generations and why? (score: 0.7794)\n",
            "What are the best Pokemon hacks? (score: 0.7574)\n",
            "Which Pokemon evolve with Shiny Stones? (score: 0.7405)\n",
            "\n",
            "\n",
            "======================\n",
            "\n",
            "\n",
            "Query: Batman or Superman?\n",
            "\n",
            "Top 5 most similar sentences in corpus:\n",
            "Why does Batman kill in Batman v Superman? (score: 0.7654)\n",
            "What does Batman do? (score: 0.7581)\n",
            "Is Batman insane? (score: 0.7382)\n",
            "Superheroes: Who would win in a fight between Batman and the Flash? (score: 0.7381)\n",
            "Who would win Batman vs Batman? (score: 0.7156)\n"
          ]
        }
      ]
    }
  ]
}