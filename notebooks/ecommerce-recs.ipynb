{
  "nbformat": 4,
  "nbformat_minor": 0,
  "metadata": {
    "colab": {
      "name": "Predicting_E_Commerce_Product_Recommendations_Jason.ipynb",
      "provenance": [],
      "collapsed_sections": []
    },
    "kernelspec": {
      "name": "python3",
      "display_name": "Python 3"
    },
    "language_info": {
      "name": "python"
    }
  },
  "cells": [
    {
      "cell_type": "markdown",
      "source": [
        "# __Predicting E-Commerce Product Recommendations__\n",
        "\n",
        "__Background:__\n",
        "This is a NLP problem dealing with data from an e-commerce store focusing on women's clothing. Each record in the dataset is a customer review which consists of the review title, text description and a rating (ranging from 1 - 5) for a product amongst other features. Because this is real commercial data, it has been anonymized, and references to the company in the review text and body have been replaced with “retailer”.\n",
        "\n",
        "<br/>\n",
        "\n",
        "__Main Objective:__ \n",
        "\n",
        "Leverage the review text attributes amongst other structured features to build a supervised predictive model to predict if the product is recommended by the customer or not (1 or 0) based on the given attributes (and derived features)\n",
        "\n",
        "<br/>\n",
        "\n",
        "__Objectives for the project:__\n",
        "\n",
        "- Phase 1: Data Retrieval and Understanding\n",
        "- Phase 2: Basic Exploratory Data Analysis\n",
        "- Phase 3: Feature Engineering and Modeling\n",
        "- Phase 4: Evaluation, Insights, Recommendations and Report\n"
      ],
      "metadata": {
        "id": "X1N9LdscwCTT"
      }
    },
    {
      "cell_type": "markdown",
      "source": [
        ""
      ],
      "metadata": {
        "id": "A-jIAMcJwB1E"
      }
    },
    {
      "cell_type": "markdown",
      "source": [
        "### Phase 1: Data Retrieval and Understanding"
      ],
      "metadata": {
        "id": "YwKjzhr_0klg"
      }
    },
    {
      "cell_type": "code",
      "source": [
        "#Load up basic dependencies\n",
        "import numpy as np\n",
        "import pandas as pd"
      ],
      "metadata": {
        "id": "vpZ9N5Y20vEX"
      },
      "execution_count": 1,
      "outputs": []
    },
    {
      "cell_type": "code",
      "source": [
        "#Load the dataset\n",
        "df = pd.read_csv('https://github.com/dipanjanS/text-analytics-with-python/raw/master/media/Womens%20Clothing%20E-Commerce%20Reviews%20-%20NLP.csv', keep_default_na=False)\n",
        "df.head()"
      ],
      "metadata": {
        "colab": {
          "base_uri": "https://localhost:8080/",
          "height": 206
        },
        "id": "wxZIeyNa005B",
        "outputId": "f8aef302-d3d6-4348-d270-40579162e6a1"
      },
      "execution_count": 2,
      "outputs": [
        {
          "output_type": "execute_result",
          "data": {
            "text/html": [
              "\n",
              "  <div id=\"df-b19b9ef9-8804-487b-9811-87be5a6bc792\">\n",
              "    <div class=\"colab-df-container\">\n",
              "      <div>\n",
              "<style scoped>\n",
              "    .dataframe tbody tr th:only-of-type {\n",
              "        vertical-align: middle;\n",
              "    }\n",
              "\n",
              "    .dataframe tbody tr th {\n",
              "        vertical-align: top;\n",
              "    }\n",
              "\n",
              "    .dataframe thead th {\n",
              "        text-align: right;\n",
              "    }\n",
              "</style>\n",
              "<table border=\"1\" class=\"dataframe\">\n",
              "  <thead>\n",
              "    <tr style=\"text-align: right;\">\n",
              "      <th></th>\n",
              "      <th>Clothing ID</th>\n",
              "      <th>Age</th>\n",
              "      <th>Title</th>\n",
              "      <th>Review Text</th>\n",
              "      <th>Rating</th>\n",
              "      <th>Recommended IND</th>\n",
              "      <th>Positive Feedback Count</th>\n",
              "      <th>Division Name</th>\n",
              "      <th>Department Name</th>\n",
              "      <th>Class Name</th>\n",
              "    </tr>\n",
              "  </thead>\n",
              "  <tbody>\n",
              "    <tr>\n",
              "      <th>0</th>\n",
              "      <td>767</td>\n",
              "      <td>33</td>\n",
              "      <td></td>\n",
              "      <td>Absolutely wonderful - silky and sexy and comf...</td>\n",
              "      <td>4</td>\n",
              "      <td>1</td>\n",
              "      <td>0</td>\n",
              "      <td>Initmates</td>\n",
              "      <td>Intimate</td>\n",
              "      <td>Intimates</td>\n",
              "    </tr>\n",
              "    <tr>\n",
              "      <th>1</th>\n",
              "      <td>1080</td>\n",
              "      <td>34</td>\n",
              "      <td></td>\n",
              "      <td>Love this dress!  it's sooo pretty.  i happene...</td>\n",
              "      <td>5</td>\n",
              "      <td>1</td>\n",
              "      <td>4</td>\n",
              "      <td>General</td>\n",
              "      <td>Dresses</td>\n",
              "      <td>Dresses</td>\n",
              "    </tr>\n",
              "    <tr>\n",
              "      <th>2</th>\n",
              "      <td>1077</td>\n",
              "      <td>60</td>\n",
              "      <td>Some major design flaws</td>\n",
              "      <td>I had such high hopes for this dress and reall...</td>\n",
              "      <td>3</td>\n",
              "      <td>0</td>\n",
              "      <td>0</td>\n",
              "      <td>General</td>\n",
              "      <td>Dresses</td>\n",
              "      <td>Dresses</td>\n",
              "    </tr>\n",
              "    <tr>\n",
              "      <th>3</th>\n",
              "      <td>1049</td>\n",
              "      <td>50</td>\n",
              "      <td>My favorite buy!</td>\n",
              "      <td>I love, love, love this jumpsuit. it's fun, fl...</td>\n",
              "      <td>5</td>\n",
              "      <td>1</td>\n",
              "      <td>0</td>\n",
              "      <td>General Petite</td>\n",
              "      <td>Bottoms</td>\n",
              "      <td>Pants</td>\n",
              "    </tr>\n",
              "    <tr>\n",
              "      <th>4</th>\n",
              "      <td>847</td>\n",
              "      <td>47</td>\n",
              "      <td>Flattering shirt</td>\n",
              "      <td>This shirt is very flattering to all due to th...</td>\n",
              "      <td>5</td>\n",
              "      <td>1</td>\n",
              "      <td>6</td>\n",
              "      <td>General</td>\n",
              "      <td>Tops</td>\n",
              "      <td>Blouses</td>\n",
              "    </tr>\n",
              "  </tbody>\n",
              "</table>\n",
              "</div>\n",
              "      <button class=\"colab-df-convert\" onclick=\"convertToInteractive('df-b19b9ef9-8804-487b-9811-87be5a6bc792')\"\n",
              "              title=\"Convert this dataframe to an interactive table.\"\n",
              "              style=\"display:none;\">\n",
              "        \n",
              "  <svg xmlns=\"http://www.w3.org/2000/svg\" height=\"24px\"viewBox=\"0 0 24 24\"\n",
              "       width=\"24px\">\n",
              "    <path d=\"M0 0h24v24H0V0z\" fill=\"none\"/>\n",
              "    <path d=\"M18.56 5.44l.94 2.06.94-2.06 2.06-.94-2.06-.94-.94-2.06-.94 2.06-2.06.94zm-11 1L8.5 8.5l.94-2.06 2.06-.94-2.06-.94L8.5 2.5l-.94 2.06-2.06.94zm10 10l.94 2.06.94-2.06 2.06-.94-2.06-.94-.94-2.06-.94 2.06-2.06.94z\"/><path d=\"M17.41 7.96l-1.37-1.37c-.4-.4-.92-.59-1.43-.59-.52 0-1.04.2-1.43.59L10.3 9.45l-7.72 7.72c-.78.78-.78 2.05 0 2.83L4 21.41c.39.39.9.59 1.41.59.51 0 1.02-.2 1.41-.59l7.78-7.78 2.81-2.81c.8-.78.8-2.07 0-2.86zM5.41 20L4 18.59l7.72-7.72 1.47 1.35L5.41 20z\"/>\n",
              "  </svg>\n",
              "      </button>\n",
              "      \n",
              "  <style>\n",
              "    .colab-df-container {\n",
              "      display:flex;\n",
              "      flex-wrap:wrap;\n",
              "      gap: 12px;\n",
              "    }\n",
              "\n",
              "    .colab-df-convert {\n",
              "      background-color: #E8F0FE;\n",
              "      border: none;\n",
              "      border-radius: 50%;\n",
              "      cursor: pointer;\n",
              "      display: none;\n",
              "      fill: #1967D2;\n",
              "      height: 32px;\n",
              "      padding: 0 0 0 0;\n",
              "      width: 32px;\n",
              "    }\n",
              "\n",
              "    .colab-df-convert:hover {\n",
              "      background-color: #E2EBFA;\n",
              "      box-shadow: 0px 1px 2px rgba(60, 64, 67, 0.3), 0px 1px 3px 1px rgba(60, 64, 67, 0.15);\n",
              "      fill: #174EA6;\n",
              "    }\n",
              "\n",
              "    [theme=dark] .colab-df-convert {\n",
              "      background-color: #3B4455;\n",
              "      fill: #D2E3FC;\n",
              "    }\n",
              "\n",
              "    [theme=dark] .colab-df-convert:hover {\n",
              "      background-color: #434B5C;\n",
              "      box-shadow: 0px 1px 3px 1px rgba(0, 0, 0, 0.15);\n",
              "      filter: drop-shadow(0px 1px 2px rgba(0, 0, 0, 0.3));\n",
              "      fill: #FFFFFF;\n",
              "    }\n",
              "  </style>\n",
              "\n",
              "      <script>\n",
              "        const buttonEl =\n",
              "          document.querySelector('#df-b19b9ef9-8804-487b-9811-87be5a6bc792 button.colab-df-convert');\n",
              "        buttonEl.style.display =\n",
              "          google.colab.kernel.accessAllowed ? 'block' : 'none';\n",
              "\n",
              "        async function convertToInteractive(key) {\n",
              "          const element = document.querySelector('#df-b19b9ef9-8804-487b-9811-87be5a6bc792');\n",
              "          const dataTable =\n",
              "            await google.colab.kernel.invokeFunction('convertToInteractive',\n",
              "                                                     [key], {});\n",
              "          if (!dataTable) return;\n",
              "\n",
              "          const docLinkHtml = 'Like what you see? Visit the ' +\n",
              "            '<a target=\"_blank\" href=https://colab.research.google.com/notebooks/data_table.ipynb>data table notebook</a>'\n",
              "            + ' to learn more about interactive tables.';\n",
              "          element.innerHTML = '';\n",
              "          dataTable['output_type'] = 'display_data';\n",
              "          await google.colab.output.renderOutput(dataTable, element);\n",
              "          const docLink = document.createElement('div');\n",
              "          docLink.innerHTML = docLinkHtml;\n",
              "          element.appendChild(docLink);\n",
              "        }\n",
              "      </script>\n",
              "    </div>\n",
              "  </div>\n",
              "  "
            ],
            "text/plain": [
              "   Clothing ID  Age  ... Department Name Class Name\n",
              "0          767   33  ...        Intimate  Intimates\n",
              "1         1080   34  ...         Dresses    Dresses\n",
              "2         1077   60  ...         Dresses    Dresses\n",
              "3         1049   50  ...         Bottoms      Pants\n",
              "4          847   47  ...            Tops    Blouses\n",
              "\n",
              "[5 rows x 10 columns]"
            ]
          },
          "metadata": {},
          "execution_count": 2
        }
      ]
    },
    {
      "cell_type": "code",
      "source": [
        "#check dataset details\n",
        "df.shape"
      ],
      "metadata": {
        "colab": {
          "base_uri": "https://localhost:8080/"
        },
        "id": "SZJN-FxU09F2",
        "outputId": "dd9a108e-5431-4e79-abdd-97a78d41a157"
      },
      "execution_count": 3,
      "outputs": [
        {
          "output_type": "execute_result",
          "data": {
            "text/plain": [
              "(23486, 10)"
            ]
          },
          "metadata": {},
          "execution_count": 3
        }
      ]
    },
    {
      "cell_type": "markdown",
      "source": [
        "This dataset includes 23486 rows and 10 columns (features).\n",
        "\n",
        "Each row corresponds to a customer review, and includes the features:\n",
        "\n",
        "\n",
        "*   Clothing ID: Integer Categorical variable that refers to the specific    piece being reviewed.\n",
        "*   Age: Positive Integer variable of the reviewers age.\n",
        "*   Title: String variable for the title of the review.\n",
        "*   Review Text: String variable for the review body.\n",
        "*   Rating: Positive Ordinal Integer variable for the product score granted by the customer from 1 Worst, to 5 Best.\n",
        "*   Recommended IND: Binary variable stating where the customer recommends the product where 1 is recommended, 0 is not recommended.\n",
        "*   Positive Feedback Count: Positive Integer documenting the number of other customers who found this review positive.\n",
        "*   Division Name: Categorical name of the product high level division.\n",
        "*   Department Name: Categorical name of the product department name.\n",
        "*   Class Name: Categorical name of the product class name.\n",
        "\n",
        "\n",
        "\n",
        "\n",
        "\n",
        "\n",
        "\n",
        "\n",
        "\n",
        "\n",
        "\n",
        "\n",
        "\n"
      ],
      "metadata": {
        "id": "EC8Du3uc1JK0"
      }
    },
    {
      "cell_type": "code",
      "source": [
        "#information about the dataframe\n",
        "df.info()"
      ],
      "metadata": {
        "colab": {
          "base_uri": "https://localhost:8080/"
        },
        "id": "dLAvF9d-1Euv",
        "outputId": "28cac047-3b73-4a21-dffd-d059e9b5eb52"
      },
      "execution_count": 4,
      "outputs": [
        {
          "output_type": "stream",
          "name": "stdout",
          "text": [
            "<class 'pandas.core.frame.DataFrame'>\n",
            "RangeIndex: 23486 entries, 0 to 23485\n",
            "Data columns (total 10 columns):\n",
            " #   Column                   Non-Null Count  Dtype \n",
            "---  ------                   --------------  ----- \n",
            " 0   Clothing ID              23486 non-null  int64 \n",
            " 1   Age                      23486 non-null  int64 \n",
            " 2   Title                    23486 non-null  object\n",
            " 3   Review Text              23486 non-null  object\n",
            " 4   Rating                   23486 non-null  int64 \n",
            " 5   Recommended IND          23486 non-null  int64 \n",
            " 6   Positive Feedback Count  23486 non-null  int64 \n",
            " 7   Division Name            23486 non-null  object\n",
            " 8   Department Name          23486 non-null  object\n",
            " 9   Class Name               23486 non-null  object\n",
            "dtypes: int64(5), object(5)\n",
            "memory usage: 1.8+ MB\n"
          ]
        }
      ]
    },
    {
      "cell_type": "code",
      "source": [
        "#1. Basic Data Processing\n",
        "\n",
        "#Create \"Review\" column which conbine the \"Title\" and \"Review Text\" texts.\n",
        "df['Review'] = (df['Title'].map(str) +' '+ df['Review Text']).apply(lambda row: row.strip())\n",
        "#Remove 'Title' and 'Review Text' columns\n",
        "df_new = df.drop(columns = ['Title', 'Review Text'])\n",
        "#View dataframe\n",
        "df_new.head()"
      ],
      "metadata": {
        "colab": {
          "base_uri": "https://localhost:8080/",
          "height": 206
        },
        "id": "yd53LexA2FlX",
        "outputId": "8b59f768-b4e1-4e65-97c0-373d7b3e1b05"
      },
      "execution_count": 5,
      "outputs": [
        {
          "output_type": "execute_result",
          "data": {
            "text/html": [
              "\n",
              "  <div id=\"df-3a8f5984-5747-49f7-9961-b00ca2f6f424\">\n",
              "    <div class=\"colab-df-container\">\n",
              "      <div>\n",
              "<style scoped>\n",
              "    .dataframe tbody tr th:only-of-type {\n",
              "        vertical-align: middle;\n",
              "    }\n",
              "\n",
              "    .dataframe tbody tr th {\n",
              "        vertical-align: top;\n",
              "    }\n",
              "\n",
              "    .dataframe thead th {\n",
              "        text-align: right;\n",
              "    }\n",
              "</style>\n",
              "<table border=\"1\" class=\"dataframe\">\n",
              "  <thead>\n",
              "    <tr style=\"text-align: right;\">\n",
              "      <th></th>\n",
              "      <th>Clothing ID</th>\n",
              "      <th>Age</th>\n",
              "      <th>Rating</th>\n",
              "      <th>Recommended IND</th>\n",
              "      <th>Positive Feedback Count</th>\n",
              "      <th>Division Name</th>\n",
              "      <th>Department Name</th>\n",
              "      <th>Class Name</th>\n",
              "      <th>Review</th>\n",
              "    </tr>\n",
              "  </thead>\n",
              "  <tbody>\n",
              "    <tr>\n",
              "      <th>0</th>\n",
              "      <td>767</td>\n",
              "      <td>33</td>\n",
              "      <td>4</td>\n",
              "      <td>1</td>\n",
              "      <td>0</td>\n",
              "      <td>Initmates</td>\n",
              "      <td>Intimate</td>\n",
              "      <td>Intimates</td>\n",
              "      <td>Absolutely wonderful - silky and sexy and comf...</td>\n",
              "    </tr>\n",
              "    <tr>\n",
              "      <th>1</th>\n",
              "      <td>1080</td>\n",
              "      <td>34</td>\n",
              "      <td>5</td>\n",
              "      <td>1</td>\n",
              "      <td>4</td>\n",
              "      <td>General</td>\n",
              "      <td>Dresses</td>\n",
              "      <td>Dresses</td>\n",
              "      <td>Love this dress!  it's sooo pretty.  i happene...</td>\n",
              "    </tr>\n",
              "    <tr>\n",
              "      <th>2</th>\n",
              "      <td>1077</td>\n",
              "      <td>60</td>\n",
              "      <td>3</td>\n",
              "      <td>0</td>\n",
              "      <td>0</td>\n",
              "      <td>General</td>\n",
              "      <td>Dresses</td>\n",
              "      <td>Dresses</td>\n",
              "      <td>Some major design flaws I had such high hopes ...</td>\n",
              "    </tr>\n",
              "    <tr>\n",
              "      <th>3</th>\n",
              "      <td>1049</td>\n",
              "      <td>50</td>\n",
              "      <td>5</td>\n",
              "      <td>1</td>\n",
              "      <td>0</td>\n",
              "      <td>General Petite</td>\n",
              "      <td>Bottoms</td>\n",
              "      <td>Pants</td>\n",
              "      <td>My favorite buy! I love, love, love this jumps...</td>\n",
              "    </tr>\n",
              "    <tr>\n",
              "      <th>4</th>\n",
              "      <td>847</td>\n",
              "      <td>47</td>\n",
              "      <td>5</td>\n",
              "      <td>1</td>\n",
              "      <td>6</td>\n",
              "      <td>General</td>\n",
              "      <td>Tops</td>\n",
              "      <td>Blouses</td>\n",
              "      <td>Flattering shirt This shirt is very flattering...</td>\n",
              "    </tr>\n",
              "  </tbody>\n",
              "</table>\n",
              "</div>\n",
              "      <button class=\"colab-df-convert\" onclick=\"convertToInteractive('df-3a8f5984-5747-49f7-9961-b00ca2f6f424')\"\n",
              "              title=\"Convert this dataframe to an interactive table.\"\n",
              "              style=\"display:none;\">\n",
              "        \n",
              "  <svg xmlns=\"http://www.w3.org/2000/svg\" height=\"24px\"viewBox=\"0 0 24 24\"\n",
              "       width=\"24px\">\n",
              "    <path d=\"M0 0h24v24H0V0z\" fill=\"none\"/>\n",
              "    <path d=\"M18.56 5.44l.94 2.06.94-2.06 2.06-.94-2.06-.94-.94-2.06-.94 2.06-2.06.94zm-11 1L8.5 8.5l.94-2.06 2.06-.94-2.06-.94L8.5 2.5l-.94 2.06-2.06.94zm10 10l.94 2.06.94-2.06 2.06-.94-2.06-.94-.94-2.06-.94 2.06-2.06.94z\"/><path d=\"M17.41 7.96l-1.37-1.37c-.4-.4-.92-.59-1.43-.59-.52 0-1.04.2-1.43.59L10.3 9.45l-7.72 7.72c-.78.78-.78 2.05 0 2.83L4 21.41c.39.39.9.59 1.41.59.51 0 1.02-.2 1.41-.59l7.78-7.78 2.81-2.81c.8-.78.8-2.07 0-2.86zM5.41 20L4 18.59l7.72-7.72 1.47 1.35L5.41 20z\"/>\n",
              "  </svg>\n",
              "      </button>\n",
              "      \n",
              "  <style>\n",
              "    .colab-df-container {\n",
              "      display:flex;\n",
              "      flex-wrap:wrap;\n",
              "      gap: 12px;\n",
              "    }\n",
              "\n",
              "    .colab-df-convert {\n",
              "      background-color: #E8F0FE;\n",
              "      border: none;\n",
              "      border-radius: 50%;\n",
              "      cursor: pointer;\n",
              "      display: none;\n",
              "      fill: #1967D2;\n",
              "      height: 32px;\n",
              "      padding: 0 0 0 0;\n",
              "      width: 32px;\n",
              "    }\n",
              "\n",
              "    .colab-df-convert:hover {\n",
              "      background-color: #E2EBFA;\n",
              "      box-shadow: 0px 1px 2px rgba(60, 64, 67, 0.3), 0px 1px 3px 1px rgba(60, 64, 67, 0.15);\n",
              "      fill: #174EA6;\n",
              "    }\n",
              "\n",
              "    [theme=dark] .colab-df-convert {\n",
              "      background-color: #3B4455;\n",
              "      fill: #D2E3FC;\n",
              "    }\n",
              "\n",
              "    [theme=dark] .colab-df-convert:hover {\n",
              "      background-color: #434B5C;\n",
              "      box-shadow: 0px 1px 3px 1px rgba(0, 0, 0, 0.15);\n",
              "      filter: drop-shadow(0px 1px 2px rgba(0, 0, 0, 0.3));\n",
              "      fill: #FFFFFF;\n",
              "    }\n",
              "  </style>\n",
              "\n",
              "      <script>\n",
              "        const buttonEl =\n",
              "          document.querySelector('#df-3a8f5984-5747-49f7-9961-b00ca2f6f424 button.colab-df-convert');\n",
              "        buttonEl.style.display =\n",
              "          google.colab.kernel.accessAllowed ? 'block' : 'none';\n",
              "\n",
              "        async function convertToInteractive(key) {\n",
              "          const element = document.querySelector('#df-3a8f5984-5747-49f7-9961-b00ca2f6f424');\n",
              "          const dataTable =\n",
              "            await google.colab.kernel.invokeFunction('convertToInteractive',\n",
              "                                                     [key], {});\n",
              "          if (!dataTable) return;\n",
              "\n",
              "          const docLinkHtml = 'Like what you see? Visit the ' +\n",
              "            '<a target=\"_blank\" href=https://colab.research.google.com/notebooks/data_table.ipynb>data table notebook</a>'\n",
              "            + ' to learn more about interactive tables.';\n",
              "          element.innerHTML = '';\n",
              "          dataTable['output_type'] = 'display_data';\n",
              "          await google.colab.output.renderOutput(dataTable, element);\n",
              "          const docLink = document.createElement('div');\n",
              "          docLink.innerHTML = docLinkHtml;\n",
              "          element.appendChild(docLink);\n",
              "        }\n",
              "      </script>\n",
              "    </div>\n",
              "  </div>\n",
              "  "
            ],
            "text/plain": [
              "   Clothing ID  ...                                             Review\n",
              "0          767  ...  Absolutely wonderful - silky and sexy and comf...\n",
              "1         1080  ...  Love this dress!  it's sooo pretty.  i happene...\n",
              "2         1077  ...  Some major design flaws I had such high hopes ...\n",
              "3         1049  ...  My favorite buy! I love, love, love this jumps...\n",
              "4          847  ...  Flattering shirt This shirt is very flattering...\n",
              "\n",
              "[5 rows x 9 columns]"
            ]
          },
          "metadata": {},
          "execution_count": 5
        }
      ]
    },
    {
      "cell_type": "code",
      "source": [
        "#check any blank reviews(total row of black reviews)\n",
        "sum(df_new['Review']=='')"
      ],
      "metadata": {
        "colab": {
          "base_uri": "https://localhost:8080/"
        },
        "id": "D4V-mgfp2-QV",
        "outputId": "081fd4b2-8650-4e4b-a8bd-25ffbf2fc8f0"
      },
      "execution_count": 6,
      "outputs": [
        {
          "output_type": "execute_result",
          "data": {
            "text/plain": [
              "844"
            ]
          },
          "metadata": {},
          "execution_count": 6
        }
      ]
    },
    {
      "cell_type": "code",
      "source": [
        "#2. Remove all the blank Review\n",
        "df_new['Review'].replace('', np.nan, inplace = True)\n",
        "df_new.dropna(subset=['Review'], inplace = True)"
      ],
      "metadata": {
        "id": "GMSGk-aY39G2"
      },
      "execution_count": 7,
      "outputs": []
    },
    {
      "cell_type": "code",
      "source": [
        "df_new.info()"
      ],
      "metadata": {
        "colab": {
          "base_uri": "https://localhost:8080/"
        },
        "id": "NCa1kpX86uA3",
        "outputId": "93b0ea9f-59e5-4941-bcde-dab7a026b866"
      },
      "execution_count": 8,
      "outputs": [
        {
          "output_type": "stream",
          "name": "stdout",
          "text": [
            "<class 'pandas.core.frame.DataFrame'>\n",
            "Int64Index: 22642 entries, 0 to 23485\n",
            "Data columns (total 9 columns):\n",
            " #   Column                   Non-Null Count  Dtype \n",
            "---  ------                   --------------  ----- \n",
            " 0   Clothing ID              22642 non-null  int64 \n",
            " 1   Age                      22642 non-null  int64 \n",
            " 2   Rating                   22642 non-null  int64 \n",
            " 3   Recommended IND          22642 non-null  int64 \n",
            " 4   Positive Feedback Count  22642 non-null  int64 \n",
            " 5   Division Name            22642 non-null  object\n",
            " 6   Department Name          22642 non-null  object\n",
            " 7   Class Name               22642 non-null  object\n",
            " 8   Review                   22642 non-null  object\n",
            "dtypes: int64(5), object(4)\n",
            "memory usage: 1.7+ MB\n"
          ]
        }
      ]
    },
    {
      "cell_type": "markdown",
      "source": [
        "# ___Phase 2: Exploratory Data Analysis___\n",
        "\n",
        "\n",
        "\n",
        "\n"
      ],
      "metadata": {
        "id": "rFFxUDhv9s4w"
      }
    },
    {
      "cell_type": "code",
      "source": [
        "#lookat the number of products recommended and not recommended by customers\n",
        "import seaborn as sns\n",
        "import matplotlib.pyplot as plt\n",
        "sns.set_style('whitegrid')\n",
        "plt.figure(figsize = (6,6))\n",
        "sns.countplot( data= df_new, x= 'Recommended IND', color ='navy', alpha = 0.75);\n"
      ],
      "metadata": {
        "colab": {
          "base_uri": "https://localhost:8080/",
          "height": 388
        },
        "id": "wGdg53HQ9LI2",
        "outputId": "b767f26f-437e-41ef-a776-9e6f18793c2e"
      },
      "execution_count": 9,
      "outputs": [
        {
          "output_type": "display_data",
          "data": {
            "image/png": "[encoded data removed]",
            "text/plain": [
              "<Figure size 432x432 with 1 Axes>"
            ]
          },
          "metadata": {}
        }
      ]
    },
    {
      "cell_type": "code",
      "source": [
        "#Show distribution on ratings\n",
        "plt.figure(figsize = (8,6))\n",
        "sns.countplot( data= df_new, x= 'Rating',  alpha = 0.75);"
      ],
      "metadata": {
        "colab": {
          "base_uri": "https://localhost:8080/",
          "height": 388
        },
        "id": "eG5thq8NEVk_",
        "outputId": "c30684cb-4646-4c24-d428-3704cec7f3d4"
      },
      "execution_count": 10,
      "outputs": [
        {
          "output_type": "display_data",
          "data": {
            "image/png": "[encoded data removed]",
            "text/plain": [
              "<Figure size 576x432 with 1 Axes>"
            ]
          },
          "metadata": {}
        }
      ]
    },
    {
      "cell_type": "code",
      "source": [
        "#Ratings vs. Recommendations\n",
        "plt.figure(figsize=(10, 6))\n",
        "sns.countplot(x='Rating', hue='Recommended IND', data=df_new);"
      ],
      "metadata": {
        "colab": {
          "base_uri": "https://localhost:8080/",
          "height": 388
        },
        "id": "ZY934cVyE5rA",
        "outputId": "3a1e732f-4d65-4adb-ab83-bf454d34b3a8"
      },
      "execution_count": 11,
      "outputs": [
        {
          "output_type": "display_data",
          "data": {
            "image/png": "[encoded data removed]",
            "text/plain": [
              "<Figure size 720x432 with 1 Axes>"
            ]
          },
          "metadata": {}
        }
      ]
    },
    {
      "cell_type": "markdown",
      "source": [
        "This makes it clear that low ratings (1-2) lead to customers not recommending products and high ratings (4-5) lead to customers recommending products.\n",
        "It shows the exmple of data\\target leakage in machine learning where we want to predict a vriable using other features, but there are features like 'Rating' which indirectly relate strongly to 'Recommendation'\n",
        "\n",
        "So it is better to drop the column to build an unbiased predictive model. "
      ],
      "metadata": {
        "id": "HVRamagTyiWK"
      }
    },
    {
      "cell_type": "markdown",
      "source": [
        "We have to drop the 'Rating' features which indirectly relate very strongly to 'Recommendation', to predict a variable(Recommended) using other features with being an unbiased predictive model. "
      ],
      "metadata": {
        "id": "7QrezxppHHA7"
      }
    },
    {
      "cell_type": "code",
      "source": [
        "#Drop the rating column\n",
        "df_no_rating = df_new.drop(columns='Rating')\n",
        "df_no_rating.head(4)"
      ],
      "metadata": {
        "colab": {
          "base_uri": "https://localhost:8080/",
          "height": 175
        },
        "id": "A-VT8we-Gllh",
        "outputId": "8f278bf6-ad9d-47a5-aeb9-161635d9186b"
      },
      "execution_count": 12,
      "outputs": [
        {
          "output_type": "execute_result",
          "data": {
            "text/html": [
              "\n",
              "  <div id=\"df-fbc3a19f-60c9-4f61-9606-f4ca3e72d99c\">\n",
              "    <div class=\"colab-df-container\">\n",
              "      <div>\n",
              "<style scoped>\n",
              "    .dataframe tbody tr th:only-of-type {\n",
              "        vertical-align: middle;\n",
              "    }\n",
              "\n",
              "    .dataframe tbody tr th {\n",
              "        vertical-align: top;\n",
              "    }\n",
              "\n",
              "    .dataframe thead th {\n",
              "        text-align: right;\n",
              "    }\n",
              "</style>\n",
              "<table border=\"1\" class=\"dataframe\">\n",
              "  <thead>\n",
              "    <tr style=\"text-align: right;\">\n",
              "      <th></th>\n",
              "      <th>Clothing ID</th>\n",
              "      <th>Age</th>\n",
              "      <th>Recommended IND</th>\n",
              "      <th>Positive Feedback Count</th>\n",
              "      <th>Division Name</th>\n",
              "      <th>Department Name</th>\n",
              "      <th>Class Name</th>\n",
              "      <th>Review</th>\n",
              "    </tr>\n",
              "  </thead>\n",
              "  <tbody>\n",
              "    <tr>\n",
              "      <th>0</th>\n",
              "      <td>767</td>\n",
              "      <td>33</td>\n",
              "      <td>1</td>\n",
              "      <td>0</td>\n",
              "      <td>Initmates</td>\n",
              "      <td>Intimate</td>\n",
              "      <td>Intimates</td>\n",
              "      <td>Absolutely wonderful - silky and sexy and comf...</td>\n",
              "    </tr>\n",
              "    <tr>\n",
              "      <th>1</th>\n",
              "      <td>1080</td>\n",
              "      <td>34</td>\n",
              "      <td>1</td>\n",
              "      <td>4</td>\n",
              "      <td>General</td>\n",
              "      <td>Dresses</td>\n",
              "      <td>Dresses</td>\n",
              "      <td>Love this dress!  it's sooo pretty.  i happene...</td>\n",
              "    </tr>\n",
              "    <tr>\n",
              "      <th>2</th>\n",
              "      <td>1077</td>\n",
              "      <td>60</td>\n",
              "      <td>0</td>\n",
              "      <td>0</td>\n",
              "      <td>General</td>\n",
              "      <td>Dresses</td>\n",
              "      <td>Dresses</td>\n",
              "      <td>Some major design flaws I had such high hopes ...</td>\n",
              "    </tr>\n",
              "    <tr>\n",
              "      <th>3</th>\n",
              "      <td>1049</td>\n",
              "      <td>50</td>\n",
              "      <td>1</td>\n",
              "      <td>0</td>\n",
              "      <td>General Petite</td>\n",
              "      <td>Bottoms</td>\n",
              "      <td>Pants</td>\n",
              "      <td>My favorite buy! I love, love, love this jumps...</td>\n",
              "    </tr>\n",
              "  </tbody>\n",
              "</table>\n",
              "</div>\n",
              "      <button class=\"colab-df-convert\" onclick=\"convertToInteractive('df-fbc3a19f-60c9-4f61-9606-f4ca3e72d99c')\"\n",
              "              title=\"Convert this dataframe to an interactive table.\"\n",
              "              style=\"display:none;\">\n",
              "        \n",
              "  <svg xmlns=\"http://www.w3.org/2000/svg\" height=\"24px\"viewBox=\"0 0 24 24\"\n",
              "       width=\"24px\">\n",
              "    <path d=\"M0 0h24v24H0V0z\" fill=\"none\"/>\n",
              "    <path d=\"M18.56 5.44l.94 2.06.94-2.06 2.06-.94-2.06-.94-.94-2.06-.94 2.06-2.06.94zm-11 1L8.5 8.5l.94-2.06 2.06-.94-2.06-.94L8.5 2.5l-.94 2.06-2.06.94zm10 10l.94 2.06.94-2.06 2.06-.94-2.06-.94-.94-2.06-.94 2.06-2.06.94z\"/><path d=\"M17.41 7.96l-1.37-1.37c-.4-.4-.92-.59-1.43-.59-.52 0-1.04.2-1.43.59L10.3 9.45l-7.72 7.72c-.78.78-.78 2.05 0 2.83L4 21.41c.39.39.9.59 1.41.59.51 0 1.02-.2 1.41-.59l7.78-7.78 2.81-2.81c.8-.78.8-2.07 0-2.86zM5.41 20L4 18.59l7.72-7.72 1.47 1.35L5.41 20z\"/>\n",
              "  </svg>\n",
              "      </button>\n",
              "      \n",
              "  <style>\n",
              "    .colab-df-container {\n",
              "      display:flex;\n",
              "      flex-wrap:wrap;\n",
              "      gap: 12px;\n",
              "    }\n",
              "\n",
              "    .colab-df-convert {\n",
              "      background-color: #E8F0FE;\n",
              "      border: none;\n",
              "      border-radius: 50%;\n",
              "      cursor: pointer;\n",
              "      display: none;\n",
              "      fill: #1967D2;\n",
              "      height: 32px;\n",
              "      padding: 0 0 0 0;\n",
              "      width: 32px;\n",
              "    }\n",
              "\n",
              "    .colab-df-convert:hover {\n",
              "      background-color: #E2EBFA;\n",
              "      box-shadow: 0px 1px 2px rgba(60, 64, 67, 0.3), 0px 1px 3px 1px rgba(60, 64, 67, 0.15);\n",
              "      fill: #174EA6;\n",
              "    }\n",
              "\n",
              "    [theme=dark] .colab-df-convert {\n",
              "      background-color: #3B4455;\n",
              "      fill: #D2E3FC;\n",
              "    }\n",
              "\n",
              "    [theme=dark] .colab-df-convert:hover {\n",
              "      background-color: #434B5C;\n",
              "      box-shadow: 0px 1px 3px 1px rgba(0, 0, 0, 0.15);\n",
              "      filter: drop-shadow(0px 1px 2px rgba(0, 0, 0, 0.3));\n",
              "      fill: #FFFFFF;\n",
              "    }\n",
              "  </style>\n",
              "\n",
              "      <script>\n",
              "        const buttonEl =\n",
              "          document.querySelector('#df-fbc3a19f-60c9-4f61-9606-f4ca3e72d99c button.colab-df-convert');\n",
              "        buttonEl.style.display =\n",
              "          google.colab.kernel.accessAllowed ? 'block' : 'none';\n",
              "\n",
              "        async function convertToInteractive(key) {\n",
              "          const element = document.querySelector('#df-fbc3a19f-60c9-4f61-9606-f4ca3e72d99c');\n",
              "          const dataTable =\n",
              "            await google.colab.kernel.invokeFunction('convertToInteractive',\n",
              "                                                     [key], {});\n",
              "          if (!dataTable) return;\n",
              "\n",
              "          const docLinkHtml = 'Like what you see? Visit the ' +\n",
              "            '<a target=\"_blank\" href=https://colab.research.google.com/notebooks/data_table.ipynb>data table notebook</a>'\n",
              "            + ' to learn more about interactive tables.';\n",
              "          element.innerHTML = '';\n",
              "          dataTable['output_type'] = 'display_data';\n",
              "          await google.colab.output.renderOutput(dataTable, element);\n",
              "          const docLink = document.createElement('div');\n",
              "          docLink.innerHTML = docLinkHtml;\n",
              "          element.appendChild(docLink);\n",
              "        }\n",
              "      </script>\n",
              "    </div>\n",
              "  </div>\n",
              "  "
            ],
            "text/plain": [
              "   Clothing ID  ...                                             Review\n",
              "0          767  ...  Absolutely wonderful - silky and sexy and comf...\n",
              "1         1080  ...  Love this dress!  it's sooo pretty.  i happene...\n",
              "2         1077  ...  Some major design flaws I had such high hopes ...\n",
              "3         1049  ...  My favorite buy! I love, love, love this jumps...\n",
              "\n",
              "[4 rows x 8 columns]"
            ]
          },
          "metadata": {},
          "execution_count": 12
        }
      ]
    },
    {
      "cell_type": "code",
      "source": [
        "#View the distribution on product class name\n",
        "plt.figure(figsize = (8,6))\n",
        "sns.countplot(y = 'Class Name', data= df_no_rating, color='navy', alpha = 0.75);"
      ],
      "metadata": {
        "colab": {
          "base_uri": "https://localhost:8080/",
          "height": 388
        },
        "id": "EO6v1iS4IGhR",
        "outputId": "984c5c8f-97db-449f-99e2-129df7a2832e"
      },
      "execution_count": 13,
      "outputs": [
        {
          "output_type": "display_data",
          "data": {
            "image/png": "[encoded data removed]",
            "text/plain": [
              "<Figure size 576x432 with 1 Axes>"
            ]
          },
          "metadata": {}
        }
      ]
    },
    {
      "cell_type": "code",
      "source": [
        "#View the distribituion based on Department Name\n",
        "plt.figure(figsize=(8,6))\n",
        "sns.countplot(y = 'Department Name', data=df_no_rating, alpha =0.6);"
      ],
      "metadata": {
        "colab": {
          "base_uri": "https://localhost:8080/",
          "height": 388
        },
        "id": "tvSVUvPHIuK5",
        "outputId": "86b545c7-1467-4d9e-af87-ef3fe6f669ec"
      },
      "execution_count": 14,
      "outputs": [
        {
          "output_type": "display_data",
          "data": {
            "image/png": "[encoded data removed]",
            "text/plain": [
              "<Figure size 576x432 with 1 Axes>"
            ]
          },
          "metadata": {}
        }
      ]
    },
    {
      "cell_type": "code",
      "source": [
        "#Viewing histogram distributions for Age on Reviews\n",
        "plt.figure(figsize= (8,6))\n",
        "sns.histplot(x = 'Age', bins = 30, data =df_no_rating);"
      ],
      "metadata": {
        "colab": {
          "base_uri": "https://localhost:8080/",
          "height": 388
        },
        "id": "BLxDRV5EJaXC",
        "outputId": "0b1b9f80-8300-4f10-829f-9fee19d5fb75"
      },
      "execution_count": 15,
      "outputs": [
        {
          "output_type": "display_data",
          "data": {
            "image/png": "[encoded data removed]",
            "text/plain": [
              "<Figure size 576x432 with 1 Axes>"
            ]
          },
          "metadata": {}
        }
      ]
    },
    {
      "cell_type": "code",
      "source": [
        "#Viewing histogram distributions for 'Positive Feedback Count' on Reviews\n",
        "plt.figure(figsize= (8,6))\n",
        "sns.histplot(x = 'Positive Feedback Count', bins = 100, data =df_no_rating);"
      ],
      "metadata": {
        "colab": {
          "base_uri": "https://localhost:8080/",
          "height": 388
        },
        "id": "XUub6QL7J2nh",
        "outputId": "8115a70f-e808-46c9-d790-9e6db695ceca"
      },
      "execution_count": 16,
      "outputs": [
        {
          "output_type": "display_data",
          "data": {
            "image/png": "[encoded data removed]",
            "text/plain": [
              "<Figure size 576x432 with 1 Axes>"
            ]
          },
          "metadata": {}
        }
      ]
    },
    {
      "cell_type": "code",
      "source": [
        "# top 10 product IDs reviewed by customers\n",
        "plt.figure(figsize=(10, 6))\n",
        "sns.countplot(y='Clothing ID', data=df_new, color='navy', \n",
        "              order=df_no_rating['Clothing ID'].value_counts().iloc[:10].index);"
      ],
      "metadata": {
        "colab": {
          "base_uri": "https://localhost:8080/",
          "height": 388
        },
        "id": "5ThGt_PkKGPh",
        "outputId": "9d79b7cd-0ec2-4ac4-d340-488d73a28520"
      },
      "execution_count": 17,
      "outputs": [
        {
          "output_type": "display_data",
          "data": {
            "image/png": "[encoded data removed]",
            "text/plain": [
              "<Figure size 720x432 with 1 Axes>"
            ]
          },
          "metadata": {}
        }
      ]
    },
    {
      "cell_type": "code",
      "source": [
        "##Top 10 product's recommendation\n",
        "plt.figure(figsize=(10, 6))\n",
        "sns.countplot(y='Clothing ID', hue='Recommended IND', data=df_no_rating, \n",
        "              order = df_no_rating['Clothing ID'].value_counts().iloc[:10].index);"
      ],
      "metadata": {
        "colab": {
          "base_uri": "https://localhost:8080/",
          "height": 388
        },
        "id": "UPGKJygjaFFu",
        "outputId": "881e0da2-b8b4-4d94-8c1a-cb7c4e7ca7f3"
      },
      "execution_count": 19,
      "outputs": [
        {
          "output_type": "display_data",
          "data": {
            "image/png": "[encoded data removed]",
            "text/plain": [
              "<Figure size 720x432 with 1 Axes>"
            ]
          },
          "metadata": {}
        }
      ]
    },
    {
      "cell_type": "code",
      "source": [
        "#compute the length of each review and visualize it\n",
        "feature_col = 'Review'\n",
        "df_no_rating['len_review']= df_no_rating[feature_col].apply(len)\n",
        "plt.figure(figsize = (8,6))\n",
        "sns.histplot(x= 'len_review', data = df_no_rating, bins = 50)"
      ],
      "metadata": {
        "colab": {
          "base_uri": "https://localhost:8080/",
          "height": 406
        },
        "id": "yJKgWOH_b1sd",
        "outputId": "2a6880d8-ec6c-4050-c839-b9b7544b9db9"
      },
      "execution_count": 20,
      "outputs": [
        {
          "output_type": "execute_result",
          "data": {
            "text/plain": [
              "<matplotlib.axes._subplots.AxesSubplot at 0x7f703b8ffe10>"
            ]
          },
          "metadata": {},
          "execution_count": 20
        },
        {
          "output_type": "display_data",
          "data": {
            "image/png": "[encoded data removed]",
            "text/plain": [
              "<Figure size 576x432 with 1 Axes>"
            ]
          },
          "metadata": {}
        }
      ]
    },
    {
      "cell_type": "code",
      "source": [
        "import nltk\n"
      ],
      "metadata": {
        "id": "FWpjR6jsgMUV"
      },
      "execution_count": 22,
      "outputs": []
    },
    {
      "cell_type": "code",
      "source": [
        "#Words per review + visualize\n",
        "DF = df_no_rating\n",
        "default_st = nltk.sent_tokenize\n",
        "DF['word_count']= DF[feature_col].apply(lambda x: len([word for word in x.split()]))\n",
        "plt.figure(figsize= (8,6))\n",
        "sns.histplot( x= 'word_count', bins = 30, data = DF)"
      ],
      "metadata": {
        "colab": {
          "base_uri": "https://localhost:8080/",
          "height": 406
        },
        "id": "jFfZSmYliNOG",
        "outputId": "f1697a5c-1a62-47ab-c9ae-cf9212a6028f"
      },
      "execution_count": 23,
      "outputs": [
        {
          "output_type": "execute_result",
          "data": {
            "text/plain": [
              "<matplotlib.axes._subplots.AxesSubplot at 0x7f7037c77750>"
            ]
          },
          "metadata": {},
          "execution_count": 23
        },
        {
          "output_type": "display_data",
          "data": {
            "image/png": "[encoded data removed]",
            "text/plain": [
              "<Figure size 576x432 with 1 Axes>"
            ]
          },
          "metadata": {}
        }
      ]
    },
    {
      "cell_type": "markdown",
      "source": [
        "#___Phase 3: Feature Engineering and Modeling___\n",
        "\n"
      ],
      "metadata": {
        "id": "L36LgxhSuJGQ"
      }
    },
    {
      "cell_type": "code",
      "source": [
        "#view the dataset\n",
        "DF.head()"
      ],
      "metadata": {
        "colab": {
          "base_uri": "https://localhost:8080/",
          "height": 206
        },
        "id": "Z5gmI8t8tum-",
        "outputId": "c51a674e-7a2c-48eb-f7f2-00c0b52435fb"
      },
      "execution_count": 24,
      "outputs": [
        {
          "output_type": "execute_result",
          "data": {
            "text/html": [
              "\n",
              "  <div id=\"df-bcbd0237-c82d-4b45-98f6-68dce9248be9\">\n",
              "    <div class=\"colab-df-container\">\n",
              "      <div>\n",
              "<style scoped>\n",
              "    .dataframe tbody tr th:only-of-type {\n",
              "        vertical-align: middle;\n",
              "    }\n",
              "\n",
              "    .dataframe tbody tr th {\n",
              "        vertical-align: top;\n",
              "    }\n",
              "\n",
              "    .dataframe thead th {\n",
              "        text-align: right;\n",
              "    }\n",
              "</style>\n",
              "<table border=\"1\" class=\"dataframe\">\n",
              "  <thead>\n",
              "    <tr style=\"text-align: right;\">\n",
              "      <th></th>\n",
              "      <th>Clothing ID</th>\n",
              "      <th>Age</th>\n",
              "      <th>Recommended IND</th>\n",
              "      <th>Positive Feedback Count</th>\n",
              "      <th>Division Name</th>\n",
              "      <th>Department Name</th>\n",
              "      <th>Class Name</th>\n",
              "      <th>Review</th>\n",
              "      <th>len_review</th>\n",
              "      <th>word_count</th>\n",
              "    </tr>\n",
              "  </thead>\n",
              "  <tbody>\n",
              "    <tr>\n",
              "      <th>0</th>\n",
              "      <td>767</td>\n",
              "      <td>33</td>\n",
              "      <td>1</td>\n",
              "      <td>0</td>\n",
              "      <td>Initmates</td>\n",
              "      <td>Intimate</td>\n",
              "      <td>Intimates</td>\n",
              "      <td>Absolutely wonderful - silky and sexy and comf...</td>\n",
              "      <td>53</td>\n",
              "      <td>8</td>\n",
              "    </tr>\n",
              "    <tr>\n",
              "      <th>1</th>\n",
              "      <td>1080</td>\n",
              "      <td>34</td>\n",
              "      <td>1</td>\n",
              "      <td>4</td>\n",
              "      <td>General</td>\n",
              "      <td>Dresses</td>\n",
              "      <td>Dresses</td>\n",
              "      <td>Love this dress!  it's sooo pretty.  i happene...</td>\n",
              "      <td>303</td>\n",
              "      <td>62</td>\n",
              "    </tr>\n",
              "    <tr>\n",
              "      <th>2</th>\n",
              "      <td>1077</td>\n",
              "      <td>60</td>\n",
              "      <td>0</td>\n",
              "      <td>0</td>\n",
              "      <td>General</td>\n",
              "      <td>Dresses</td>\n",
              "      <td>Dresses</td>\n",
              "      <td>Some major design flaws I had such high hopes ...</td>\n",
              "      <td>524</td>\n",
              "      <td>102</td>\n",
              "    </tr>\n",
              "    <tr>\n",
              "      <th>3</th>\n",
              "      <td>1049</td>\n",
              "      <td>50</td>\n",
              "      <td>1</td>\n",
              "      <td>0</td>\n",
              "      <td>General Petite</td>\n",
              "      <td>Bottoms</td>\n",
              "      <td>Pants</td>\n",
              "      <td>My favorite buy! I love, love, love this jumps...</td>\n",
              "      <td>141</td>\n",
              "      <td>25</td>\n",
              "    </tr>\n",
              "    <tr>\n",
              "      <th>4</th>\n",
              "      <td>847</td>\n",
              "      <td>47</td>\n",
              "      <td>1</td>\n",
              "      <td>6</td>\n",
              "      <td>General</td>\n",
              "      <td>Tops</td>\n",
              "      <td>Blouses</td>\n",
              "      <td>Flattering shirt This shirt is very flattering...</td>\n",
              "      <td>209</td>\n",
              "      <td>38</td>\n",
              "    </tr>\n",
              "  </tbody>\n",
              "</table>\n",
              "</div>\n",
              "      <button class=\"colab-df-convert\" onclick=\"convertToInteractive('df-bcbd0237-c82d-4b45-98f6-68dce9248be9')\"\n",
              "              title=\"Convert this dataframe to an interactive table.\"\n",
              "              style=\"display:none;\">\n",
              "        \n",
              "  <svg xmlns=\"http://www.w3.org/2000/svg\" height=\"24px\"viewBox=\"0 0 24 24\"\n",
              "       width=\"24px\">\n",
              "    <path d=\"M0 0h24v24H0V0z\" fill=\"none\"/>\n",
              "    <path d=\"M18.56 5.44l.94 2.06.94-2.06 2.06-.94-2.06-.94-.94-2.06-.94 2.06-2.06.94zm-11 1L8.5 8.5l.94-2.06 2.06-.94-2.06-.94L8.5 2.5l-.94 2.06-2.06.94zm10 10l.94 2.06.94-2.06 2.06-.94-2.06-.94-.94-2.06-.94 2.06-2.06.94z\"/><path d=\"M17.41 7.96l-1.37-1.37c-.4-.4-.92-.59-1.43-.59-.52 0-1.04.2-1.43.59L10.3 9.45l-7.72 7.72c-.78.78-.78 2.05 0 2.83L4 21.41c.39.39.9.59 1.41.59.51 0 1.02-.2 1.41-.59l7.78-7.78 2.81-2.81c.8-.78.8-2.07 0-2.86zM5.41 20L4 18.59l7.72-7.72 1.47 1.35L5.41 20z\"/>\n",
              "  </svg>\n",
              "      </button>\n",
              "      \n",
              "  <style>\n",
              "    .colab-df-container {\n",
              "      display:flex;\n",
              "      flex-wrap:wrap;\n",
              "      gap: 12px;\n",
              "    }\n",
              "\n",
              "    .colab-df-convert {\n",
              "      background-color: #E8F0FE;\n",
              "      border: none;\n",
              "      border-radius: 50%;\n",
              "      cursor: pointer;\n",
              "      display: none;\n",
              "      fill: #1967D2;\n",
              "      height: 32px;\n",
              "      padding: 0 0 0 0;\n",
              "      width: 32px;\n",
              "    }\n",
              "\n",
              "    .colab-df-convert:hover {\n",
              "      background-color: #E2EBFA;\n",
              "      box-shadow: 0px 1px 2px rgba(60, 64, 67, 0.3), 0px 1px 3px 1px rgba(60, 64, 67, 0.15);\n",
              "      fill: #174EA6;\n",
              "    }\n",
              "\n",
              "    [theme=dark] .colab-df-convert {\n",
              "      background-color: #3B4455;\n",
              "      fill: #D2E3FC;\n",
              "    }\n",
              "\n",
              "    [theme=dark] .colab-df-convert:hover {\n",
              "      background-color: #434B5C;\n",
              "      box-shadow: 0px 1px 3px 1px rgba(0, 0, 0, 0.15);\n",
              "      filter: drop-shadow(0px 1px 2px rgba(0, 0, 0, 0.3));\n",
              "      fill: #FFFFFF;\n",
              "    }\n",
              "  </style>\n",
              "\n",
              "      <script>\n",
              "        const buttonEl =\n",
              "          document.querySelector('#df-bcbd0237-c82d-4b45-98f6-68dce9248be9 button.colab-df-convert');\n",
              "        buttonEl.style.display =\n",
              "          google.colab.kernel.accessAllowed ? 'block' : 'none';\n",
              "\n",
              "        async function convertToInteractive(key) {\n",
              "          const element = document.querySelector('#df-bcbd0237-c82d-4b45-98f6-68dce9248be9');\n",
              "          const dataTable =\n",
              "            await google.colab.kernel.invokeFunction('convertToInteractive',\n",
              "                                                     [key], {});\n",
              "          if (!dataTable) return;\n",
              "\n",
              "          const docLinkHtml = 'Like what you see? Visit the ' +\n",
              "            '<a target=\"_blank\" href=https://colab.research.google.com/notebooks/data_table.ipynb>data table notebook</a>'\n",
              "            + ' to learn more about interactive tables.';\n",
              "          element.innerHTML = '';\n",
              "          dataTable['output_type'] = 'display_data';\n",
              "          await google.colab.output.renderOutput(dataTable, element);\n",
              "          const docLink = document.createElement('div');\n",
              "          docLink.innerHTML = docLinkHtml;\n",
              "          element.appendChild(docLink);\n",
              "        }\n",
              "      </script>\n",
              "    </div>\n",
              "  </div>\n",
              "  "
            ],
            "text/plain": [
              "   Clothing ID  Age  ...  len_review  word_count\n",
              "0          767   33  ...          53           8\n",
              "1         1080   34  ...         303          62\n",
              "2         1077   60  ...         524         102\n",
              "3         1049   50  ...         141          25\n",
              "4          847   47  ...         209          38\n",
              "\n",
              "[5 rows x 10 columns]"
            ]
          },
          "metadata": {},
          "execution_count": 24
        }
      ]
    },
    {
      "cell_type": "markdown",
      "source": [
        "## Drop unnecessary features"
      ],
      "metadata": {
        "id": "o3uVHH1U0TED"
      }
    },
    {
      "cell_type": "code",
      "source": [
        "#subset out unnecessary features\n",
        "DF = DF[['Review', 'Age', 'Positive Feedback Count', 'Recommended IND']]\n",
        "DF['Recommended IND'].value_counts() # this shows there is some inbalanced in the database on product recommendations"
      ],
      "metadata": {
        "colab": {
          "base_uri": "https://localhost:8080/"
        },
        "id": "NRmdXezFuaeF",
        "outputId": "e5149800-2bde-4f9f-8284-6ddf505c080a"
      },
      "execution_count": 25,
      "outputs": [
        {
          "output_type": "execute_result",
          "data": {
            "text/plain": [
              "1    18541\n",
              "0     4101\n",
              "Name: Recommended IND, dtype: int64"
            ]
          },
          "metadata": {},
          "execution_count": 25
        }
      ]
    },
    {
      "cell_type": "markdown",
      "source": [
        "#Build train and test dataset\n"
      ],
      "metadata": {
        "id": "B1xLfgJt0Xws"
      }
    },
    {
      "cell_type": "code",
      "source": [
        "#Build train and test dataset\n",
        "from sklearn.model_selection import train_test_split\n",
        "x_train, x_test, y_train, y_test = train_test_split(DF.drop(columns= ['Recommended IND']), DF['Recommended IND'], test_size= 0.3, random_state= 42)\n",
        "x_train.shape, x_test.shape"
      ],
      "metadata": {
        "colab": {
          "base_uri": "https://localhost:8080/"
        },
        "id": "s-G7p3KTu0q2",
        "outputId": "4130a11b-6170-44fc-f24c-a37afaf01b6b"
      },
      "execution_count": 26,
      "outputs": [
        {
          "output_type": "execute_result",
          "data": {
            "text/plain": [
              "((15849, 3), (6793, 3))"
            ]
          },
          "metadata": {},
          "execution_count": 26
        }
      ]
    },
    {
      "cell_type": "code",
      "source": [
        "from collections import Counter\n",
        "Counter(y_train), Counter(y_test)"
      ],
      "metadata": {
        "colab": {
          "base_uri": "https://localhost:8080/"
        },
        "id": "6-19Py7Av1U-",
        "outputId": "64a791c8-1224-47b4-ebdf-f459f36e0e1e"
      },
      "execution_count": 27,
      "outputs": [
        {
          "output_type": "execute_result",
          "data": {
            "text/plain": [
              "(Counter({0: 2883, 1: 12966}), Counter({0: 1218, 1: 5575}))"
            ]
          },
          "metadata": {},
          "execution_count": 27
        }
      ]
    },
    {
      "cell_type": "code",
      "source": [
        "x_train.head(3)"
      ],
      "metadata": {
        "colab": {
          "base_uri": "https://localhost:8080/",
          "height": 143
        },
        "id": "kMeRVQIgwicd",
        "outputId": "e6539b2a-885e-4944-c45a-436dd4cb82a2"
      },
      "execution_count": 28,
      "outputs": [
        {
          "output_type": "execute_result",
          "data": {
            "text/html": [
              "\n",
              "  <div id=\"df-69766b6e-0492-4892-a3a6-b83753b70e4a\">\n",
              "    <div class=\"colab-df-container\">\n",
              "      <div>\n",
              "<style scoped>\n",
              "    .dataframe tbody tr th:only-of-type {\n",
              "        vertical-align: middle;\n",
              "    }\n",
              "\n",
              "    .dataframe tbody tr th {\n",
              "        vertical-align: top;\n",
              "    }\n",
              "\n",
              "    .dataframe thead th {\n",
              "        text-align: right;\n",
              "    }\n",
              "</style>\n",
              "<table border=\"1\" class=\"dataframe\">\n",
              "  <thead>\n",
              "    <tr style=\"text-align: right;\">\n",
              "      <th></th>\n",
              "      <th>Review</th>\n",
              "      <th>Age</th>\n",
              "      <th>Positive Feedback Count</th>\n",
              "    </tr>\n",
              "  </thead>\n",
              "  <tbody>\n",
              "    <tr>\n",
              "      <th>4654</th>\n",
              "      <td>Sexy and flows I love this jumpsuit! i'm usual...</td>\n",
              "      <td>79</td>\n",
              "      <td>8</td>\n",
              "    </tr>\n",
              "    <tr>\n",
              "      <th>5333</th>\n",
              "      <td>Wanted to love it The dresss is much shorter t...</td>\n",
              "      <td>32</td>\n",
              "      <td>3</td>\n",
              "    </tr>\n",
              "    <tr>\n",
              "      <th>22502</th>\n",
              "      <td>So cute! though inside not soft I got the crea...</td>\n",
              "      <td>34</td>\n",
              "      <td>0</td>\n",
              "    </tr>\n",
              "  </tbody>\n",
              "</table>\n",
              "</div>\n",
              "      <button class=\"colab-df-convert\" onclick=\"convertToInteractive('df-69766b6e-0492-4892-a3a6-b83753b70e4a')\"\n",
              "              title=\"Convert this dataframe to an interactive table.\"\n",
              "              style=\"display:none;\">\n",
              "        \n",
              "  <svg xmlns=\"http://www.w3.org/2000/svg\" height=\"24px\"viewBox=\"0 0 24 24\"\n",
              "       width=\"24px\">\n",
              "    <path d=\"M0 0h24v24H0V0z\" fill=\"none\"/>\n",
              "    <path d=\"M18.56 5.44l.94 2.06.94-2.06 2.06-.94-2.06-.94-.94-2.06-.94 2.06-2.06.94zm-11 1L8.5 8.5l.94-2.06 2.06-.94-2.06-.94L8.5 2.5l-.94 2.06-2.06.94zm10 10l.94 2.06.94-2.06 2.06-.94-2.06-.94-.94-2.06-.94 2.06-2.06.94z\"/><path d=\"M17.41 7.96l-1.37-1.37c-.4-.4-.92-.59-1.43-.59-.52 0-1.04.2-1.43.59L10.3 9.45l-7.72 7.72c-.78.78-.78 2.05 0 2.83L4 21.41c.39.39.9.59 1.41.59.51 0 1.02-.2 1.41-.59l7.78-7.78 2.81-2.81c.8-.78.8-2.07 0-2.86zM5.41 20L4 18.59l7.72-7.72 1.47 1.35L5.41 20z\"/>\n",
              "  </svg>\n",
              "      </button>\n",
              "      \n",
              "  <style>\n",
              "    .colab-df-container {\n",
              "      display:flex;\n",
              "      flex-wrap:wrap;\n",
              "      gap: 12px;\n",
              "    }\n",
              "\n",
              "    .colab-df-convert {\n",
              "      background-color: #E8F0FE;\n",
              "      border: none;\n",
              "      border-radius: 50%;\n",
              "      cursor: pointer;\n",
              "      display: none;\n",
              "      fill: #1967D2;\n",
              "      height: 32px;\n",
              "      padding: 0 0 0 0;\n",
              "      width: 32px;\n",
              "    }\n",
              "\n",
              "    .colab-df-convert:hover {\n",
              "      background-color: #E2EBFA;\n",
              "      box-shadow: 0px 1px 2px rgba(60, 64, 67, 0.3), 0px 1px 3px 1px rgba(60, 64, 67, 0.15);\n",
              "      fill: #174EA6;\n",
              "    }\n",
              "\n",
              "    [theme=dark] .colab-df-convert {\n",
              "      background-color: #3B4455;\n",
              "      fill: #D2E3FC;\n",
              "    }\n",
              "\n",
              "    [theme=dark] .colab-df-convert:hover {\n",
              "      background-color: #434B5C;\n",
              "      box-shadow: 0px 1px 3px 1px rgba(0, 0, 0, 0.15);\n",
              "      filter: drop-shadow(0px 1px 2px rgba(0, 0, 0, 0.3));\n",
              "      fill: #FFFFFF;\n",
              "    }\n",
              "  </style>\n",
              "\n",
              "      <script>\n",
              "        const buttonEl =\n",
              "          document.querySelector('#df-69766b6e-0492-4892-a3a6-b83753b70e4a button.colab-df-convert');\n",
              "        buttonEl.style.display =\n",
              "          google.colab.kernel.accessAllowed ? 'block' : 'none';\n",
              "\n",
              "        async function convertToInteractive(key) {\n",
              "          const element = document.querySelector('#df-69766b6e-0492-4892-a3a6-b83753b70e4a');\n",
              "          const dataTable =\n",
              "            await google.colab.kernel.invokeFunction('convertToInteractive',\n",
              "                                                     [key], {});\n",
              "          if (!dataTable) return;\n",
              "\n",
              "          const docLinkHtml = 'Like what you see? Visit the ' +\n",
              "            '<a target=\"_blank\" href=https://colab.research.google.com/notebooks/data_table.ipynb>data table notebook</a>'\n",
              "            + ' to learn more about interactive tables.';\n",
              "          element.innerHTML = '';\n",
              "          dataTable['output_type'] = 'display_data';\n",
              "          await google.colab.output.renderOutput(dataTable, element);\n",
              "          const docLink = document.createElement('div');\n",
              "          docLink.innerHTML = docLinkHtml;\n",
              "          element.appendChild(docLink);\n",
              "        }\n",
              "      </script>\n",
              "    </div>\n",
              "  </div>\n",
              "  "
            ],
            "text/plain": [
              "                                                  Review  ...  Positive Feedback Count\n",
              "4654   Sexy and flows I love this jumpsuit! i'm usual...  ...                        8\n",
              "5333   Wanted to love it The dresss is much shorter t...  ...                        3\n",
              "22502  So cute! though inside not soft I got the crea...  ...                        0\n",
              "\n",
              "[3 rows x 3 columns]"
            ]
          },
          "metadata": {},
          "execution_count": 28
        }
      ]
    },
    {
      "cell_type": "code",
      "source": [
        "y_train[:3]"
      ],
      "metadata": {
        "colab": {
          "base_uri": "https://localhost:8080/"
        },
        "id": "cNPvffZ24DZm",
        "outputId": "e1b75922-537f-4159-c710-ee771e031cfa"
      },
      "execution_count": 29,
      "outputs": [
        {
          "output_type": "execute_result",
          "data": {
            "text/plain": [
              "4654     1\n",
              "5333     0\n",
              "22502    1\n",
              "Name: Recommended IND, dtype: int64"
            ]
          },
          "metadata": {},
          "execution_count": 29
        }
      ]
    },
    {
      "cell_type": "markdown",
      "source": [
        "## Building predictive models for product recommendation__\n",
        "\n",
        "- __Experiment 1:__ Basic NLP Count based features, Structured Features (Age and Feedback Count) + Logistic Regression\n",
        "\n",
        "- __Experiment 2:__ Features from Sentiment Analysis + Logistic Regression\n",
        "\n",
        "- __Experiment 3:__ BOW features (1-gram) + Logistic Regression\n",
        "\n",
        "- __Experiment 4:__ BOW features (2-gram) + Logistic Regression\n",
        "\n",
        "- __Experiment 5:__ BOW features (3-gram) + Logistic Regression\n",
        "\n",
        "- __Experiment 6:__ BOW features (3-gram) + Feature Selection + Logistic Regression\n",
        "\n",
        "- __Experiment 7:__ BOW features (3-gram) + Feature Selection + Structuref Features (Age and Feedback Count) + Logistic Regression\n",
        "\n",
        "- __Experiment 8:__ Same as Experiment 7 but use TF-IDF *features*\n",
        "- __Experiment 9:__ Same as Experiment 8 + Random Forest\n",
        "- __Experiment 10:__ Same as Experiment 9 + GradientBoosting\n",
        "- __Experiment 11:__ Same as Experiment 9 + XGBoosting"
      ],
      "metadata": {
        "id": "WNzzKehDr3wU"
      }
    },
    {
      "cell_type": "markdown",
      "source": [
        "#Experiment1: Basic NLP Count based Features & Age, Feedback Count\n",
        "\n",
        "\n",
        "---\n",
        "\n",
        "\n",
        "*   Word Count: total number of words in the documents\n",
        "*   Character Count: total number of characters in the documents\n",
        "*   Average Word Density: average length of the words used in the documents\n",
        "*   Puncutation Count: total number of punctuation marks in the documents\n",
        "*   Upper Case Count: total number of upper count words in the documents\n",
        "*   Title Word Count: total number of proper case (title) words in the documents\n",
        "\n",
        "\n",
        "\n"
      ],
      "metadata": {
        "id": "W9z-WiA34qDW"
      }
    },
    {
      "cell_type": "code",
      "source": [
        "import string\n",
        "feature_col = 'Review'\n",
        "x_train['char_count'] = x_train[feature_col].apply(len)\n",
        "x_train['word_count'] = x_train[feature_col].apply(lambda x: len(x.split()))\n",
        "x_train['word_density'] = x_train['char_count']/x_train['word_count']\n",
        "x_train['punctuation_count'] = x_train[feature_col].apply(lambda x: len(\"\".join(_ for _ in x if _ in string.punctuation)))\n",
        "x_train['title_word_count'] = x_train[feature_col].apply(lambda x: len([wrd for wrd in x.split() if wrd.istitle()]))\n",
        "x_train['upper_case_word_count'] = x_train[feature_col].apply(lambda x: len([wrd for wrd in x.split() if wrd.isupper()]))\n",
        "\n",
        "x_test['char_count'] = x_test[feature_col].apply(len)\n",
        "x_test['word_count'] = x_test[feature_col].apply(lambda x: len(x.split()))\n",
        "x_test['word_density'] = x_test['char_count']/x_test['word_count']\n",
        "x_test['punctuation_count'] = x_test[feature_col].apply(lambda x: len(\"\".join(_ for _ in x if _ in string.punctuation)))\n",
        "x_test['title_word_count'] = x_test[feature_col].apply(lambda x: len([wrd for wrd in x.split() if wrd.istitle()]))\n",
        "x_test['upper_case_word_count'] = x_test[feature_col].apply(lambda x: len([wrd for wrd in x.split() if wrd.isupper()]))\n"
      ],
      "metadata": {
        "id": "vrUyR27n4KFF"
      },
      "execution_count": 30,
      "outputs": []
    },
    {
      "cell_type": "code",
      "source": [
        "x_train.head()"
      ],
      "metadata": {
        "colab": {
          "base_uri": "https://localhost:8080/",
          "height": 206
        },
        "id": "zPUUHOei7nk3",
        "outputId": "a5860450-a941-424b-d8c4-3d1b49ecd740"
      },
      "execution_count": 31,
      "outputs": [
        {
          "output_type": "execute_result",
          "data": {
            "text/html": [
              "\n",
              "  <div id=\"df-4448acda-f995-4296-a10c-5cdddfa51824\">\n",
              "    <div class=\"colab-df-container\">\n",
              "      <div>\n",
              "<style scoped>\n",
              "    .dataframe tbody tr th:only-of-type {\n",
              "        vertical-align: middle;\n",
              "    }\n",
              "\n",
              "    .dataframe tbody tr th {\n",
              "        vertical-align: top;\n",
              "    }\n",
              "\n",
              "    .dataframe thead th {\n",
              "        text-align: right;\n",
              "    }\n",
              "</style>\n",
              "<table border=\"1\" class=\"dataframe\">\n",
              "  <thead>\n",
              "    <tr style=\"text-align: right;\">\n",
              "      <th></th>\n",
              "      <th>Review</th>\n",
              "      <th>Age</th>\n",
              "      <th>Positive Feedback Count</th>\n",
              "      <th>char_count</th>\n",
              "      <th>word_count</th>\n",
              "      <th>word_density</th>\n",
              "      <th>punctuation_count</th>\n",
              "      <th>title_word_count</th>\n",
              "      <th>upper_case_word_count</th>\n",
              "    </tr>\n",
              "  </thead>\n",
              "  <tbody>\n",
              "    <tr>\n",
              "      <th>4654</th>\n",
              "      <td>Sexy and flows I love this jumpsuit! i'm usual...</td>\n",
              "      <td>79</td>\n",
              "      <td>8</td>\n",
              "      <td>469</td>\n",
              "      <td>95</td>\n",
              "      <td>4.936842</td>\n",
              "      <td>17</td>\n",
              "      <td>2</td>\n",
              "      <td>1</td>\n",
              "    </tr>\n",
              "    <tr>\n",
              "      <th>5333</th>\n",
              "      <td>Wanted to love it The dresss is much shorter t...</td>\n",
              "      <td>32</td>\n",
              "      <td>3</td>\n",
              "      <td>144</td>\n",
              "      <td>26</td>\n",
              "      <td>5.538462</td>\n",
              "      <td>4</td>\n",
              "      <td>2</td>\n",
              "      <td>0</td>\n",
              "    </tr>\n",
              "    <tr>\n",
              "      <th>22502</th>\n",
              "      <td>So cute! though inside not soft I got the crea...</td>\n",
              "      <td>34</td>\n",
              "      <td>0</td>\n",
              "      <td>451</td>\n",
              "      <td>93</td>\n",
              "      <td>4.849462</td>\n",
              "      <td>14</td>\n",
              "      <td>2</td>\n",
              "      <td>1</td>\n",
              "    </tr>\n",
              "    <tr>\n",
              "      <th>392</th>\n",
              "      <td>Lovely fabric but tiny hips If your hips are b...</td>\n",
              "      <td>34</td>\n",
              "      <td>0</td>\n",
              "      <td>396</td>\n",
              "      <td>83</td>\n",
              "      <td>4.771084</td>\n",
              "      <td>6</td>\n",
              "      <td>2</td>\n",
              "      <td>0</td>\n",
              "    </tr>\n",
              "    <tr>\n",
              "      <th>372</th>\n",
              "      <td>So cool This has great drape, length, the patt...</td>\n",
              "      <td>57</td>\n",
              "      <td>1</td>\n",
              "      <td>292</td>\n",
              "      <td>56</td>\n",
              "      <td>5.214286</td>\n",
              "      <td>10</td>\n",
              "      <td>2</td>\n",
              "      <td>0</td>\n",
              "    </tr>\n",
              "  </tbody>\n",
              "</table>\n",
              "</div>\n",
              "      <button class=\"colab-df-convert\" onclick=\"convertToInteractive('df-4448acda-f995-4296-a10c-5cdddfa51824')\"\n",
              "              title=\"Convert this dataframe to an interactive table.\"\n",
              "              style=\"display:none;\">\n",
              "        \n",
              "  <svg xmlns=\"http://www.w3.org/2000/svg\" height=\"24px\"viewBox=\"0 0 24 24\"\n",
              "       width=\"24px\">\n",
              "    <path d=\"M0 0h24v24H0V0z\" fill=\"none\"/>\n",
              "    <path d=\"M18.56 5.44l.94 2.06.94-2.06 2.06-.94-2.06-.94-.94-2.06-.94 2.06-2.06.94zm-11 1L8.5 8.5l.94-2.06 2.06-.94-2.06-.94L8.5 2.5l-.94 2.06-2.06.94zm10 10l.94 2.06.94-2.06 2.06-.94-2.06-.94-.94-2.06-.94 2.06-2.06.94z\"/><path d=\"M17.41 7.96l-1.37-1.37c-.4-.4-.92-.59-1.43-.59-.52 0-1.04.2-1.43.59L10.3 9.45l-7.72 7.72c-.78.78-.78 2.05 0 2.83L4 21.41c.39.39.9.59 1.41.59.51 0 1.02-.2 1.41-.59l7.78-7.78 2.81-2.81c.8-.78.8-2.07 0-2.86zM5.41 20L4 18.59l7.72-7.72 1.47 1.35L5.41 20z\"/>\n",
              "  </svg>\n",
              "      </button>\n",
              "      \n",
              "  <style>\n",
              "    .colab-df-container {\n",
              "      display:flex;\n",
              "      flex-wrap:wrap;\n",
              "      gap: 12px;\n",
              "    }\n",
              "\n",
              "    .colab-df-convert {\n",
              "      background-color: #E8F0FE;\n",
              "      border: none;\n",
              "      border-radius: 50%;\n",
              "      cursor: pointer;\n",
              "      display: none;\n",
              "      fill: #1967D2;\n",
              "      height: 32px;\n",
              "      padding: 0 0 0 0;\n",
              "      width: 32px;\n",
              "    }\n",
              "\n",
              "    .colab-df-convert:hover {\n",
              "      background-color: #E2EBFA;\n",
              "      box-shadow: 0px 1px 2px rgba(60, 64, 67, 0.3), 0px 1px 3px 1px rgba(60, 64, 67, 0.15);\n",
              "      fill: #174EA6;\n",
              "    }\n",
              "\n",
              "    [theme=dark] .colab-df-convert {\n",
              "      background-color: #3B4455;\n",
              "      fill: #D2E3FC;\n",
              "    }\n",
              "\n",
              "    [theme=dark] .colab-df-convert:hover {\n",
              "      background-color: #434B5C;\n",
              "      box-shadow: 0px 1px 3px 1px rgba(0, 0, 0, 0.15);\n",
              "      filter: drop-shadow(0px 1px 2px rgba(0, 0, 0, 0.3));\n",
              "      fill: #FFFFFF;\n",
              "    }\n",
              "  </style>\n",
              "\n",
              "      <script>\n",
              "        const buttonEl =\n",
              "          document.querySelector('#df-4448acda-f995-4296-a10c-5cdddfa51824 button.colab-df-convert');\n",
              "        buttonEl.style.display =\n",
              "          google.colab.kernel.accessAllowed ? 'block' : 'none';\n",
              "\n",
              "        async function convertToInteractive(key) {\n",
              "          const element = document.querySelector('#df-4448acda-f995-4296-a10c-5cdddfa51824');\n",
              "          const dataTable =\n",
              "            await google.colab.kernel.invokeFunction('convertToInteractive',\n",
              "                                                     [key], {});\n",
              "          if (!dataTable) return;\n",
              "\n",
              "          const docLinkHtml = 'Like what you see? Visit the ' +\n",
              "            '<a target=\"_blank\" href=https://colab.research.google.com/notebooks/data_table.ipynb>data table notebook</a>'\n",
              "            + ' to learn more about interactive tables.';\n",
              "          element.innerHTML = '';\n",
              "          dataTable['output_type'] = 'display_data';\n",
              "          await google.colab.output.renderOutput(dataTable, element);\n",
              "          const docLink = document.createElement('div');\n",
              "          docLink.innerHTML = docLinkHtml;\n",
              "          element.appendChild(docLink);\n",
              "        }\n",
              "      </script>\n",
              "    </div>\n",
              "  </div>\n",
              "  "
            ],
            "text/plain": [
              "                                                  Review  ...  upper_case_word_count\n",
              "4654   Sexy and flows I love this jumpsuit! i'm usual...  ...                      1\n",
              "5333   Wanted to love it The dresss is much shorter t...  ...                      0\n",
              "22502  So cute! though inside not soft I got the crea...  ...                      1\n",
              "392    Lovely fabric but tiny hips If your hips are b...  ...                      0\n",
              "372    So cool This has great drape, length, the patt...  ...                      0\n",
              "\n",
              "[5 rows x 9 columns]"
            ]
          },
          "metadata": {},
          "execution_count": 31
        }
      ]
    },
    {
      "cell_type": "markdown",
      "source": [
        "Initializing a Logistic Regression Model"
      ],
      "metadata": {
        "id": "BJjhVjLH85Be"
      }
    },
    {
      "cell_type": "code",
      "source": [
        "\n",
        "from sklearn.linear_model import LogisticRegression\n",
        "lr = LogisticRegression(C=1, random_state= 42, solver='lbfgs', max_iter = 1e4)"
      ],
      "metadata": {
        "id": "rl8fwsOm7o-1"
      },
      "execution_count": 32,
      "outputs": []
    },
    {
      "cell_type": "code",
      "source": [
        "from sklearn.metrics import classification_report, confusion_matrix\n",
        "\n",
        "#fit model\n",
        "lr.fit(x_train.drop(columns=['Review'], axis=1), y_train)\n",
        "#predict on the test dataframe\n",
        "\n",
        "lr_predict = lr.predict(x_test.drop(columns=['Review'], axis=1))"
      ],
      "metadata": {
        "id": "rL_eMH7i9VF9"
      },
      "execution_count": 33,
      "outputs": []
    },
    {
      "cell_type": "markdown",
      "source": [
        "Model Evaluation Metrics \n",
        "\n",
        "\n",
        "*   Precision: The positive predictive power of a model. Out of all the predictions made by a model for a class, how many are actually correct\n",
        "*   Recall: The coverage or hit-rate of a model. Out of all the test data samples belonging to a class, how many was the model able to predict (hit or cover) correctly.\n",
        "*   F1-score: The harmonic mean of the precision and recall\n",
        "\n",
        "\n",
        "\n",
        "\n"
      ],
      "metadata": {
        "id": "kb8YCymV9FQm"
      }
    },
    {
      "cell_type": "code",
      "source": [
        "#evaluate the model performance\n",
        "lable = ['Negative', 'Positive']\n",
        "pd.DataFrame(confusion_matrix(y_test, lr_predict), index = lable, columns= lable)\n"
      ],
      "metadata": {
        "colab": {
          "base_uri": "https://localhost:8080/",
          "height": 112
        },
        "id": "n6bpeJ0t82d2",
        "outputId": "e49a14f4-0c60-4fa8-c34a-ed0b2780deff"
      },
      "execution_count": 35,
      "outputs": [
        {
          "output_type": "execute_result",
          "data": {
            "text/html": [
              "\n",
              "  <div id=\"df-29330731-fc57-40a1-9b7c-3e4f14ce8f5c\">\n",
              "    <div class=\"colab-df-container\">\n",
              "      <div>\n",
              "<style scoped>\n",
              "    .dataframe tbody tr th:only-of-type {\n",
              "        vertical-align: middle;\n",
              "    }\n",
              "\n",
              "    .dataframe tbody tr th {\n",
              "        vertical-align: top;\n",
              "    }\n",
              "\n",
              "    .dataframe thead th {\n",
              "        text-align: right;\n",
              "    }\n",
              "</style>\n",
              "<table border=\"1\" class=\"dataframe\">\n",
              "  <thead>\n",
              "    <tr style=\"text-align: right;\">\n",
              "      <th></th>\n",
              "      <th>Negative</th>\n",
              "      <th>Positive</th>\n",
              "    </tr>\n",
              "  </thead>\n",
              "  <tbody>\n",
              "    <tr>\n",
              "      <th>Negative</th>\n",
              "      <td>1</td>\n",
              "      <td>1217</td>\n",
              "    </tr>\n",
              "    <tr>\n",
              "      <th>Positive</th>\n",
              "      <td>2</td>\n",
              "      <td>5573</td>\n",
              "    </tr>\n",
              "  </tbody>\n",
              "</table>\n",
              "</div>\n",
              "      <button class=\"colab-df-convert\" onclick=\"convertToInteractive('df-29330731-fc57-40a1-9b7c-3e4f14ce8f5c')\"\n",
              "              title=\"Convert this dataframe to an interactive table.\"\n",
              "              style=\"display:none;\">\n",
              "        \n",
              "  <svg xmlns=\"http://www.w3.org/2000/svg\" height=\"24px\"viewBox=\"0 0 24 24\"\n",
              "       width=\"24px\">\n",
              "    <path d=\"M0 0h24v24H0V0z\" fill=\"none\"/>\n",
              "    <path d=\"M18.56 5.44l.94 2.06.94-2.06 2.06-.94-2.06-.94-.94-2.06-.94 2.06-2.06.94zm-11 1L8.5 8.5l.94-2.06 2.06-.94-2.06-.94L8.5 2.5l-.94 2.06-2.06.94zm10 10l.94 2.06.94-2.06 2.06-.94-2.06-.94-.94-2.06-.94 2.06-2.06.94z\"/><path d=\"M17.41 7.96l-1.37-1.37c-.4-.4-.92-.59-1.43-.59-.52 0-1.04.2-1.43.59L10.3 9.45l-7.72 7.72c-.78.78-.78 2.05 0 2.83L4 21.41c.39.39.9.59 1.41.59.51 0 1.02-.2 1.41-.59l7.78-7.78 2.81-2.81c.8-.78.8-2.07 0-2.86zM5.41 20L4 18.59l7.72-7.72 1.47 1.35L5.41 20z\"/>\n",
              "  </svg>\n",
              "      </button>\n",
              "      \n",
              "  <style>\n",
              "    .colab-df-container {\n",
              "      display:flex;\n",
              "      flex-wrap:wrap;\n",
              "      gap: 12px;\n",
              "    }\n",
              "\n",
              "    .colab-df-convert {\n",
              "      background-color: #E8F0FE;\n",
              "      border: none;\n",
              "      border-radius: 50%;\n",
              "      cursor: pointer;\n",
              "      display: none;\n",
              "      fill: #1967D2;\n",
              "      height: 32px;\n",
              "      padding: 0 0 0 0;\n",
              "      width: 32px;\n",
              "    }\n",
              "\n",
              "    .colab-df-convert:hover {\n",
              "      background-color: #E2EBFA;\n",
              "      box-shadow: 0px 1px 2px rgba(60, 64, 67, 0.3), 0px 1px 3px 1px rgba(60, 64, 67, 0.15);\n",
              "      fill: #174EA6;\n",
              "    }\n",
              "\n",
              "    [theme=dark] .colab-df-convert {\n",
              "      background-color: #3B4455;\n",
              "      fill: #D2E3FC;\n",
              "    }\n",
              "\n",
              "    [theme=dark] .colab-df-convert:hover {\n",
              "      background-color: #434B5C;\n",
              "      box-shadow: 0px 1px 3px 1px rgba(0, 0, 0, 0.15);\n",
              "      filter: drop-shadow(0px 1px 2px rgba(0, 0, 0, 0.3));\n",
              "      fill: #FFFFFF;\n",
              "    }\n",
              "  </style>\n",
              "\n",
              "      <script>\n",
              "        const buttonEl =\n",
              "          document.querySelector('#df-29330731-fc57-40a1-9b7c-3e4f14ce8f5c button.colab-df-convert');\n",
              "        buttonEl.style.display =\n",
              "          google.colab.kernel.accessAllowed ? 'block' : 'none';\n",
              "\n",
              "        async function convertToInteractive(key) {\n",
              "          const element = document.querySelector('#df-29330731-fc57-40a1-9b7c-3e4f14ce8f5c');\n",
              "          const dataTable =\n",
              "            await google.colab.kernel.invokeFunction('convertToInteractive',\n",
              "                                                     [key], {});\n",
              "          if (!dataTable) return;\n",
              "\n",
              "          const docLinkHtml = 'Like what you see? Visit the ' +\n",
              "            '<a target=\"_blank\" href=https://colab.research.google.com/notebooks/data_table.ipynb>data table notebook</a>'\n",
              "            + ' to learn more about interactive tables.';\n",
              "          element.innerHTML = '';\n",
              "          dataTable['output_type'] = 'display_data';\n",
              "          await google.colab.output.renderOutput(dataTable, element);\n",
              "          const docLink = document.createElement('div');\n",
              "          docLink.innerHTML = docLinkHtml;\n",
              "          element.appendChild(docLink);\n",
              "        }\n",
              "      </script>\n",
              "    </div>\n",
              "  </div>\n",
              "  "
            ],
            "text/plain": [
              "          Negative  Positive\n",
              "Negative         1      1217\n",
              "Positive         2      5573"
            ]
          },
          "metadata": {},
          "execution_count": 35
        }
      ]
    },
    {
      "cell_type": "code",
      "source": [
        "print(classification_report(y_test, lr_predict))"
      ],
      "metadata": {
        "colab": {
          "base_uri": "https://localhost:8080/"
        },
        "id": "IEqv0Dvy_h_9",
        "outputId": "dae1bac9-0e9a-4246-ae94-3c04b15d0dce"
      },
      "execution_count": 36,
      "outputs": [
        {
          "output_type": "stream",
          "name": "stdout",
          "text": [
            "              precision    recall  f1-score   support\n",
            "\n",
            "           0       0.33      0.00      0.00      1218\n",
            "           1       0.82      1.00      0.90      5575\n",
            "\n",
            "    accuracy                           0.82      6793\n",
            "   macro avg       0.58      0.50      0.45      6793\n",
            "weighted avg       0.73      0.82      0.74      6793\n",
            "\n"
          ]
        }
      ]
    },
    {
      "cell_type": "markdown",
      "source": [
        "The model gives pretty bad result. So Let's drop some of unseless features."
      ],
      "metadata": {
        "id": "2zTlbwaKARHP"
      }
    },
    {
      "cell_type": "code",
      "source": [
        "x_train.drop(['char_count', 'word_count', 'word_density', \n",
        "              'punctuation_count', 'title_word_count', 'upper_case_word_count'], axis=1, inplace=True)\n",
        "x_test.drop(['char_count', 'word_count', 'word_density', \n",
        "              'punctuation_count', 'title_word_count', 'upper_case_word_count'], axis=1, inplace=True)"
      ],
      "metadata": {
        "id": "NiFW-pxS_YLf"
      },
      "execution_count": 37,
      "outputs": []
    },
    {
      "cell_type": "markdown",
      "source": [
        "### __Experiment 2: Features from Sentiment Analysis__ + Logit\n",
        "We will use the lexicon to determind which review might have a positive or negative sentiment because we do not have pre-labled data. \n",
        "\n",
        "The general expectation is that highly rated and recommended products (label 1) should have a positive sentiment and products which are not recommended (label 0) should have a negative sentiment."
      ],
      "metadata": {
        "id": "iqffg-xiAoCH"
      }
    },
    {
      "cell_type": "markdown",
      "source": [
        "TextBlob is used to measure the polarity score and subjectivity.\n",
        "\n",
        "\n",
        "*   The polarity score is a float within the range [-1.0, 1.0]\n",
        "*   The subjectivity is a float within the range [0.0, 1.0] where 0.0 is very objective and 1.0 is very subjective.\n",
        "\n"
      ],
      "metadata": {
        "id": "7YlSrPlBDq2m"
      }
    },
    {
      "cell_type": "code",
      "source": [
        "import textblob\n",
        "x_train_snt_obj = x_train[feature_col].apply(lambda row: textblob.TextBlob(row).sentiment)\n",
        "x_train['Polarity'] = [obj.polarity for obj in x_train_snt_obj]\n",
        "x_train['Subjectivity'] = [obj.subjectivity for obj in x_train_snt_obj]\n",
        "\n",
        "x_test_snt_obj = x_test[feature_col].apply(lambda row: textblob.TextBlob(row).sentiment)\n",
        "x_test['Polarity'] = [obj.polarity for obj in x_test_snt_obj]\n",
        "x_test['Subjectivity'] = [obj.subjectivity for obj in x_test_snt_obj]"
      ],
      "metadata": {
        "id": "lOAd1HFtAkfV"
      },
      "execution_count": 38,
      "outputs": []
    },
    {
      "cell_type": "code",
      "source": [
        "x_train[['Review', 'Polarity', 'Subjectivity']].head()"
      ],
      "metadata": {
        "colab": {
          "base_uri": "https://localhost:8080/",
          "height": 206
        },
        "id": "q_zyi66wFpdX",
        "outputId": "7644b50e-30ec-47f7-d6ee-c01d292db8a5"
      },
      "execution_count": 39,
      "outputs": [
        {
          "output_type": "execute_result",
          "data": {
            "text/html": [
              "\n",
              "  <div id=\"df-d0774757-8bb5-4653-b168-46e506ca1572\">\n",
              "    <div class=\"colab-df-container\">\n",
              "      <div>\n",
              "<style scoped>\n",
              "    .dataframe tbody tr th:only-of-type {\n",
              "        vertical-align: middle;\n",
              "    }\n",
              "\n",
              "    .dataframe tbody tr th {\n",
              "        vertical-align: top;\n",
              "    }\n",
              "\n",
              "    .dataframe thead th {\n",
              "        text-align: right;\n",
              "    }\n",
              "</style>\n",
              "<table border=\"1\" class=\"dataframe\">\n",
              "  <thead>\n",
              "    <tr style=\"text-align: right;\">\n",
              "      <th></th>\n",
              "      <th>Review</th>\n",
              "      <th>Polarity</th>\n",
              "      <th>Subjectivity</th>\n",
              "    </tr>\n",
              "  </thead>\n",
              "  <tbody>\n",
              "    <tr>\n",
              "      <th>4654</th>\n",
              "      <td>Sexy and flows I love this jumpsuit! i'm usual...</td>\n",
              "      <td>0.237380</td>\n",
              "      <td>0.641259</td>\n",
              "    </tr>\n",
              "    <tr>\n",
              "      <th>5333</th>\n",
              "      <td>Wanted to love it The dresss is much shorter t...</td>\n",
              "      <td>0.260000</td>\n",
              "      <td>0.400000</td>\n",
              "    </tr>\n",
              "    <tr>\n",
              "      <th>22502</th>\n",
              "      <td>So cute! though inside not soft I got the crea...</td>\n",
              "      <td>0.180093</td>\n",
              "      <td>0.562963</td>\n",
              "    </tr>\n",
              "    <tr>\n",
              "      <th>392</th>\n",
              "      <td>Lovely fabric but tiny hips If your hips are b...</td>\n",
              "      <td>0.114286</td>\n",
              "      <td>0.610440</td>\n",
              "    </tr>\n",
              "    <tr>\n",
              "      <th>372</th>\n",
              "      <td>So cool This has great drape, length, the patt...</td>\n",
              "      <td>0.321667</td>\n",
              "      <td>0.721111</td>\n",
              "    </tr>\n",
              "  </tbody>\n",
              "</table>\n",
              "</div>\n",
              "      <button class=\"colab-df-convert\" onclick=\"convertToInteractive('df-d0774757-8bb5-4653-b168-46e506ca1572')\"\n",
              "              title=\"Convert this dataframe to an interactive table.\"\n",
              "              style=\"display:none;\">\n",
              "        \n",
              "  <svg xmlns=\"http://www.w3.org/2000/svg\" height=\"24px\"viewBox=\"0 0 24 24\"\n",
              "       width=\"24px\">\n",
              "    <path d=\"M0 0h24v24H0V0z\" fill=\"none\"/>\n",
              "    <path d=\"M18.56 5.44l.94 2.06.94-2.06 2.06-.94-2.06-.94-.94-2.06-.94 2.06-2.06.94zm-11 1L8.5 8.5l.94-2.06 2.06-.94-2.06-.94L8.5 2.5l-.94 2.06-2.06.94zm10 10l.94 2.06.94-2.06 2.06-.94-2.06-.94-.94-2.06-.94 2.06-2.06.94z\"/><path d=\"M17.41 7.96l-1.37-1.37c-.4-.4-.92-.59-1.43-.59-.52 0-1.04.2-1.43.59L10.3 9.45l-7.72 7.72c-.78.78-.78 2.05 0 2.83L4 21.41c.39.39.9.59 1.41.59.51 0 1.02-.2 1.41-.59l7.78-7.78 2.81-2.81c.8-.78.8-2.07 0-2.86zM5.41 20L4 18.59l7.72-7.72 1.47 1.35L5.41 20z\"/>\n",
              "  </svg>\n",
              "      </button>\n",
              "      \n",
              "  <style>\n",
              "    .colab-df-container {\n",
              "      display:flex;\n",
              "      flex-wrap:wrap;\n",
              "      gap: 12px;\n",
              "    }\n",
              "\n",
              "    .colab-df-convert {\n",
              "      background-color: #E8F0FE;\n",
              "      border: none;\n",
              "      border-radius: 50%;\n",
              "      cursor: pointer;\n",
              "      display: none;\n",
              "      fill: #1967D2;\n",
              "      height: 32px;\n",
              "      padding: 0 0 0 0;\n",
              "      width: 32px;\n",
              "    }\n",
              "\n",
              "    .colab-df-convert:hover {\n",
              "      background-color: #E2EBFA;\n",
              "      box-shadow: 0px 1px 2px rgba(60, 64, 67, 0.3), 0px 1px 3px 1px rgba(60, 64, 67, 0.15);\n",
              "      fill: #174EA6;\n",
              "    }\n",
              "\n",
              "    [theme=dark] .colab-df-convert {\n",
              "      background-color: #3B4455;\n",
              "      fill: #D2E3FC;\n",
              "    }\n",
              "\n",
              "    [theme=dark] .colab-df-convert:hover {\n",
              "      background-color: #434B5C;\n",
              "      box-shadow: 0px 1px 3px 1px rgba(0, 0, 0, 0.15);\n",
              "      filter: drop-shadow(0px 1px 2px rgba(0, 0, 0, 0.3));\n",
              "      fill: #FFFFFF;\n",
              "    }\n",
              "  </style>\n",
              "\n",
              "      <script>\n",
              "        const buttonEl =\n",
              "          document.querySelector('#df-d0774757-8bb5-4653-b168-46e506ca1572 button.colab-df-convert');\n",
              "        buttonEl.style.display =\n",
              "          google.colab.kernel.accessAllowed ? 'block' : 'none';\n",
              "\n",
              "        async function convertToInteractive(key) {\n",
              "          const element = document.querySelector('#df-d0774757-8bb5-4653-b168-46e506ca1572');\n",
              "          const dataTable =\n",
              "            await google.colab.kernel.invokeFunction('convertToInteractive',\n",
              "                                                     [key], {});\n",
              "          if (!dataTable) return;\n",
              "\n",
              "          const docLinkHtml = 'Like what you see? Visit the ' +\n",
              "            '<a target=\"_blank\" href=https://colab.research.google.com/notebooks/data_table.ipynb>data table notebook</a>'\n",
              "            + ' to learn more about interactive tables.';\n",
              "          element.innerHTML = '';\n",
              "          dataTable['output_type'] = 'display_data';\n",
              "          await google.colab.output.renderOutput(dataTable, element);\n",
              "          const docLink = document.createElement('div');\n",
              "          docLink.innerHTML = docLinkHtml;\n",
              "          element.appendChild(docLink);\n",
              "        }\n",
              "      </script>\n",
              "    </div>\n",
              "  </div>\n",
              "  "
            ],
            "text/plain": [
              "                                                  Review  ...  Subjectivity\n",
              "4654   Sexy and flows I love this jumpsuit! i'm usual...  ...      0.641259\n",
              "5333   Wanted to love it The dresss is much shorter t...  ...      0.400000\n",
              "22502  So cute! though inside not soft I got the crea...  ...      0.562963\n",
              "392    Lovely fabric but tiny hips If your hips are b...  ...      0.610440\n",
              "372    So cool This has great drape, length, the patt...  ...      0.721111\n",
              "\n",
              "[5 rows x 3 columns]"
            ]
          },
          "metadata": {},
          "execution_count": 39
        }
      ]
    },
    {
      "cell_type": "markdown",
      "source": [
        "#Model Training and Evaluation"
      ],
      "metadata": {
        "id": "-U96vB0mGtjP"
      }
    },
    {
      "cell_type": "code",
      "source": [
        "#fit model\n",
        "lr = LogisticRegression(C=1, random_state= 42, solver='lbfgs', max_iter = 1e4)\n",
        "lr.fit(x_train.drop(columns= feature_col, axis=1), y_train)\n",
        "# predict on the test dataframe\n",
        "lr_snt_predict = lr.predict(x_test.drop(columns = feature_col, axis=1))\n",
        "lable = ['Negative', 'Positive']\n",
        "pd.DataFrame(confusion_matrix(y_test, lr_snt_predict), index = lable, columns= lable)"
      ],
      "metadata": {
        "colab": {
          "base_uri": "https://localhost:8080/",
          "height": 112
        },
        "id": "8ztfSFMCF6Xt",
        "outputId": "d1e9337a-dc3c-402f-843e-d724feceeecf"
      },
      "execution_count": 40,
      "outputs": [
        {
          "output_type": "execute_result",
          "data": {
            "text/html": [
              "\n",
              "  <div id=\"df-874ef212-8329-4d72-acf7-0831ee2ce431\">\n",
              "    <div class=\"colab-df-container\">\n",
              "      <div>\n",
              "<style scoped>\n",
              "    .dataframe tbody tr th:only-of-type {\n",
              "        vertical-align: middle;\n",
              "    }\n",
              "\n",
              "    .dataframe tbody tr th {\n",
              "        vertical-align: top;\n",
              "    }\n",
              "\n",
              "    .dataframe thead th {\n",
              "        text-align: right;\n",
              "    }\n",
              "</style>\n",
              "<table border=\"1\" class=\"dataframe\">\n",
              "  <thead>\n",
              "    <tr style=\"text-align: right;\">\n",
              "      <th></th>\n",
              "      <th>Negative</th>\n",
              "      <th>Positive</th>\n",
              "    </tr>\n",
              "  </thead>\n",
              "  <tbody>\n",
              "    <tr>\n",
              "      <th>Negative</th>\n",
              "      <td>210</td>\n",
              "      <td>1008</td>\n",
              "    </tr>\n",
              "    <tr>\n",
              "      <th>Positive</th>\n",
              "      <td>119</td>\n",
              "      <td>5456</td>\n",
              "    </tr>\n",
              "  </tbody>\n",
              "</table>\n",
              "</div>\n",
              "      <button class=\"colab-df-convert\" onclick=\"convertToInteractive('df-874ef212-8329-4d72-acf7-0831ee2ce431')\"\n",
              "              title=\"Convert this dataframe to an interactive table.\"\n",
              "              style=\"display:none;\">\n",
              "        \n",
              "  <svg xmlns=\"http://www.w3.org/2000/svg\" height=\"24px\"viewBox=\"0 0 24 24\"\n",
              "       width=\"24px\">\n",
              "    <path d=\"M0 0h24v24H0V0z\" fill=\"none\"/>\n",
              "    <path d=\"M18.56 5.44l.94 2.06.94-2.06 2.06-.94-2.06-.94-.94-2.06-.94 2.06-2.06.94zm-11 1L8.5 8.5l.94-2.06 2.06-.94-2.06-.94L8.5 2.5l-.94 2.06-2.06.94zm10 10l.94 2.06.94-2.06 2.06-.94-2.06-.94-.94-2.06-.94 2.06-2.06.94z\"/><path d=\"M17.41 7.96l-1.37-1.37c-.4-.4-.92-.59-1.43-.59-.52 0-1.04.2-1.43.59L10.3 9.45l-7.72 7.72c-.78.78-.78 2.05 0 2.83L4 21.41c.39.39.9.59 1.41.59.51 0 1.02-.2 1.41-.59l7.78-7.78 2.81-2.81c.8-.78.8-2.07 0-2.86zM5.41 20L4 18.59l7.72-7.72 1.47 1.35L5.41 20z\"/>\n",
              "  </svg>\n",
              "      </button>\n",
              "      \n",
              "  <style>\n",
              "    .colab-df-container {\n",
              "      display:flex;\n",
              "      flex-wrap:wrap;\n",
              "      gap: 12px;\n",
              "    }\n",
              "\n",
              "    .colab-df-convert {\n",
              "      background-color: #E8F0FE;\n",
              "      border: none;\n",
              "      border-radius: 50%;\n",
              "      cursor: pointer;\n",
              "      display: none;\n",
              "      fill: #1967D2;\n",
              "      height: 32px;\n",
              "      padding: 0 0 0 0;\n",
              "      width: 32px;\n",
              "    }\n",
              "\n",
              "    .colab-df-convert:hover {\n",
              "      background-color: #E2EBFA;\n",
              "      box-shadow: 0px 1px 2px rgba(60, 64, 67, 0.3), 0px 1px 3px 1px rgba(60, 64, 67, 0.15);\n",
              "      fill: #174EA6;\n",
              "    }\n",
              "\n",
              "    [theme=dark] .colab-df-convert {\n",
              "      background-color: #3B4455;\n",
              "      fill: #D2E3FC;\n",
              "    }\n",
              "\n",
              "    [theme=dark] .colab-df-convert:hover {\n",
              "      background-color: #434B5C;\n",
              "      box-shadow: 0px 1px 3px 1px rgba(0, 0, 0, 0.15);\n",
              "      filter: drop-shadow(0px 1px 2px rgba(0, 0, 0, 0.3));\n",
              "      fill: #FFFFFF;\n",
              "    }\n",
              "  </style>\n",
              "\n",
              "      <script>\n",
              "        const buttonEl =\n",
              "          document.querySelector('#df-874ef212-8329-4d72-acf7-0831ee2ce431 button.colab-df-convert');\n",
              "        buttonEl.style.display =\n",
              "          google.colab.kernel.accessAllowed ? 'block' : 'none';\n",
              "\n",
              "        async function convertToInteractive(key) {\n",
              "          const element = document.querySelector('#df-874ef212-8329-4d72-acf7-0831ee2ce431');\n",
              "          const dataTable =\n",
              "            await google.colab.kernel.invokeFunction('convertToInteractive',\n",
              "                                                     [key], {});\n",
              "          if (!dataTable) return;\n",
              "\n",
              "          const docLinkHtml = 'Like what you see? Visit the ' +\n",
              "            '<a target=\"_blank\" href=https://colab.research.google.com/notebooks/data_table.ipynb>data table notebook</a>'\n",
              "            + ' to learn more about interactive tables.';\n",
              "          element.innerHTML = '';\n",
              "          dataTable['output_type'] = 'display_data';\n",
              "          await google.colab.output.renderOutput(dataTable, element);\n",
              "          const docLink = document.createElement('div');\n",
              "          docLink.innerHTML = docLinkHtml;\n",
              "          element.appendChild(docLink);\n",
              "        }\n",
              "      </script>\n",
              "    </div>\n",
              "  </div>\n",
              "  "
            ],
            "text/plain": [
              "          Negative  Positive\n",
              "Negative       210      1008\n",
              "Positive       119      5456"
            ]
          },
          "metadata": {},
          "execution_count": 40
        }
      ]
    },
    {
      "cell_type": "code",
      "source": [
        "\n",
        "print(classification_report(y_test, lr_snt_predict))"
      ],
      "metadata": {
        "colab": {
          "base_uri": "https://localhost:8080/"
        },
        "id": "Eipwd7Yb_a2t",
        "outputId": "7179cfd1-5c7e-4379-88a5-b32ceda67884"
      },
      "execution_count": 41,
      "outputs": [
        {
          "output_type": "stream",
          "name": "stdout",
          "text": [
            "              precision    recall  f1-score   support\n",
            "\n",
            "           0       0.64      0.17      0.27      1218\n",
            "           1       0.84      0.98      0.91      5575\n",
            "\n",
            "    accuracy                           0.83      6793\n",
            "   macro avg       0.74      0.58      0.59      6793\n",
            "weighted avg       0.81      0.83      0.79      6793\n",
            "\n"
          ]
        }
      ]
    },
    {
      "cell_type": "markdown",
      "source": [
        "Based on the indices of precision column of evaluation, this model slightly better than the previous model."
      ],
      "metadata": {
        "id": "IljqGgOWH_bG"
      }
    },
    {
      "cell_type": "markdown",
      "source": [
        "#### __Text Pre-processing and Wrangling__\n",
        "To use NLP feature engineering like Bag of Words model, we have to clean and pre-process out data. \n",
        "\n",
        "Process:\n",
        "- Text Lowercasing\n",
        "- Removal of contractions\n",
        "- Removing unnecessary characters, numbers and symbols\n",
        "- Stopword removal"
      ],
      "metadata": {
        "id": "XPoev3NfPfGn"
      }
    },
    {
      "cell_type": "code",
      "source": [
        "!pip install contractions\n",
        "!pip install textsearch\n",
        "!pip install tqdm"
      ],
      "metadata": {
        "colab": {
          "base_uri": "https://localhost:8080/"
        },
        "id": "bMGyX7G8HWyW",
        "outputId": "1b0a3bd1-260f-4b33-aff8-554c279f3191"
      },
      "execution_count": 42,
      "outputs": [
        {
          "output_type": "stream",
          "name": "stdout",
          "text": [
            "Collecting contractions\n",
            "  Downloading contractions-0.1.66-py2.py3-none-any.whl (8.0 kB)\n",
            "Collecting textsearch>=0.0.21\n",
            "  Downloading textsearch-0.0.21-py2.py3-none-any.whl (7.5 kB)\n",
            "Collecting anyascii\n",
            "  Downloading anyascii-0.3.0-py3-none-any.whl (284 kB)\n",
            "\u001b[K     |████████████████████████████████| 284 kB 3.2 MB/s \n",
            "\u001b[?25hCollecting pyahocorasick\n",
            "  Downloading pyahocorasick-1.4.2.tar.gz (321 kB)\n",
            "\u001b[K     |████████████████████████████████| 321 kB 51.5 MB/s \n",
            "\u001b[?25hBuilding wheels for collected packages: pyahocorasick\n",
            "  Building wheel for pyahocorasick (setup.py) ... \u001b[?25l\u001b[?25hdone\n",
            "  Created wheel for pyahocorasick: filename=pyahocorasick-1.4.2-cp37-cp37m-linux_x86_64.whl size=85439 sha256=e2bf389ad2c160b9f54f1f32018cbf62cb1f85fb611b816e6b781849cba040a5\n",
            "  Stored in directory: /root/.cache/pip/wheels/25/19/a6/8f363d9939162782bb8439d886469756271abc01f76fbd790f\n",
            "Successfully built pyahocorasick\n",
            "Installing collected packages: pyahocorasick, anyascii, textsearch, contractions\n",
            "Successfully installed anyascii-0.3.0 contractions-0.1.66 pyahocorasick-1.4.2 textsearch-0.0.21\n",
            "Requirement already satisfied: textsearch in /usr/local/lib/python3.7/dist-packages (0.0.21)\n",
            "Requirement already satisfied: pyahocorasick in /usr/local/lib/python3.7/dist-packages (from textsearch) (1.4.2)\n",
            "Requirement already satisfied: anyascii in /usr/local/lib/python3.7/dist-packages (from textsearch) (0.3.0)\n",
            "Requirement already satisfied: tqdm in /usr/local/lib/python3.7/dist-packages (4.62.3)\n"
          ]
        }
      ]
    },
    {
      "cell_type": "code",
      "source": [
        "import nltk\n",
        "import contractions\n",
        "import re\n",
        "import tqdm\n",
        "\n",
        "nltk.download('punkt')\n",
        "nltk.download('stopwords')\n",
        "nltk.download('averaged_perceptron_tagger')"
      ],
      "metadata": {
        "colab": {
          "base_uri": "https://localhost:8080/"
        },
        "id": "dy7oJqJrPzZO",
        "outputId": "5832b0f2-8296-4922-dcb4-fa32f9df73fc"
      },
      "execution_count": 43,
      "outputs": [
        {
          "output_type": "stream",
          "name": "stdout",
          "text": [
            "[nltk_data] Downloading package punkt to /root/nltk_data...\n",
            "[nltk_data]   Unzipping tokenizers/punkt.zip.\n",
            "[nltk_data] Downloading package stopwords to /root/nltk_data...\n",
            "[nltk_data]   Unzipping corpora/stopwords.zip.\n",
            "[nltk_data] Downloading package averaged_perceptron_tagger to\n",
            "[nltk_data]     /root/nltk_data...\n",
            "[nltk_data]   Unzipping taggers/averaged_perceptron_tagger.zip.\n"
          ]
        },
        {
          "output_type": "execute_result",
          "data": {
            "text/plain": [
              "True"
            ]
          },
          "metadata": {},
          "execution_count": 43
        }
      ]
    },
    {
      "cell_type": "code",
      "source": [
        "# remove some stopwords to capture negation in n-grams later on if possible\n",
        "stopwords = nltk.corpus.stopwords.words('english')\n",
        "stopwords.remove('no')\n",
        "stopwords.remove('not')\n",
        "stopwords.remove('but')\n",
        "\n",
        "def normalize_corpus(docs):\n",
        "    norm_docs = []\n",
        "    for doc in tqdm.tqdm(docs):\n",
        "        # fix contractions\n",
        "        doc = contractions.fix(doc)\n",
        "        # remove special characters and digits\n",
        "        doc = re.sub(r'[^a-zA-Z\\s]', '', doc, flags = re.I|re.A)\n",
        "        # lower case\n",
        "        doc = doc.lower()\n",
        "        # strip whitespaces\n",
        "        doc = doc.strip()\n",
        "        # tokenize document\n",
        "        tokens = nltk.word_tokenize(doc)\n",
        "        #filter stopwords out of document\n",
        "        filtered_tokens = [token for token in tokens if token not in stopwords]\n",
        "        # re-create document from filtered tokens\n",
        "        filtered_tokens = ' '.join(filtered_tokens)\n",
        "        # append doc to norm_docs\n",
        "        norm_docs.append(filtered_tokens)\n",
        "\n",
        "    return norm_docs\n"
      ],
      "metadata": {
        "id": "C-6SJJlRP8Sm"
      },
      "execution_count": 44,
      "outputs": []
    },
    {
      "cell_type": "code",
      "source": [
        "x_train['Clean Review'] = normalize_corpus(x_train[feature_col].values)\n",
        "x_test['Clean Review']= normalize_corpus(x_test[feature_col].values)"
      ],
      "metadata": {
        "colab": {
          "base_uri": "https://localhost:8080/"
        },
        "id": "RNZ_EB3NRzEX",
        "outputId": "21dfa8fd-27fb-44a9-973c-d946e59b1e80"
      },
      "execution_count": 48,
      "outputs": [
        {
          "output_type": "stream",
          "name": "stderr",
          "text": [
            "100%|██████████| 15849/15849 [00:14<00:00, 1112.77it/s]\n",
            "100%|██████████| 6793/6793 [00:03<00:00, 2099.39it/s]\n"
          ]
        }
      ]
    },
    {
      "cell_type": "code",
      "source": [
        "#Drop review columns\n",
        "X_train = x_train[['Clean Review', 'Age', 'Positive Feedback Count', 'Polarity', 'Subjectivity']]\n",
        "X_test = x_test[['Clean Review', 'Age', 'Positive Feedback Count', 'Polarity', 'Subjectivity']]"
      ],
      "metadata": {
        "id": "rsgpWftbVAVn"
      },
      "execution_count": 49,
      "outputs": []
    },
    {
      "cell_type": "code",
      "source": [
        "#Extracting out the structued features from previous experiments\n",
        "X_train_struct = X_train.drop(['Clean Review'], axis=1).reset_index(drop=True)\n",
        "X_test_struct = X_test.drop(['Clean Review'], axis=1).reset_index(drop=True)\n",
        "\n",
        "X_train_struct.head()"
      ],
      "metadata": {
        "colab": {
          "base_uri": "https://localhost:8080/",
          "height": 206
        },
        "id": "r1mnDG-SVLYv",
        "outputId": "84e4ce83-96ab-4ad5-b9b7-72328a418876"
      },
      "execution_count": 50,
      "outputs": [
        {
          "output_type": "execute_result",
          "data": {
            "text/html": [
              "\n",
              "  <div id=\"df-7ad6ee2a-6614-4e25-bad9-d1bb0c2759d4\">\n",
              "    <div class=\"colab-df-container\">\n",
              "      <div>\n",
              "<style scoped>\n",
              "    .dataframe tbody tr th:only-of-type {\n",
              "        vertical-align: middle;\n",
              "    }\n",
              "\n",
              "    .dataframe tbody tr th {\n",
              "        vertical-align: top;\n",
              "    }\n",
              "\n",
              "    .dataframe thead th {\n",
              "        text-align: right;\n",
              "    }\n",
              "</style>\n",
              "<table border=\"1\" class=\"dataframe\">\n",
              "  <thead>\n",
              "    <tr style=\"text-align: right;\">\n",
              "      <th></th>\n",
              "      <th>Age</th>\n",
              "      <th>Positive Feedback Count</th>\n",
              "      <th>Polarity</th>\n",
              "      <th>Subjectivity</th>\n",
              "    </tr>\n",
              "  </thead>\n",
              "  <tbody>\n",
              "    <tr>\n",
              "      <th>0</th>\n",
              "      <td>79</td>\n",
              "      <td>8</td>\n",
              "      <td>0.237380</td>\n",
              "      <td>0.641259</td>\n",
              "    </tr>\n",
              "    <tr>\n",
              "      <th>1</th>\n",
              "      <td>32</td>\n",
              "      <td>3</td>\n",
              "      <td>0.260000</td>\n",
              "      <td>0.400000</td>\n",
              "    </tr>\n",
              "    <tr>\n",
              "      <th>2</th>\n",
              "      <td>34</td>\n",
              "      <td>0</td>\n",
              "      <td>0.180093</td>\n",
              "      <td>0.562963</td>\n",
              "    </tr>\n",
              "    <tr>\n",
              "      <th>3</th>\n",
              "      <td>34</td>\n",
              "      <td>0</td>\n",
              "      <td>0.114286</td>\n",
              "      <td>0.610440</td>\n",
              "    </tr>\n",
              "    <tr>\n",
              "      <th>4</th>\n",
              "      <td>57</td>\n",
              "      <td>1</td>\n",
              "      <td>0.321667</td>\n",
              "      <td>0.721111</td>\n",
              "    </tr>\n",
              "  </tbody>\n",
              "</table>\n",
              "</div>\n",
              "      <button class=\"colab-df-convert\" onclick=\"convertToInteractive('df-7ad6ee2a-6614-4e25-bad9-d1bb0c2759d4')\"\n",
              "              title=\"Convert this dataframe to an interactive table.\"\n",
              "              style=\"display:none;\">\n",
              "        \n",
              "  <svg xmlns=\"http://www.w3.org/2000/svg\" height=\"24px\"viewBox=\"0 0 24 24\"\n",
              "       width=\"24px\">\n",
              "    <path d=\"M0 0h24v24H0V0z\" fill=\"none\"/>\n",
              "    <path d=\"M18.56 5.44l.94 2.06.94-2.06 2.06-.94-2.06-.94-.94-2.06-.94 2.06-2.06.94zm-11 1L8.5 8.5l.94-2.06 2.06-.94-2.06-.94L8.5 2.5l-.94 2.06-2.06.94zm10 10l.94 2.06.94-2.06 2.06-.94-2.06-.94-.94-2.06-.94 2.06-2.06.94z\"/><path d=\"M17.41 7.96l-1.37-1.37c-.4-.4-.92-.59-1.43-.59-.52 0-1.04.2-1.43.59L10.3 9.45l-7.72 7.72c-.78.78-.78 2.05 0 2.83L4 21.41c.39.39.9.59 1.41.59.51 0 1.02-.2 1.41-.59l7.78-7.78 2.81-2.81c.8-.78.8-2.07 0-2.86zM5.41 20L4 18.59l7.72-7.72 1.47 1.35L5.41 20z\"/>\n",
              "  </svg>\n",
              "      </button>\n",
              "      \n",
              "  <style>\n",
              "    .colab-df-container {\n",
              "      display:flex;\n",
              "      flex-wrap:wrap;\n",
              "      gap: 12px;\n",
              "    }\n",
              "\n",
              "    .colab-df-convert {\n",
              "      background-color: #E8F0FE;\n",
              "      border: none;\n",
              "      border-radius: 50%;\n",
              "      cursor: pointer;\n",
              "      display: none;\n",
              "      fill: #1967D2;\n",
              "      height: 32px;\n",
              "      padding: 0 0 0 0;\n",
              "      width: 32px;\n",
              "    }\n",
              "\n",
              "    .colab-df-convert:hover {\n",
              "      background-color: #E2EBFA;\n",
              "      box-shadow: 0px 1px 2px rgba(60, 64, 67, 0.3), 0px 1px 3px 1px rgba(60, 64, 67, 0.15);\n",
              "      fill: #174EA6;\n",
              "    }\n",
              "\n",
              "    [theme=dark] .colab-df-convert {\n",
              "      background-color: #3B4455;\n",
              "      fill: #D2E3FC;\n",
              "    }\n",
              "\n",
              "    [theme=dark] .colab-df-convert:hover {\n",
              "      background-color: #434B5C;\n",
              "      box-shadow: 0px 1px 3px 1px rgba(0, 0, 0, 0.15);\n",
              "      filter: drop-shadow(0px 1px 2px rgba(0, 0, 0, 0.3));\n",
              "      fill: #FFFFFF;\n",
              "    }\n",
              "  </style>\n",
              "\n",
              "      <script>\n",
              "        const buttonEl =\n",
              "          document.querySelector('#df-7ad6ee2a-6614-4e25-bad9-d1bb0c2759d4 button.colab-df-convert');\n",
              "        buttonEl.style.display =\n",
              "          google.colab.kernel.accessAllowed ? 'block' : 'none';\n",
              "\n",
              "        async function convertToInteractive(key) {\n",
              "          const element = document.querySelector('#df-7ad6ee2a-6614-4e25-bad9-d1bb0c2759d4');\n",
              "          const dataTable =\n",
              "            await google.colab.kernel.invokeFunction('convertToInteractive',\n",
              "                                                     [key], {});\n",
              "          if (!dataTable) return;\n",
              "\n",
              "          const docLinkHtml = 'Like what you see? Visit the ' +\n",
              "            '<a target=\"_blank\" href=https://colab.research.google.com/notebooks/data_table.ipynb>data table notebook</a>'\n",
              "            + ' to learn more about interactive tables.';\n",
              "          element.innerHTML = '';\n",
              "          dataTable['output_type'] = 'display_data';\n",
              "          await google.colab.output.renderOutput(dataTable, element);\n",
              "          const docLink = document.createElement('div');\n",
              "          docLink.innerHTML = docLinkHtml;\n",
              "          element.appendChild(docLink);\n",
              "        }\n",
              "      </script>\n",
              "    </div>\n",
              "  </div>\n",
              "  "
            ],
            "text/plain": [
              "   Age  Positive Feedback Count  Polarity  Subjectivity\n",
              "0   79                        8  0.237380      0.641259\n",
              "1   32                        3  0.260000      0.400000\n",
              "2   34                        0  0.180093      0.562963\n",
              "3   34                        0  0.114286      0.610440\n",
              "4   57                        1  0.321667      0.721111"
            ]
          },
          "metadata": {},
          "execution_count": 50
        }
      ]
    },
    {
      "cell_type": "markdown",
      "source": [
        "### __Experiment 3: Modeling based on Bag of Words based Features - 1-grams__\n"
      ],
      "metadata": {
        "id": "o1_5qikoV5Hj"
      }
    },
    {
      "cell_type": "code",
      "source": [
        "train_clean_text = X_train['Clean Review']\n",
        "test_clean_text = X_test['Clean Review']"
      ],
      "metadata": {
        "id": "5D38hPc3VyZH"
      },
      "execution_count": 51,
      "outputs": []
    },
    {
      "cell_type": "code",
      "source": [
        "from sklearn.feature_extraction.text import CountVectorizer \n",
        "cv = CountVectorizer(min_df = 0.0, max_df = 1.0, ngram_range = (1,1))\n",
        "X_trainCV = cv.fit_transform(train_clean_text)\n",
        "X_testCV = cv.transform(test_clean_text)\n",
        "X_trainCV\n"
      ],
      "metadata": {
        "colab": {
          "base_uri": "https://localhost:8080/"
        },
        "id": "aaHencoiWON2",
        "outputId": "bf4ff447-7de4-406a-f399-20d73a4790d4"
      },
      "execution_count": 52,
      "outputs": [
        {
          "output_type": "execute_result",
          "data": {
            "text/plain": [
              "<15849x15490 sparse matrix of type '<class 'numpy.int64'>'\n",
              "\twith 445775 stored elements in Compressed Sparse Row format>"
            ]
          },
          "metadata": {},
          "execution_count": 52
        }
      ]
    },
    {
      "cell_type": "markdown",
      "source": [
        "Model Training and Evaluation"
      ],
      "metadata": {
        "id": "zpx-Zkgc6HBd"
      }
    },
    {
      "cell_type": "code",
      "source": [
        "#fit model\n",
        "lr = LogisticRegression(C=1, random_state= 42, solver='lbfgs', max_iter = 1e4)\n",
        "lr.fit(X_trainCV, y_train)\n",
        "#Predict on the test vectors\n",
        "lr_test_predict = lr.predict(X_testCV)\n",
        "#Evaluate model performance \n",
        "lable = ['Negative', 'Positive']\n",
        "pd.DataFrame(confusion_matrix(y_test, lr_test_predict), index = lable, columns= lable)\n"
      ],
      "metadata": {
        "colab": {
          "base_uri": "https://localhost:8080/",
          "height": 112
        },
        "id": "Nviz3-XV5o1k",
        "outputId": "9d87e84b-9b83-4004-e80b-78c77b383b96"
      },
      "execution_count": 53,
      "outputs": [
        {
          "output_type": "execute_result",
          "data": {
            "text/html": [
              "\n",
              "  <div id=\"df-d3093f5c-0959-4262-bb72-ceb9a90de187\">\n",
              "    <div class=\"colab-df-container\">\n",
              "      <div>\n",
              "<style scoped>\n",
              "    .dataframe tbody tr th:only-of-type {\n",
              "        vertical-align: middle;\n",
              "    }\n",
              "\n",
              "    .dataframe tbody tr th {\n",
              "        vertical-align: top;\n",
              "    }\n",
              "\n",
              "    .dataframe thead th {\n",
              "        text-align: right;\n",
              "    }\n",
              "</style>\n",
              "<table border=\"1\" class=\"dataframe\">\n",
              "  <thead>\n",
              "    <tr style=\"text-align: right;\">\n",
              "      <th></th>\n",
              "      <th>Negative</th>\n",
              "      <th>Positive</th>\n",
              "    </tr>\n",
              "  </thead>\n",
              "  <tbody>\n",
              "    <tr>\n",
              "      <th>Negative</th>\n",
              "      <td>801</td>\n",
              "      <td>417</td>\n",
              "    </tr>\n",
              "    <tr>\n",
              "      <th>Positive</th>\n",
              "      <td>258</td>\n",
              "      <td>5317</td>\n",
              "    </tr>\n",
              "  </tbody>\n",
              "</table>\n",
              "</div>\n",
              "      <button class=\"colab-df-convert\" onclick=\"convertToInteractive('df-d3093f5c-0959-4262-bb72-ceb9a90de187')\"\n",
              "              title=\"Convert this dataframe to an interactive table.\"\n",
              "              style=\"display:none;\">\n",
              "        \n",
              "  <svg xmlns=\"http://www.w3.org/2000/svg\" height=\"24px\"viewBox=\"0 0 24 24\"\n",
              "       width=\"24px\">\n",
              "    <path d=\"M0 0h24v24H0V0z\" fill=\"none\"/>\n",
              "    <path d=\"M18.56 5.44l.94 2.06.94-2.06 2.06-.94-2.06-.94-.94-2.06-.94 2.06-2.06.94zm-11 1L8.5 8.5l.94-2.06 2.06-.94-2.06-.94L8.5 2.5l-.94 2.06-2.06.94zm10 10l.94 2.06.94-2.06 2.06-.94-2.06-.94-.94-2.06-.94 2.06-2.06.94z\"/><path d=\"M17.41 7.96l-1.37-1.37c-.4-.4-.92-.59-1.43-.59-.52 0-1.04.2-1.43.59L10.3 9.45l-7.72 7.72c-.78.78-.78 2.05 0 2.83L4 21.41c.39.39.9.59 1.41.59.51 0 1.02-.2 1.41-.59l7.78-7.78 2.81-2.81c.8-.78.8-2.07 0-2.86zM5.41 20L4 18.59l7.72-7.72 1.47 1.35L5.41 20z\"/>\n",
              "  </svg>\n",
              "      </button>\n",
              "      \n",
              "  <style>\n",
              "    .colab-df-container {\n",
              "      display:flex;\n",
              "      flex-wrap:wrap;\n",
              "      gap: 12px;\n",
              "    }\n",
              "\n",
              "    .colab-df-convert {\n",
              "      background-color: #E8F0FE;\n",
              "      border: none;\n",
              "      border-radius: 50%;\n",
              "      cursor: pointer;\n",
              "      display: none;\n",
              "      fill: #1967D2;\n",
              "      height: 32px;\n",
              "      padding: 0 0 0 0;\n",
              "      width: 32px;\n",
              "    }\n",
              "\n",
              "    .colab-df-convert:hover {\n",
              "      background-color: #E2EBFA;\n",
              "      box-shadow: 0px 1px 2px rgba(60, 64, 67, 0.3), 0px 1px 3px 1px rgba(60, 64, 67, 0.15);\n",
              "      fill: #174EA6;\n",
              "    }\n",
              "\n",
              "    [theme=dark] .colab-df-convert {\n",
              "      background-color: #3B4455;\n",
              "      fill: #D2E3FC;\n",
              "    }\n",
              "\n",
              "    [theme=dark] .colab-df-convert:hover {\n",
              "      background-color: #434B5C;\n",
              "      box-shadow: 0px 1px 3px 1px rgba(0, 0, 0, 0.15);\n",
              "      filter: drop-shadow(0px 1px 2px rgba(0, 0, 0, 0.3));\n",
              "      fill: #FFFFFF;\n",
              "    }\n",
              "  </style>\n",
              "\n",
              "      <script>\n",
              "        const buttonEl =\n",
              "          document.querySelector('#df-d3093f5c-0959-4262-bb72-ceb9a90de187 button.colab-df-convert');\n",
              "        buttonEl.style.display =\n",
              "          google.colab.kernel.accessAllowed ? 'block' : 'none';\n",
              "\n",
              "        async function convertToInteractive(key) {\n",
              "          const element = document.querySelector('#df-d3093f5c-0959-4262-bb72-ceb9a90de187');\n",
              "          const dataTable =\n",
              "            await google.colab.kernel.invokeFunction('convertToInteractive',\n",
              "                                                     [key], {});\n",
              "          if (!dataTable) return;\n",
              "\n",
              "          const docLinkHtml = 'Like what you see? Visit the ' +\n",
              "            '<a target=\"_blank\" href=https://colab.research.google.com/notebooks/data_table.ipynb>data table notebook</a>'\n",
              "            + ' to learn more about interactive tables.';\n",
              "          element.innerHTML = '';\n",
              "          dataTable['output_type'] = 'display_data';\n",
              "          await google.colab.output.renderOutput(dataTable, element);\n",
              "          const docLink = document.createElement('div');\n",
              "          docLink.innerHTML = docLinkHtml;\n",
              "          element.appendChild(docLink);\n",
              "        }\n",
              "      </script>\n",
              "    </div>\n",
              "  </div>\n",
              "  "
            ],
            "text/plain": [
              "          Negative  Positive\n",
              "Negative       801       417\n",
              "Positive       258      5317"
            ]
          },
          "metadata": {},
          "execution_count": 53
        }
      ]
    },
    {
      "cell_type": "code",
      "source": [
        "print(classification_report(y_test, lr_test_predict))"
      ],
      "metadata": {
        "colab": {
          "base_uri": "https://localhost:8080/"
        },
        "id": "hjvpMnvB_TJV",
        "outputId": "ac0bed3f-ccf4-4bd4-a6ca-1e59e33e0575"
      },
      "execution_count": 54,
      "outputs": [
        {
          "output_type": "stream",
          "name": "stdout",
          "text": [
            "              precision    recall  f1-score   support\n",
            "\n",
            "           0       0.76      0.66      0.70      1218\n",
            "           1       0.93      0.95      0.94      5575\n",
            "\n",
            "    accuracy                           0.90      6793\n",
            "   macro avg       0.84      0.81      0.82      6793\n",
            "weighted avg       0.90      0.90      0.90      6793\n",
            "\n"
          ]
        }
      ]
    },
    {
      "cell_type": "markdown",
      "source": [
        "This result is far better than the previous models."
      ],
      "metadata": {
        "id": "5b3hwn-N7ccj"
      }
    },
    {
      "cell_type": "markdown",
      "source": [
        "### __Experiment 4: Modeling with Bag of Words based Features - 2-grams__\n",
        "\n",
        "Using 1 and 2-grams "
      ],
      "metadata": {
        "id": "Bvc4-Kp37ioU"
      }
    },
    {
      "cell_type": "code",
      "source": [
        "\n",
        "cv = CountVectorizer(min_df = 0.0, max_df = 1.0, ngram_range = (1,2))\n",
        "X_traincv2 = cv.fit_transform(train_clean_text)\n",
        "X_testcv2 = cv.transform(test_clean_text)\n",
        "X_traincv2\n"
      ],
      "metadata": {
        "colab": {
          "base_uri": "https://localhost:8080/"
        },
        "id": "qCyOCdIU7Y18",
        "outputId": "b613f33b-6650-4613-86c5-278b63bfc3c3"
      },
      "execution_count": 55,
      "outputs": [
        {
          "output_type": "execute_result",
          "data": {
            "text/plain": [
              "<15849x227749 sparse matrix of type '<class 'numpy.int64'>'\n",
              "\twith 930126 stored elements in Compressed Sparse Row format>"
            ]
          },
          "metadata": {},
          "execution_count": 55
        }
      ]
    },
    {
      "cell_type": "markdown",
      "source": [
        "Model Training and Evaluation\n",
        "\n",
        "\n"
      ],
      "metadata": {
        "id": "dPI8vZz68C9M"
      }
    },
    {
      "cell_type": "code",
      "source": [
        "#fit model\n",
        "lr = LogisticRegression(C=1, random_state= 42, solver='lbfgs', max_iter = 1e4)\n",
        "lr.fit(X_traincv2, y_train)\n",
        "#Predict on the test vectors\n",
        "lr_test_predict2 = lr.predict(X_testcv2)\n",
        "#Evaluate model performance \n",
        "lable = ['Negative', 'Positive']\n",
        "pd.DataFrame(confusion_matrix(y_test, lr_test_predict2), index = lable, columns= lable)\n"
      ],
      "metadata": {
        "colab": {
          "base_uri": "https://localhost:8080/",
          "height": 112
        },
        "id": "W0x8GeVR79F-",
        "outputId": "fcfe0066-664c-407c-feed-d4a4ab4b12b3"
      },
      "execution_count": 56,
      "outputs": [
        {
          "output_type": "execute_result",
          "data": {
            "text/html": [
              "\n",
              "  <div id=\"df-b277bc56-7a72-47f2-8166-a1eb0503dc7b\">\n",
              "    <div class=\"colab-df-container\">\n",
              "      <div>\n",
              "<style scoped>\n",
              "    .dataframe tbody tr th:only-of-type {\n",
              "        vertical-align: middle;\n",
              "    }\n",
              "\n",
              "    .dataframe tbody tr th {\n",
              "        vertical-align: top;\n",
              "    }\n",
              "\n",
              "    .dataframe thead th {\n",
              "        text-align: right;\n",
              "    }\n",
              "</style>\n",
              "<table border=\"1\" class=\"dataframe\">\n",
              "  <thead>\n",
              "    <tr style=\"text-align: right;\">\n",
              "      <th></th>\n",
              "      <th>Negative</th>\n",
              "      <th>Positive</th>\n",
              "    </tr>\n",
              "  </thead>\n",
              "  <tbody>\n",
              "    <tr>\n",
              "      <th>Negative</th>\n",
              "      <td>821</td>\n",
              "      <td>397</td>\n",
              "    </tr>\n",
              "    <tr>\n",
              "      <th>Positive</th>\n",
              "      <td>215</td>\n",
              "      <td>5360</td>\n",
              "    </tr>\n",
              "  </tbody>\n",
              "</table>\n",
              "</div>\n",
              "      <button class=\"colab-df-convert\" onclick=\"convertToInteractive('df-b277bc56-7a72-47f2-8166-a1eb0503dc7b')\"\n",
              "              title=\"Convert this dataframe to an interactive table.\"\n",
              "              style=\"display:none;\">\n",
              "        \n",
              "  <svg xmlns=\"http://www.w3.org/2000/svg\" height=\"24px\"viewBox=\"0 0 24 24\"\n",
              "       width=\"24px\">\n",
              "    <path d=\"M0 0h24v24H0V0z\" fill=\"none\"/>\n",
              "    <path d=\"M18.56 5.44l.94 2.06.94-2.06 2.06-.94-2.06-.94-.94-2.06-.94 2.06-2.06.94zm-11 1L8.5 8.5l.94-2.06 2.06-.94-2.06-.94L8.5 2.5l-.94 2.06-2.06.94zm10 10l.94 2.06.94-2.06 2.06-.94-2.06-.94-.94-2.06-.94 2.06-2.06.94z\"/><path d=\"M17.41 7.96l-1.37-1.37c-.4-.4-.92-.59-1.43-.59-.52 0-1.04.2-1.43.59L10.3 9.45l-7.72 7.72c-.78.78-.78 2.05 0 2.83L4 21.41c.39.39.9.59 1.41.59.51 0 1.02-.2 1.41-.59l7.78-7.78 2.81-2.81c.8-.78.8-2.07 0-2.86zM5.41 20L4 18.59l7.72-7.72 1.47 1.35L5.41 20z\"/>\n",
              "  </svg>\n",
              "      </button>\n",
              "      \n",
              "  <style>\n",
              "    .colab-df-container {\n",
              "      display:flex;\n",
              "      flex-wrap:wrap;\n",
              "      gap: 12px;\n",
              "    }\n",
              "\n",
              "    .colab-df-convert {\n",
              "      background-color: #E8F0FE;\n",
              "      border: none;\n",
              "      border-radius: 50%;\n",
              "      cursor: pointer;\n",
              "      display: none;\n",
              "      fill: #1967D2;\n",
              "      height: 32px;\n",
              "      padding: 0 0 0 0;\n",
              "      width: 32px;\n",
              "    }\n",
              "\n",
              "    .colab-df-convert:hover {\n",
              "      background-color: #E2EBFA;\n",
              "      box-shadow: 0px 1px 2px rgba(60, 64, 67, 0.3), 0px 1px 3px 1px rgba(60, 64, 67, 0.15);\n",
              "      fill: #174EA6;\n",
              "    }\n",
              "\n",
              "    [theme=dark] .colab-df-convert {\n",
              "      background-color: #3B4455;\n",
              "      fill: #D2E3FC;\n",
              "    }\n",
              "\n",
              "    [theme=dark] .colab-df-convert:hover {\n",
              "      background-color: #434B5C;\n",
              "      box-shadow: 0px 1px 3px 1px rgba(0, 0, 0, 0.15);\n",
              "      filter: drop-shadow(0px 1px 2px rgba(0, 0, 0, 0.3));\n",
              "      fill: #FFFFFF;\n",
              "    }\n",
              "  </style>\n",
              "\n",
              "      <script>\n",
              "        const buttonEl =\n",
              "          document.querySelector('#df-b277bc56-7a72-47f2-8166-a1eb0503dc7b button.colab-df-convert');\n",
              "        buttonEl.style.display =\n",
              "          google.colab.kernel.accessAllowed ? 'block' : 'none';\n",
              "\n",
              "        async function convertToInteractive(key) {\n",
              "          const element = document.querySelector('#df-b277bc56-7a72-47f2-8166-a1eb0503dc7b');\n",
              "          const dataTable =\n",
              "            await google.colab.kernel.invokeFunction('convertToInteractive',\n",
              "                                                     [key], {});\n",
              "          if (!dataTable) return;\n",
              "\n",
              "          const docLinkHtml = 'Like what you see? Visit the ' +\n",
              "            '<a target=\"_blank\" href=https://colab.research.google.com/notebooks/data_table.ipynb>data table notebook</a>'\n",
              "            + ' to learn more about interactive tables.';\n",
              "          element.innerHTML = '';\n",
              "          dataTable['output_type'] = 'display_data';\n",
              "          await google.colab.output.renderOutput(dataTable, element);\n",
              "          const docLink = document.createElement('div');\n",
              "          docLink.innerHTML = docLinkHtml;\n",
              "          element.appendChild(docLink);\n",
              "        }\n",
              "      </script>\n",
              "    </div>\n",
              "  </div>\n",
              "  "
            ],
            "text/plain": [
              "          Negative  Positive\n",
              "Negative       821       397\n",
              "Positive       215      5360"
            ]
          },
          "metadata": {},
          "execution_count": 56
        }
      ]
    },
    {
      "cell_type": "code",
      "source": [
        "print(classification_report(y_test, lr_test_predict2))"
      ],
      "metadata": {
        "colab": {
          "base_uri": "https://localhost:8080/"
        },
        "id": "w3ISCn8W_MZN",
        "outputId": "39d96845-e3b4-4af0-a014-a93121568d19"
      },
      "execution_count": 57,
      "outputs": [
        {
          "output_type": "stream",
          "name": "stdout",
          "text": [
            "              precision    recall  f1-score   support\n",
            "\n",
            "           0       0.79      0.67      0.73      1218\n",
            "           1       0.93      0.96      0.95      5575\n",
            "\n",
            "    accuracy                           0.91      6793\n",
            "   macro avg       0.86      0.82      0.84      6793\n",
            "weighted avg       0.91      0.91      0.91      6793\n",
            "\n"
          ]
        }
      ]
    },
    {
      "cell_type": "markdown",
      "source": [
        "It produced minor improvements than Unigrams feature."
      ],
      "metadata": {
        "id": "WiIfPzM28TDt"
      }
    },
    {
      "cell_type": "markdown",
      "source": [
        "## __Experiment 5: Adding Bag of Words based Features 1-3-grams__ "
      ],
      "metadata": {
        "id": "cayVlKCJ8and"
      }
    },
    {
      "cell_type": "code",
      "source": [
        "cv = CountVectorizer(min_df = 0.0, max_df = 1.0, ngram_range = (1,3))\n",
        "X_traincv3 = cv.fit_transform(train_clean_text)\n",
        "X_testcv3 = cv.transform(test_clean_text)\n",
        "X_traincv3"
      ],
      "metadata": {
        "colab": {
          "base_uri": "https://localhost:8080/"
        },
        "id": "fCQNegSZ8MZ2",
        "outputId": "0c53e2be-9562-4679-b49e-7b1f8742c08e"
      },
      "execution_count": 58,
      "outputs": [
        {
          "output_type": "execute_result",
          "data": {
            "text/plain": [
              "<15849x640659 sparse matrix of type '<class 'numpy.int64'>'\n",
              "\twith 1402090 stored elements in Compressed Sparse Row format>"
            ]
          },
          "metadata": {},
          "execution_count": 58
        }
      ]
    },
    {
      "cell_type": "markdown",
      "source": [
        "Model Training and Evaluation\n",
        "\n",
        "\n",
        "\n",
        "\n"
      ],
      "metadata": {
        "id": "9wBahJCdAV_l"
      }
    },
    {
      "cell_type": "code",
      "source": [
        "#fit model\n",
        "lr = LogisticRegression(C=1, random_state= 42, solver='lbfgs', max_iter = 1e4)\n",
        "lr.fit(X_traincv3, y_train)\n",
        "#Predict on the test vectors\n",
        "lr_test_predict3 = lr.predict(X_testcv3)\n",
        "#Evaluate model performance \n",
        "lable = ['Negative', 'Positive']\n",
        "pd.DataFrame(confusion_matrix(y_test, lr_test_predict3), index = lable, columns= lable)"
      ],
      "metadata": {
        "colab": {
          "base_uri": "https://localhost:8080/",
          "height": 112
        },
        "id": "TrY3PUwB_1j1",
        "outputId": "70e8b5cd-3779-449e-cad0-33d4ca4a2348"
      },
      "execution_count": 59,
      "outputs": [
        {
          "output_type": "execute_result",
          "data": {
            "text/html": [
              "\n",
              "  <div id=\"df-d6f0d9cf-6a60-4f02-9e59-8a8f4c33b0ef\">\n",
              "    <div class=\"colab-df-container\">\n",
              "      <div>\n",
              "<style scoped>\n",
              "    .dataframe tbody tr th:only-of-type {\n",
              "        vertical-align: middle;\n",
              "    }\n",
              "\n",
              "    .dataframe tbody tr th {\n",
              "        vertical-align: top;\n",
              "    }\n",
              "\n",
              "    .dataframe thead th {\n",
              "        text-align: right;\n",
              "    }\n",
              "</style>\n",
              "<table border=\"1\" class=\"dataframe\">\n",
              "  <thead>\n",
              "    <tr style=\"text-align: right;\">\n",
              "      <th></th>\n",
              "      <th>Negative</th>\n",
              "      <th>Positive</th>\n",
              "    </tr>\n",
              "  </thead>\n",
              "  <tbody>\n",
              "    <tr>\n",
              "      <th>Negative</th>\n",
              "      <td>811</td>\n",
              "      <td>407</td>\n",
              "    </tr>\n",
              "    <tr>\n",
              "      <th>Positive</th>\n",
              "      <td>193</td>\n",
              "      <td>5382</td>\n",
              "    </tr>\n",
              "  </tbody>\n",
              "</table>\n",
              "</div>\n",
              "      <button class=\"colab-df-convert\" onclick=\"convertToInteractive('df-d6f0d9cf-6a60-4f02-9e59-8a8f4c33b0ef')\"\n",
              "              title=\"Convert this dataframe to an interactive table.\"\n",
              "              style=\"display:none;\">\n",
              "        \n",
              "  <svg xmlns=\"http://www.w3.org/2000/svg\" height=\"24px\"viewBox=\"0 0 24 24\"\n",
              "       width=\"24px\">\n",
              "    <path d=\"M0 0h24v24H0V0z\" fill=\"none\"/>\n",
              "    <path d=\"M18.56 5.44l.94 2.06.94-2.06 2.06-.94-2.06-.94-.94-2.06-.94 2.06-2.06.94zm-11 1L8.5 8.5l.94-2.06 2.06-.94-2.06-.94L8.5 2.5l-.94 2.06-2.06.94zm10 10l.94 2.06.94-2.06 2.06-.94-2.06-.94-.94-2.06-.94 2.06-2.06.94z\"/><path d=\"M17.41 7.96l-1.37-1.37c-.4-.4-.92-.59-1.43-.59-.52 0-1.04.2-1.43.59L10.3 9.45l-7.72 7.72c-.78.78-.78 2.05 0 2.83L4 21.41c.39.39.9.59 1.41.59.51 0 1.02-.2 1.41-.59l7.78-7.78 2.81-2.81c.8-.78.8-2.07 0-2.86zM5.41 20L4 18.59l7.72-7.72 1.47 1.35L5.41 20z\"/>\n",
              "  </svg>\n",
              "      </button>\n",
              "      \n",
              "  <style>\n",
              "    .colab-df-container {\n",
              "      display:flex;\n",
              "      flex-wrap:wrap;\n",
              "      gap: 12px;\n",
              "    }\n",
              "\n",
              "    .colab-df-convert {\n",
              "      background-color: #E8F0FE;\n",
              "      border: none;\n",
              "      border-radius: 50%;\n",
              "      cursor: pointer;\n",
              "      display: none;\n",
              "      fill: #1967D2;\n",
              "      height: 32px;\n",
              "      padding: 0 0 0 0;\n",
              "      width: 32px;\n",
              "    }\n",
              "\n",
              "    .colab-df-convert:hover {\n",
              "      background-color: #E2EBFA;\n",
              "      box-shadow: 0px 1px 2px rgba(60, 64, 67, 0.3), 0px 1px 3px 1px rgba(60, 64, 67, 0.15);\n",
              "      fill: #174EA6;\n",
              "    }\n",
              "\n",
              "    [theme=dark] .colab-df-convert {\n",
              "      background-color: #3B4455;\n",
              "      fill: #D2E3FC;\n",
              "    }\n",
              "\n",
              "    [theme=dark] .colab-df-convert:hover {\n",
              "      background-color: #434B5C;\n",
              "      box-shadow: 0px 1px 3px 1px rgba(0, 0, 0, 0.15);\n",
              "      filter: drop-shadow(0px 1px 2px rgba(0, 0, 0, 0.3));\n",
              "      fill: #FFFFFF;\n",
              "    }\n",
              "  </style>\n",
              "\n",
              "      <script>\n",
              "        const buttonEl =\n",
              "          document.querySelector('#df-d6f0d9cf-6a60-4f02-9e59-8a8f4c33b0ef button.colab-df-convert');\n",
              "        buttonEl.style.display =\n",
              "          google.colab.kernel.accessAllowed ? 'block' : 'none';\n",
              "\n",
              "        async function convertToInteractive(key) {\n",
              "          const element = document.querySelector('#df-d6f0d9cf-6a60-4f02-9e59-8a8f4c33b0ef');\n",
              "          const dataTable =\n",
              "            await google.colab.kernel.invokeFunction('convertToInteractive',\n",
              "                                                     [key], {});\n",
              "          if (!dataTable) return;\n",
              "\n",
              "          const docLinkHtml = 'Like what you see? Visit the ' +\n",
              "            '<a target=\"_blank\" href=https://colab.research.google.com/notebooks/data_table.ipynb>data table notebook</a>'\n",
              "            + ' to learn more about interactive tables.';\n",
              "          element.innerHTML = '';\n",
              "          dataTable['output_type'] = 'display_data';\n",
              "          await google.colab.output.renderOutput(dataTable, element);\n",
              "          const docLink = document.createElement('div');\n",
              "          docLink.innerHTML = docLinkHtml;\n",
              "          element.appendChild(docLink);\n",
              "        }\n",
              "      </script>\n",
              "    </div>\n",
              "  </div>\n",
              "  "
            ],
            "text/plain": [
              "          Negative  Positive\n",
              "Negative       811       407\n",
              "Positive       193      5382"
            ]
          },
          "metadata": {},
          "execution_count": 59
        }
      ]
    },
    {
      "cell_type": "code",
      "source": [
        "\n",
        "print(classification_report(y_test, lr_test_predict3))"
      ],
      "metadata": {
        "colab": {
          "base_uri": "https://localhost:8080/"
        },
        "id": "arLqErngAbmt",
        "outputId": "e66f7a49-8317-40aa-9354-9357a389a766"
      },
      "execution_count": 60,
      "outputs": [
        {
          "output_type": "stream",
          "name": "stdout",
          "text": [
            "              precision    recall  f1-score   support\n",
            "\n",
            "           0       0.81      0.67      0.73      1218\n",
            "           1       0.93      0.97      0.95      5575\n",
            "\n",
            "    accuracy                           0.91      6793\n",
            "   macro avg       0.87      0.82      0.84      6793\n",
            "weighted avg       0.91      0.91      0.91      6793\n",
            "\n"
          ]
        }
      ]
    },
    {
      "cell_type": "markdown",
      "source": [
        "1\\~3 grams does not give better result than 1~2 grams' model. There is no improvement of accuracy. "
      ],
      "metadata": {
        "id": "TMPKE8XAAwb9"
      }
    },
    {
      "cell_type": "markdown",
      "source": [
        "### __Experiment 6: Adding Bag of Words based Features 1-3-grams with Feature Selection__\n",
        "\n",
        "Set \"min_df\" as 3 in CountVectorizer."
      ],
      "metadata": {
        "id": "F63VEG6JBlS9"
      }
    },
    {
      "cell_type": "code",
      "source": [
        "cv = CountVectorizer(min_df = 3, max_df = 1.0, ngram_range = (1,3))\n",
        "X_traincv33 = cv.fit_transform(train_clean_text)\n",
        "X_testcv33 = cv.transform(test_clean_text)\n",
        "X_traincv33"
      ],
      "metadata": {
        "colab": {
          "base_uri": "https://localhost:8080/"
        },
        "id": "i8uDH1ZbAoVt",
        "outputId": "d56dc75d-5ea6-4065-94cf-dc0d0a722b0e"
      },
      "execution_count": 61,
      "outputs": [
        {
          "output_type": "execute_result",
          "data": {
            "text/plain": [
              "<15849x44449 sparse matrix of type '<class 'numpy.int64'>'\n",
              "\twith 762144 stored elements in Compressed Sparse Row format>"
            ]
          },
          "metadata": {},
          "execution_count": 61
        }
      ]
    },
    {
      "cell_type": "markdown",
      "source": [
        "Model Training and Evaluation"
      ],
      "metadata": {
        "id": "chf9c_gSB8Vn"
      }
    },
    {
      "cell_type": "code",
      "source": [
        "#fit model\n",
        "lr = LogisticRegression(C=1, random_state= 42, solver='lbfgs', max_iter = 1e4)\n",
        "lr.fit(X_traincv33, y_train)\n",
        "#Predict on the test vectors\n",
        "lr_test_predict33 = lr.predict(X_testcv33)\n",
        "#Evaluate model performance \n",
        "lable = ['Negative', 'Positive']\n",
        "pd.DataFrame(confusion_matrix(y_test, lr_test_predict33), index = lable, columns= lable)"
      ],
      "metadata": {
        "colab": {
          "base_uri": "https://localhost:8080/",
          "height": 112
        },
        "id": "EEM1-QnUB4LH",
        "outputId": "3b781842-e4f8-425f-b621-f58dfdc5cb1f"
      },
      "execution_count": 62,
      "outputs": [
        {
          "output_type": "execute_result",
          "data": {
            "text/html": [
              "\n",
              "  <div id=\"df-11be79bd-4da2-4f52-9e27-86d75a991664\">\n",
              "    <div class=\"colab-df-container\">\n",
              "      <div>\n",
              "<style scoped>\n",
              "    .dataframe tbody tr th:only-of-type {\n",
              "        vertical-align: middle;\n",
              "    }\n",
              "\n",
              "    .dataframe tbody tr th {\n",
              "        vertical-align: top;\n",
              "    }\n",
              "\n",
              "    .dataframe thead th {\n",
              "        text-align: right;\n",
              "    }\n",
              "</style>\n",
              "<table border=\"1\" class=\"dataframe\">\n",
              "  <thead>\n",
              "    <tr style=\"text-align: right;\">\n",
              "      <th></th>\n",
              "      <th>Negative</th>\n",
              "      <th>Positive</th>\n",
              "    </tr>\n",
              "  </thead>\n",
              "  <tbody>\n",
              "    <tr>\n",
              "      <th>Negative</th>\n",
              "      <td>833</td>\n",
              "      <td>385</td>\n",
              "    </tr>\n",
              "    <tr>\n",
              "      <th>Positive</th>\n",
              "      <td>235</td>\n",
              "      <td>5340</td>\n",
              "    </tr>\n",
              "  </tbody>\n",
              "</table>\n",
              "</div>\n",
              "      <button class=\"colab-df-convert\" onclick=\"convertToInteractive('df-11be79bd-4da2-4f52-9e27-86d75a991664')\"\n",
              "              title=\"Convert this dataframe to an interactive table.\"\n",
              "              style=\"display:none;\">\n",
              "        \n",
              "  <svg xmlns=\"http://www.w3.org/2000/svg\" height=\"24px\"viewBox=\"0 0 24 24\"\n",
              "       width=\"24px\">\n",
              "    <path d=\"M0 0h24v24H0V0z\" fill=\"none\"/>\n",
              "    <path d=\"M18.56 5.44l.94 2.06.94-2.06 2.06-.94-2.06-.94-.94-2.06-.94 2.06-2.06.94zm-11 1L8.5 8.5l.94-2.06 2.06-.94-2.06-.94L8.5 2.5l-.94 2.06-2.06.94zm10 10l.94 2.06.94-2.06 2.06-.94-2.06-.94-.94-2.06-.94 2.06-2.06.94z\"/><path d=\"M17.41 7.96l-1.37-1.37c-.4-.4-.92-.59-1.43-.59-.52 0-1.04.2-1.43.59L10.3 9.45l-7.72 7.72c-.78.78-.78 2.05 0 2.83L4 21.41c.39.39.9.59 1.41.59.51 0 1.02-.2 1.41-.59l7.78-7.78 2.81-2.81c.8-.78.8-2.07 0-2.86zM5.41 20L4 18.59l7.72-7.72 1.47 1.35L5.41 20z\"/>\n",
              "  </svg>\n",
              "      </button>\n",
              "      \n",
              "  <style>\n",
              "    .colab-df-container {\n",
              "      display:flex;\n",
              "      flex-wrap:wrap;\n",
              "      gap: 12px;\n",
              "    }\n",
              "\n",
              "    .colab-df-convert {\n",
              "      background-color: #E8F0FE;\n",
              "      border: none;\n",
              "      border-radius: 50%;\n",
              "      cursor: pointer;\n",
              "      display: none;\n",
              "      fill: #1967D2;\n",
              "      height: 32px;\n",
              "      padding: 0 0 0 0;\n",
              "      width: 32px;\n",
              "    }\n",
              "\n",
              "    .colab-df-convert:hover {\n",
              "      background-color: #E2EBFA;\n",
              "      box-shadow: 0px 1px 2px rgba(60, 64, 67, 0.3), 0px 1px 3px 1px rgba(60, 64, 67, 0.15);\n",
              "      fill: #174EA6;\n",
              "    }\n",
              "\n",
              "    [theme=dark] .colab-df-convert {\n",
              "      background-color: #3B4455;\n",
              "      fill: #D2E3FC;\n",
              "    }\n",
              "\n",
              "    [theme=dark] .colab-df-convert:hover {\n",
              "      background-color: #434B5C;\n",
              "      box-shadow: 0px 1px 3px 1px rgba(0, 0, 0, 0.15);\n",
              "      filter: drop-shadow(0px 1px 2px rgba(0, 0, 0, 0.3));\n",
              "      fill: #FFFFFF;\n",
              "    }\n",
              "  </style>\n",
              "\n",
              "      <script>\n",
              "        const buttonEl =\n",
              "          document.querySelector('#df-11be79bd-4da2-4f52-9e27-86d75a991664 button.colab-df-convert');\n",
              "        buttonEl.style.display =\n",
              "          google.colab.kernel.accessAllowed ? 'block' : 'none';\n",
              "\n",
              "        async function convertToInteractive(key) {\n",
              "          const element = document.querySelector('#df-11be79bd-4da2-4f52-9e27-86d75a991664');\n",
              "          const dataTable =\n",
              "            await google.colab.kernel.invokeFunction('convertToInteractive',\n",
              "                                                     [key], {});\n",
              "          if (!dataTable) return;\n",
              "\n",
              "          const docLinkHtml = 'Like what you see? Visit the ' +\n",
              "            '<a target=\"_blank\" href=https://colab.research.google.com/notebooks/data_table.ipynb>data table notebook</a>'\n",
              "            + ' to learn more about interactive tables.';\n",
              "          element.innerHTML = '';\n",
              "          dataTable['output_type'] = 'display_data';\n",
              "          await google.colab.output.renderOutput(dataTable, element);\n",
              "          const docLink = document.createElement('div');\n",
              "          docLink.innerHTML = docLinkHtml;\n",
              "          element.appendChild(docLink);\n",
              "        }\n",
              "      </script>\n",
              "    </div>\n",
              "  </div>\n",
              "  "
            ],
            "text/plain": [
              "          Negative  Positive\n",
              "Negative       833       385\n",
              "Positive       235      5340"
            ]
          },
          "metadata": {},
          "execution_count": 62
        }
      ]
    },
    {
      "cell_type": "code",
      "source": [
        "print(classification_report(y_test, lr_test_predict33))"
      ],
      "metadata": {
        "colab": {
          "base_uri": "https://localhost:8080/"
        },
        "id": "fs5nDWzECGyn",
        "outputId": "bbb2a4b9-6335-408b-f5f3-1424ecdfa1c8"
      },
      "execution_count": 63,
      "outputs": [
        {
          "output_type": "stream",
          "name": "stdout",
          "text": [
            "              precision    recall  f1-score   support\n",
            "\n",
            "           0       0.78      0.68      0.73      1218\n",
            "           1       0.93      0.96      0.95      5575\n",
            "\n",
            "    accuracy                           0.91      6793\n",
            "   macro avg       0.86      0.82      0.84      6793\n",
            "weighted avg       0.91      0.91      0.91      6793\n",
            "\n"
          ]
        }
      ]
    },
    {
      "cell_type": "markdown",
      "source": [
        "This model has improved the accuracy. \n"
      ],
      "metadata": {
        "id": "rzVCdtj8CRTH"
      }
    },
    {
      "cell_type": "markdown",
      "source": [
        "### __Experiment 7: Combining Bag of Words based Features - 3-grams with Feature Selection and the Structured Features__\n",
        "\n",
        "Combine our sparse BOW feature matrices with our structured features from earlier."
      ],
      "metadata": {
        "id": "qkdiSSCcCZcW"
      }
    },
    {
      "cell_type": "code",
      "source": [
        "#This is training data of BOW with 3-grams\n",
        "X_traincv33"
      ],
      "metadata": {
        "colab": {
          "base_uri": "https://localhost:8080/"
        },
        "id": "vIQHUF75CQXs",
        "outputId": "464cd75a-adb8-4bf9-a209-065cbb1ab347"
      },
      "execution_count": 64,
      "outputs": [
        {
          "output_type": "execute_result",
          "data": {
            "text/plain": [
              "<15849x44449 sparse matrix of type '<class 'numpy.int64'>'\n",
              "\twith 762144 stored elements in Compressed Sparse Row format>"
            ]
          },
          "metadata": {},
          "execution_count": 64
        }
      ]
    },
    {
      "cell_type": "code",
      "source": [
        "#Converting dense feataures into sparse format\n",
        "X_train_struct.values"
      ],
      "metadata": {
        "colab": {
          "base_uri": "https://localhost:8080/"
        },
        "id": "rIZfji1VCliF",
        "outputId": "2029b598-587c-4c05-ff9a-ae8fe97b0556"
      },
      "execution_count": 65,
      "outputs": [
        {
          "output_type": "execute_result",
          "data": {
            "text/plain": [
              "array([[ 7.90000000e+01,  8.00000000e+00,  2.37379630e-01,\n",
              "         6.41259259e-01],\n",
              "       [ 3.20000000e+01,  3.00000000e+00,  2.60000000e-01,\n",
              "         4.00000000e-01],\n",
              "       [ 3.40000000e+01,  0.00000000e+00,  1.80092593e-01,\n",
              "         5.62962963e-01],\n",
              "       ...,\n",
              "       [ 3.20000000e+01,  0.00000000e+00,  1.10185185e-01,\n",
              "         4.76851852e-01],\n",
              "       [ 3.00000000e+01,  1.00000000e+00, -1.85185185e-03,\n",
              "         3.91666667e-01],\n",
              "       [ 3.40000000e+01,  9.00000000e+00, -1.84000000e-01,\n",
              "         6.90000000e-01]])"
            ]
          },
          "metadata": {},
          "execution_count": 65
        }
      ]
    },
    {
      "cell_type": "code",
      "source": [
        "from scipy import sparse"
      ],
      "metadata": {
        "id": "mNZ0E3U0Csxt"
      },
      "execution_count": 66,
      "outputs": []
    },
    {
      "cell_type": "code",
      "source": [
        "X_train_sparse = sparse.csr_matrix(X_train_struct)"
      ],
      "metadata": {
        "id": "-BFF0FOhCwMt"
      },
      "execution_count": 67,
      "outputs": []
    },
    {
      "cell_type": "code",
      "source": [
        "X_test_sparse = sparse.csr_matrix(X_test_struct)"
      ],
      "metadata": {
        "id": "HUx9VFwK4LkO"
      },
      "execution_count": 68,
      "outputs": []
    },
    {
      "cell_type": "markdown",
      "source": [
        "This enables us to convert dense structured features (Age, Feedback count, polarity, subjectivity) into sparse format__"
      ],
      "metadata": {
        "id": "DAYbqIxmC56Z"
      }
    },
    {
      "cell_type": "code",
      "source": [
        "from scipy.sparse import hstack\n",
        "X_train_combined = hstack((X_traincv33, X_train_sparse))\n",
        "X_test_combined = hstack((X_testcv33, X_test_sparse))"
      ],
      "metadata": {
        "id": "tFT7GT8LCyr1"
      },
      "execution_count": 69,
      "outputs": []
    },
    {
      "cell_type": "code",
      "source": [
        "X_train_combined"
      ],
      "metadata": {
        "colab": {
          "base_uri": "https://localhost:8080/"
        },
        "id": "BiReIOqNNrcu",
        "outputId": "c9585159-5944-4765-dab2-679764b21e33"
      },
      "execution_count": 70,
      "outputs": [
        {
          "output_type": "execute_result",
          "data": {
            "text/plain": [
              "<15849x44453 sparse matrix of type '<class 'numpy.float64'>'\n",
              "\twith 818285 stored elements in COOrdinate format>"
            ]
          },
          "metadata": {},
          "execution_count": 70
        }
      ]
    },
    {
      "cell_type": "code",
      "source": [
        "#fit model\n",
        "lr = LogisticRegression(C=1, random_state= 42, solver='lbfgs', max_iter = 1e4)\n",
        "lr.fit(X_train_combined, y_train)\n",
        "#Predict on the test vectors\n",
        "lr_test_predict_combined = lr.predict(X_test_combined)\n",
        "#Evaluate model performance \n",
        "lable = ['Negative', 'Positive']\n",
        "pd.DataFrame(confusion_matrix(y_test, lr_test_predict_combined), index = lable, columns= lable)"
      ],
      "metadata": {
        "colab": {
          "base_uri": "https://localhost:8080/",
          "height": 112
        },
        "id": "HohmRDQgOSVs",
        "outputId": "9d46c71f-dcde-462b-88d7-9a00a80ee284"
      },
      "execution_count": 71,
      "outputs": [
        {
          "output_type": "execute_result",
          "data": {
            "text/html": [
              "\n",
              "  <div id=\"df-c5e93087-f2d7-4d1e-b983-ce7fac928678\">\n",
              "    <div class=\"colab-df-container\">\n",
              "      <div>\n",
              "<style scoped>\n",
              "    .dataframe tbody tr th:only-of-type {\n",
              "        vertical-align: middle;\n",
              "    }\n",
              "\n",
              "    .dataframe tbody tr th {\n",
              "        vertical-align: top;\n",
              "    }\n",
              "\n",
              "    .dataframe thead th {\n",
              "        text-align: right;\n",
              "    }\n",
              "</style>\n",
              "<table border=\"1\" class=\"dataframe\">\n",
              "  <thead>\n",
              "    <tr style=\"text-align: right;\">\n",
              "      <th></th>\n",
              "      <th>Negative</th>\n",
              "      <th>Positive</th>\n",
              "    </tr>\n",
              "  </thead>\n",
              "  <tbody>\n",
              "    <tr>\n",
              "      <th>Negative</th>\n",
              "      <td>847</td>\n",
              "      <td>371</td>\n",
              "    </tr>\n",
              "    <tr>\n",
              "      <th>Positive</th>\n",
              "      <td>238</td>\n",
              "      <td>5337</td>\n",
              "    </tr>\n",
              "  </tbody>\n",
              "</table>\n",
              "</div>\n",
              "      <button class=\"colab-df-convert\" onclick=\"convertToInteractive('df-c5e93087-f2d7-4d1e-b983-ce7fac928678')\"\n",
              "              title=\"Convert this dataframe to an interactive table.\"\n",
              "              style=\"display:none;\">\n",
              "        \n",
              "  <svg xmlns=\"http://www.w3.org/2000/svg\" height=\"24px\"viewBox=\"0 0 24 24\"\n",
              "       width=\"24px\">\n",
              "    <path d=\"M0 0h24v24H0V0z\" fill=\"none\"/>\n",
              "    <path d=\"M18.56 5.44l.94 2.06.94-2.06 2.06-.94-2.06-.94-.94-2.06-.94 2.06-2.06.94zm-11 1L8.5 8.5l.94-2.06 2.06-.94-2.06-.94L8.5 2.5l-.94 2.06-2.06.94zm10 10l.94 2.06.94-2.06 2.06-.94-2.06-.94-.94-2.06-.94 2.06-2.06.94z\"/><path d=\"M17.41 7.96l-1.37-1.37c-.4-.4-.92-.59-1.43-.59-.52 0-1.04.2-1.43.59L10.3 9.45l-7.72 7.72c-.78.78-.78 2.05 0 2.83L4 21.41c.39.39.9.59 1.41.59.51 0 1.02-.2 1.41-.59l7.78-7.78 2.81-2.81c.8-.78.8-2.07 0-2.86zM5.41 20L4 18.59l7.72-7.72 1.47 1.35L5.41 20z\"/>\n",
              "  </svg>\n",
              "      </button>\n",
              "      \n",
              "  <style>\n",
              "    .colab-df-container {\n",
              "      display:flex;\n",
              "      flex-wrap:wrap;\n",
              "      gap: 12px;\n",
              "    }\n",
              "\n",
              "    .colab-df-convert {\n",
              "      background-color: #E8F0FE;\n",
              "      border: none;\n",
              "      border-radius: 50%;\n",
              "      cursor: pointer;\n",
              "      display: none;\n",
              "      fill: #1967D2;\n",
              "      height: 32px;\n",
              "      padding: 0 0 0 0;\n",
              "      width: 32px;\n",
              "    }\n",
              "\n",
              "    .colab-df-convert:hover {\n",
              "      background-color: #E2EBFA;\n",
              "      box-shadow: 0px 1px 2px rgba(60, 64, 67, 0.3), 0px 1px 3px 1px rgba(60, 64, 67, 0.15);\n",
              "      fill: #174EA6;\n",
              "    }\n",
              "\n",
              "    [theme=dark] .colab-df-convert {\n",
              "      background-color: #3B4455;\n",
              "      fill: #D2E3FC;\n",
              "    }\n",
              "\n",
              "    [theme=dark] .colab-df-convert:hover {\n",
              "      background-color: #434B5C;\n",
              "      box-shadow: 0px 1px 3px 1px rgba(0, 0, 0, 0.15);\n",
              "      filter: drop-shadow(0px 1px 2px rgba(0, 0, 0, 0.3));\n",
              "      fill: #FFFFFF;\n",
              "    }\n",
              "  </style>\n",
              "\n",
              "      <script>\n",
              "        const buttonEl =\n",
              "          document.querySelector('#df-c5e93087-f2d7-4d1e-b983-ce7fac928678 button.colab-df-convert');\n",
              "        buttonEl.style.display =\n",
              "          google.colab.kernel.accessAllowed ? 'block' : 'none';\n",
              "\n",
              "        async function convertToInteractive(key) {\n",
              "          const element = document.querySelector('#df-c5e93087-f2d7-4d1e-b983-ce7fac928678');\n",
              "          const dataTable =\n",
              "            await google.colab.kernel.invokeFunction('convertToInteractive',\n",
              "                                                     [key], {});\n",
              "          if (!dataTable) return;\n",
              "\n",
              "          const docLinkHtml = 'Like what you see? Visit the ' +\n",
              "            '<a target=\"_blank\" href=https://colab.research.google.com/notebooks/data_table.ipynb>data table notebook</a>'\n",
              "            + ' to learn more about interactive tables.';\n",
              "          element.innerHTML = '';\n",
              "          dataTable['output_type'] = 'display_data';\n",
              "          await google.colab.output.renderOutput(dataTable, element);\n",
              "          const docLink = document.createElement('div');\n",
              "          docLink.innerHTML = docLinkHtml;\n",
              "          element.appendChild(docLink);\n",
              "        }\n",
              "      </script>\n",
              "    </div>\n",
              "  </div>\n",
              "  "
            ],
            "text/plain": [
              "          Negative  Positive\n",
              "Negative       847       371\n",
              "Positive       238      5337"
            ]
          },
          "metadata": {},
          "execution_count": 71
        }
      ]
    },
    {
      "cell_type": "code",
      "source": [
        "print(classification_report(y_test, lr_test_predict_combined))"
      ],
      "metadata": {
        "colab": {
          "base_uri": "https://localhost:8080/"
        },
        "id": "QZHuUY6WOuvl",
        "outputId": "68208fc8-2968-4baf-9689-07c9dd9db4c9"
      },
      "execution_count": 72,
      "outputs": [
        {
          "output_type": "stream",
          "name": "stdout",
          "text": [
            "              precision    recall  f1-score   support\n",
            "\n",
            "           0       0.78      0.70      0.74      1218\n",
            "           1       0.94      0.96      0.95      5575\n",
            "\n",
            "    accuracy                           0.91      6793\n",
            "   macro avg       0.86      0.83      0.84      6793\n",
            "weighted avg       0.91      0.91      0.91      6793\n",
            "\n"
          ]
        }
      ]
    },
    {
      "cell_type": "markdown",
      "source": [
        "### __Experiment 8: Combining TF-IDF based Features - 3-grams with Feature Selection and the Structured Features__\n"
      ],
      "metadata": {
        "id": "MnQLYlhRPqF9"
      }
    },
    {
      "cell_type": "code",
      "source": [
        "from sklearn.feature_extraction.text import TfidfVectorizer\n",
        "tv = TfidfVectorizer(use_idf = True, min_df =3, max_df = 1.0, ngram_range= (1,3))\n",
        "X_traintv = tv.fit_transform(train_clean_text)\n",
        "X_testtv = tv.transform(test_clean_text)"
      ],
      "metadata": {
        "id": "VrZhSKZ5Pef1"
      },
      "execution_count": 73,
      "outputs": []
    },
    {
      "cell_type": "code",
      "source": [
        "from scipy.sparse import hstack\n",
        "\n",
        "X_train_combined = hstack((X_traintv, X_train_struct))\n",
        "X_test_combined = hstack((X_testtv, X_test_struct))"
      ],
      "metadata": {
        "id": "XqvlHfxiQz8V"
      },
      "execution_count": 74,
      "outputs": []
    },
    {
      "cell_type": "code",
      "source": [
        "X_train_combined"
      ],
      "metadata": {
        "colab": {
          "base_uri": "https://localhost:8080/"
        },
        "id": "5FX-wT2GSavY",
        "outputId": "60ee8285-5812-4376-9c1c-c3815ce2ac2b"
      },
      "execution_count": 75,
      "outputs": [
        {
          "output_type": "execute_result",
          "data": {
            "text/plain": [
              "<15849x44453 sparse matrix of type '<class 'numpy.float64'>'\n",
              "\twith 818285 stored elements in COOrdinate format>"
            ]
          },
          "metadata": {},
          "execution_count": 75
        }
      ]
    },
    {
      "cell_type": "code",
      "source": [
        "#fit model\n",
        "lr = LogisticRegression(C=1, random_state= 42, solver='lbfgs', max_iter = 1e4)\n",
        "lr.fit(X_train_combined, y_train)\n",
        "#Predict on the test vectors\n",
        "lr_test_predict_combined = lr.predict(X_test_combined)\n",
        "#Evaluate model performance \n",
        "lable = ['Negative', 'Positive']\n",
        "pd.DataFrame(confusion_matrix(y_test, lr_test_predict_combined), index = lable, columns= lable)"
      ],
      "metadata": {
        "colab": {
          "base_uri": "https://localhost:8080/",
          "height": 112
        },
        "id": "6sJ2V8djSiY5",
        "outputId": "6da0c135-b762-4532-8115-2dae5a53b7a0"
      },
      "execution_count": 76,
      "outputs": [
        {
          "output_type": "execute_result",
          "data": {
            "text/html": [
              "\n",
              "  <div id=\"df-151ef5d2-d1f1-43b6-8594-8ef7521fdb40\">\n",
              "    <div class=\"colab-df-container\">\n",
              "      <div>\n",
              "<style scoped>\n",
              "    .dataframe tbody tr th:only-of-type {\n",
              "        vertical-align: middle;\n",
              "    }\n",
              "\n",
              "    .dataframe tbody tr th {\n",
              "        vertical-align: top;\n",
              "    }\n",
              "\n",
              "    .dataframe thead th {\n",
              "        text-align: right;\n",
              "    }\n",
              "</style>\n",
              "<table border=\"1\" class=\"dataframe\">\n",
              "  <thead>\n",
              "    <tr style=\"text-align: right;\">\n",
              "      <th></th>\n",
              "      <th>Negative</th>\n",
              "      <th>Positive</th>\n",
              "    </tr>\n",
              "  </thead>\n",
              "  <tbody>\n",
              "    <tr>\n",
              "      <th>Negative</th>\n",
              "      <td>711</td>\n",
              "      <td>507</td>\n",
              "    </tr>\n",
              "    <tr>\n",
              "      <th>Positive</th>\n",
              "      <td>138</td>\n",
              "      <td>5437</td>\n",
              "    </tr>\n",
              "  </tbody>\n",
              "</table>\n",
              "</div>\n",
              "      <button class=\"colab-df-convert\" onclick=\"convertToInteractive('df-151ef5d2-d1f1-43b6-8594-8ef7521fdb40')\"\n",
              "              title=\"Convert this dataframe to an interactive table.\"\n",
              "              style=\"display:none;\">\n",
              "        \n",
              "  <svg xmlns=\"http://www.w3.org/2000/svg\" height=\"24px\"viewBox=\"0 0 24 24\"\n",
              "       width=\"24px\">\n",
              "    <path d=\"M0 0h24v24H0V0z\" fill=\"none\"/>\n",
              "    <path d=\"M18.56 5.44l.94 2.06.94-2.06 2.06-.94-2.06-.94-.94-2.06-.94 2.06-2.06.94zm-11 1L8.5 8.5l.94-2.06 2.06-.94-2.06-.94L8.5 2.5l-.94 2.06-2.06.94zm10 10l.94 2.06.94-2.06 2.06-.94-2.06-.94-.94-2.06-.94 2.06-2.06.94z\"/><path d=\"M17.41 7.96l-1.37-1.37c-.4-.4-.92-.59-1.43-.59-.52 0-1.04.2-1.43.59L10.3 9.45l-7.72 7.72c-.78.78-.78 2.05 0 2.83L4 21.41c.39.39.9.59 1.41.59.51 0 1.02-.2 1.41-.59l7.78-7.78 2.81-2.81c.8-.78.8-2.07 0-2.86zM5.41 20L4 18.59l7.72-7.72 1.47 1.35L5.41 20z\"/>\n",
              "  </svg>\n",
              "      </button>\n",
              "      \n",
              "  <style>\n",
              "    .colab-df-container {\n",
              "      display:flex;\n",
              "      flex-wrap:wrap;\n",
              "      gap: 12px;\n",
              "    }\n",
              "\n",
              "    .colab-df-convert {\n",
              "      background-color: #E8F0FE;\n",
              "      border: none;\n",
              "      border-radius: 50%;\n",
              "      cursor: pointer;\n",
              "      display: none;\n",
              "      fill: #1967D2;\n",
              "      height: 32px;\n",
              "      padding: 0 0 0 0;\n",
              "      width: 32px;\n",
              "    }\n",
              "\n",
              "    .colab-df-convert:hover {\n",
              "      background-color: #E2EBFA;\n",
              "      box-shadow: 0px 1px 2px rgba(60, 64, 67, 0.3), 0px 1px 3px 1px rgba(60, 64, 67, 0.15);\n",
              "      fill: #174EA6;\n",
              "    }\n",
              "\n",
              "    [theme=dark] .colab-df-convert {\n",
              "      background-color: #3B4455;\n",
              "      fill: #D2E3FC;\n",
              "    }\n",
              "\n",
              "    [theme=dark] .colab-df-convert:hover {\n",
              "      background-color: #434B5C;\n",
              "      box-shadow: 0px 1px 3px 1px rgba(0, 0, 0, 0.15);\n",
              "      filter: drop-shadow(0px 1px 2px rgba(0, 0, 0, 0.3));\n",
              "      fill: #FFFFFF;\n",
              "    }\n",
              "  </style>\n",
              "\n",
              "      <script>\n",
              "        const buttonEl =\n",
              "          document.querySelector('#df-151ef5d2-d1f1-43b6-8594-8ef7521fdb40 button.colab-df-convert');\n",
              "        buttonEl.style.display =\n",
              "          google.colab.kernel.accessAllowed ? 'block' : 'none';\n",
              "\n",
              "        async function convertToInteractive(key) {\n",
              "          const element = document.querySelector('#df-151ef5d2-d1f1-43b6-8594-8ef7521fdb40');\n",
              "          const dataTable =\n",
              "            await google.colab.kernel.invokeFunction('convertToInteractive',\n",
              "                                                     [key], {});\n",
              "          if (!dataTable) return;\n",
              "\n",
              "          const docLinkHtml = 'Like what you see? Visit the ' +\n",
              "            '<a target=\"_blank\" href=https://colab.research.google.com/notebooks/data_table.ipynb>data table notebook</a>'\n",
              "            + ' to learn more about interactive tables.';\n",
              "          element.innerHTML = '';\n",
              "          dataTable['output_type'] = 'display_data';\n",
              "          await google.colab.output.renderOutput(dataTable, element);\n",
              "          const docLink = document.createElement('div');\n",
              "          docLink.innerHTML = docLinkHtml;\n",
              "          element.appendChild(docLink);\n",
              "        }\n",
              "      </script>\n",
              "    </div>\n",
              "  </div>\n",
              "  "
            ],
            "text/plain": [
              "          Negative  Positive\n",
              "Negative       711       507\n",
              "Positive       138      5437"
            ]
          },
          "metadata": {},
          "execution_count": 76
        }
      ]
    },
    {
      "cell_type": "code",
      "source": [
        "print(classification_report(y_test, lr_test_predict_combined))"
      ],
      "metadata": {
        "colab": {
          "base_uri": "https://localhost:8080/"
        },
        "id": "Ah6W7IK6SwMV",
        "outputId": "54868040-2106-4e5e-8f2f-2e8828aefcd2"
      },
      "execution_count": 77,
      "outputs": [
        {
          "output_type": "stream",
          "name": "stdout",
          "text": [
            "              precision    recall  f1-score   support\n",
            "\n",
            "           0       0.84      0.58      0.69      1218\n",
            "           1       0.91      0.98      0.94      5575\n",
            "\n",
            "    accuracy                           0.91      6793\n",
            "   macro avg       0.88      0.78      0.82      6793\n",
            "weighted avg       0.90      0.91      0.90      6793\n",
            "\n"
          ]
        }
      ]
    },
    {
      "cell_type": "markdown",
      "source": [
        "#___Initial Model Performance Evaluation and recommendations___\n",
        "Based on the observation of using 8 different models, \"Combining Bag of Words based Features - 3-grams with Feature Selection and the Structured\" model performed best. Total of 43345 features has been used to produce the result. Feature selection in BOW has reduced features from 640K to around 44K. Especially, the model gives highest score of f1 and precision and the undersampled class '0' performed well with this model."
      ],
      "metadata": {
        "id": "AOJtSJDbS9Qf"
      }
    },
    {
      "cell_type": "markdown",
      "source": [
        "##  __Try out some more complex classification models__\n",
        "\n",
        "With the best combination of experiemts, below classification models will be used to see any one of model could create better result.\n",
        "- Random Forest\n",
        "\n"
      ],
      "metadata": {
        "id": "9h2Vf5UwT0vR"
      }
    },
    {
      "cell_type": "markdown",
      "source": [
        "Random Forest"
      ],
      "metadata": {
        "id": "_FkhpImGUUIl"
      }
    },
    {
      "cell_type": "code",
      "source": [
        "cv = CountVectorizer(min_df = 3, max_df = 1.0, ngram_range = (1,3))\n",
        "X_traincv33 = cv.fit_transform(train_clean_text)\n",
        "X_testcv33 = cv.transform(test_clean_text)\n"
      ],
      "metadata": {
        "id": "_QPV9XFZS0ot"
      },
      "execution_count": 78,
      "outputs": []
    },
    {
      "cell_type": "code",
      "source": [
        "from scipy.sparse import hstack\n",
        "X_train_combined_RF = hstack((X_traincv33, X_train_struct))\n",
        "X_test_combined_RF = hstack((X_testcv33, X_test_struct))"
      ],
      "metadata": {
        "id": "wX7jxgdEUuFF"
      },
      "execution_count": 79,
      "outputs": []
    },
    {
      "cell_type": "code",
      "source": [
        "#fit model\n",
        "from sklearn.ensemble import RandomForestClassifier\n",
        "rf = RandomForestClassifier(random_state=42)\n",
        "rf.fit(X_train_combined_RF, y_train)\n",
        "\n",
        "#Predict model\n",
        "rf_predictions = rf.predict(X_test_combined_RF)"
      ],
      "metadata": {
        "id": "r0U3kfQDU1JN"
      },
      "execution_count": 80,
      "outputs": []
    },
    {
      "cell_type": "code",
      "source": [
        "lable = ['Negative', 'Positive']\n",
        "pd.DataFrame(confusion_matrix(y_test, rf_predictions), index = lable, columns= lable)"
      ],
      "metadata": {
        "colab": {
          "base_uri": "https://localhost:8080/",
          "height": 112
        },
        "id": "h5SNMVA8VCsl",
        "outputId": "f993957e-9626-41ab-dbb7-67f8f6f1a0aa"
      },
      "execution_count": 81,
      "outputs": [
        {
          "output_type": "execute_result",
          "data": {
            "text/html": [
              "\n",
              "  <div id=\"df-780fa77f-cb17-4e9c-bedb-a4fd38c7d8d4\">\n",
              "    <div class=\"colab-df-container\">\n",
              "      <div>\n",
              "<style scoped>\n",
              "    .dataframe tbody tr th:only-of-type {\n",
              "        vertical-align: middle;\n",
              "    }\n",
              "\n",
              "    .dataframe tbody tr th {\n",
              "        vertical-align: top;\n",
              "    }\n",
              "\n",
              "    .dataframe thead th {\n",
              "        text-align: right;\n",
              "    }\n",
              "</style>\n",
              "<table border=\"1\" class=\"dataframe\">\n",
              "  <thead>\n",
              "    <tr style=\"text-align: right;\">\n",
              "      <th></th>\n",
              "      <th>Negative</th>\n",
              "      <th>Positive</th>\n",
              "    </tr>\n",
              "  </thead>\n",
              "  <tbody>\n",
              "    <tr>\n",
              "      <th>Negative</th>\n",
              "      <td>399</td>\n",
              "      <td>819</td>\n",
              "    </tr>\n",
              "    <tr>\n",
              "      <th>Positive</th>\n",
              "      <td>52</td>\n",
              "      <td>5523</td>\n",
              "    </tr>\n",
              "  </tbody>\n",
              "</table>\n",
              "</div>\n",
              "      <button class=\"colab-df-convert\" onclick=\"convertToInteractive('df-780fa77f-cb17-4e9c-bedb-a4fd38c7d8d4')\"\n",
              "              title=\"Convert this dataframe to an interactive table.\"\n",
              "              style=\"display:none;\">\n",
              "        \n",
              "  <svg xmlns=\"http://www.w3.org/2000/svg\" height=\"24px\"viewBox=\"0 0 24 24\"\n",
              "       width=\"24px\">\n",
              "    <path d=\"M0 0h24v24H0V0z\" fill=\"none\"/>\n",
              "    <path d=\"M18.56 5.44l.94 2.06.94-2.06 2.06-.94-2.06-.94-.94-2.06-.94 2.06-2.06.94zm-11 1L8.5 8.5l.94-2.06 2.06-.94-2.06-.94L8.5 2.5l-.94 2.06-2.06.94zm10 10l.94 2.06.94-2.06 2.06-.94-2.06-.94-.94-2.06-.94 2.06-2.06.94z\"/><path d=\"M17.41 7.96l-1.37-1.37c-.4-.4-.92-.59-1.43-.59-.52 0-1.04.2-1.43.59L10.3 9.45l-7.72 7.72c-.78.78-.78 2.05 0 2.83L4 21.41c.39.39.9.59 1.41.59.51 0 1.02-.2 1.41-.59l7.78-7.78 2.81-2.81c.8-.78.8-2.07 0-2.86zM5.41 20L4 18.59l7.72-7.72 1.47 1.35L5.41 20z\"/>\n",
              "  </svg>\n",
              "      </button>\n",
              "      \n",
              "  <style>\n",
              "    .colab-df-container {\n",
              "      display:flex;\n",
              "      flex-wrap:wrap;\n",
              "      gap: 12px;\n",
              "    }\n",
              "\n",
              "    .colab-df-convert {\n",
              "      background-color: #E8F0FE;\n",
              "      border: none;\n",
              "      border-radius: 50%;\n",
              "      cursor: pointer;\n",
              "      display: none;\n",
              "      fill: #1967D2;\n",
              "      height: 32px;\n",
              "      padding: 0 0 0 0;\n",
              "      width: 32px;\n",
              "    }\n",
              "\n",
              "    .colab-df-convert:hover {\n",
              "      background-color: #E2EBFA;\n",
              "      box-shadow: 0px 1px 2px rgba(60, 64, 67, 0.3), 0px 1px 3px 1px rgba(60, 64, 67, 0.15);\n",
              "      fill: #174EA6;\n",
              "    }\n",
              "\n",
              "    [theme=dark] .colab-df-convert {\n",
              "      background-color: #3B4455;\n",
              "      fill: #D2E3FC;\n",
              "    }\n",
              "\n",
              "    [theme=dark] .colab-df-convert:hover {\n",
              "      background-color: #434B5C;\n",
              "      box-shadow: 0px 1px 3px 1px rgba(0, 0, 0, 0.15);\n",
              "      filter: drop-shadow(0px 1px 2px rgba(0, 0, 0, 0.3));\n",
              "      fill: #FFFFFF;\n",
              "    }\n",
              "  </style>\n",
              "\n",
              "      <script>\n",
              "        const buttonEl =\n",
              "          document.querySelector('#df-780fa77f-cb17-4e9c-bedb-a4fd38c7d8d4 button.colab-df-convert');\n",
              "        buttonEl.style.display =\n",
              "          google.colab.kernel.accessAllowed ? 'block' : 'none';\n",
              "\n",
              "        async function convertToInteractive(key) {\n",
              "          const element = document.querySelector('#df-780fa77f-cb17-4e9c-bedb-a4fd38c7d8d4');\n",
              "          const dataTable =\n",
              "            await google.colab.kernel.invokeFunction('convertToInteractive',\n",
              "                                                     [key], {});\n",
              "          if (!dataTable) return;\n",
              "\n",
              "          const docLinkHtml = 'Like what you see? Visit the ' +\n",
              "            '<a target=\"_blank\" href=https://colab.research.google.com/notebooks/data_table.ipynb>data table notebook</a>'\n",
              "            + ' to learn more about interactive tables.';\n",
              "          element.innerHTML = '';\n",
              "          dataTable['output_type'] = 'display_data';\n",
              "          await google.colab.output.renderOutput(dataTable, element);\n",
              "          const docLink = document.createElement('div');\n",
              "          docLink.innerHTML = docLinkHtml;\n",
              "          element.appendChild(docLink);\n",
              "        }\n",
              "      </script>\n",
              "    </div>\n",
              "  </div>\n",
              "  "
            ],
            "text/plain": [
              "          Negative  Positive\n",
              "Negative       399       819\n",
              "Positive        52      5523"
            ]
          },
          "metadata": {},
          "execution_count": 81
        }
      ]
    },
    {
      "cell_type": "code",
      "source": [
        "print(classification_report(y_test, rf_predictions))"
      ],
      "metadata": {
        "colab": {
          "base_uri": "https://localhost:8080/"
        },
        "id": "_xxVkgn0VWUM",
        "outputId": "1228a50e-671e-456a-b931-863f8d1ab26a"
      },
      "execution_count": 82,
      "outputs": [
        {
          "output_type": "stream",
          "name": "stdout",
          "text": [
            "              precision    recall  f1-score   support\n",
            "\n",
            "           0       0.88      0.33      0.48      1218\n",
            "           1       0.87      0.99      0.93      5575\n",
            "\n",
            "    accuracy                           0.87      6793\n",
            "   macro avg       0.88      0.66      0.70      6793\n",
            "weighted avg       0.87      0.87      0.85      6793\n",
            "\n"
          ]
        }
      ]
    },
    {
      "cell_type": "markdown",
      "source": [
        "No improvement of using RandomForest"
      ],
      "metadata": {
        "id": "xfuM3LwOVr72"
      }
    },
    {
      "cell_type": "code",
      "source": [
        "#Gradient Boosting Classifier\n",
        "from sklearn.ensemble import GradientBoostingClassifier\n",
        "\n",
        "gb = GradientBoostingClassifier(random_state=42)\n",
        "gb.fit(X_train_combined, y_train)\n",
        "gb_predictions = gb.predict(X_test_combined)\n",
        "\n",
        "lable = ['Negative', 'Positive']\n",
        "pd.DataFrame(confusion_matrix(y_test, gb_predictions), index = lable, columns= lable)\n",
        "\n"
      ],
      "metadata": {
        "colab": {
          "base_uri": "https://localhost:8080/",
          "height": 112
        },
        "id": "U86b7pff6dpL",
        "outputId": "3b618fd6-30a8-4b1b-c3de-ddd42c69c421"
      },
      "execution_count": 84,
      "outputs": [
        {
          "output_type": "execute_result",
          "data": {
            "text/html": [
              "\n",
              "  <div id=\"df-15616911-07a6-4dd1-ad3a-9996a4946aba\">\n",
              "    <div class=\"colab-df-container\">\n",
              "      <div>\n",
              "<style scoped>\n",
              "    .dataframe tbody tr th:only-of-type {\n",
              "        vertical-align: middle;\n",
              "    }\n",
              "\n",
              "    .dataframe tbody tr th {\n",
              "        vertical-align: top;\n",
              "    }\n",
              "\n",
              "    .dataframe thead th {\n",
              "        text-align: right;\n",
              "    }\n",
              "</style>\n",
              "<table border=\"1\" class=\"dataframe\">\n",
              "  <thead>\n",
              "    <tr style=\"text-align: right;\">\n",
              "      <th></th>\n",
              "      <th>Negative</th>\n",
              "      <th>Positive</th>\n",
              "    </tr>\n",
              "  </thead>\n",
              "  <tbody>\n",
              "    <tr>\n",
              "      <th>Negative</th>\n",
              "      <td>596</td>\n",
              "      <td>622</td>\n",
              "    </tr>\n",
              "    <tr>\n",
              "      <th>Positive</th>\n",
              "      <td>172</td>\n",
              "      <td>5403</td>\n",
              "    </tr>\n",
              "  </tbody>\n",
              "</table>\n",
              "</div>\n",
              "      <button class=\"colab-df-convert\" onclick=\"convertToInteractive('df-15616911-07a6-4dd1-ad3a-9996a4946aba')\"\n",
              "              title=\"Convert this dataframe to an interactive table.\"\n",
              "              style=\"display:none;\">\n",
              "        \n",
              "  <svg xmlns=\"http://www.w3.org/2000/svg\" height=\"24px\"viewBox=\"0 0 24 24\"\n",
              "       width=\"24px\">\n",
              "    <path d=\"M0 0h24v24H0V0z\" fill=\"none\"/>\n",
              "    <path d=\"M18.56 5.44l.94 2.06.94-2.06 2.06-.94-2.06-.94-.94-2.06-.94 2.06-2.06.94zm-11 1L8.5 8.5l.94-2.06 2.06-.94-2.06-.94L8.5 2.5l-.94 2.06-2.06.94zm10 10l.94 2.06.94-2.06 2.06-.94-2.06-.94-.94-2.06-.94 2.06-2.06.94z\"/><path d=\"M17.41 7.96l-1.37-1.37c-.4-.4-.92-.59-1.43-.59-.52 0-1.04.2-1.43.59L10.3 9.45l-7.72 7.72c-.78.78-.78 2.05 0 2.83L4 21.41c.39.39.9.59 1.41.59.51 0 1.02-.2 1.41-.59l7.78-7.78 2.81-2.81c.8-.78.8-2.07 0-2.86zM5.41 20L4 18.59l7.72-7.72 1.47 1.35L5.41 20z\"/>\n",
              "  </svg>\n",
              "      </button>\n",
              "      \n",
              "  <style>\n",
              "    .colab-df-container {\n",
              "      display:flex;\n",
              "      flex-wrap:wrap;\n",
              "      gap: 12px;\n",
              "    }\n",
              "\n",
              "    .colab-df-convert {\n",
              "      background-color: #E8F0FE;\n",
              "      border: none;\n",
              "      border-radius: 50%;\n",
              "      cursor: pointer;\n",
              "      display: none;\n",
              "      fill: #1967D2;\n",
              "      height: 32px;\n",
              "      padding: 0 0 0 0;\n",
              "      width: 32px;\n",
              "    }\n",
              "\n",
              "    .colab-df-convert:hover {\n",
              "      background-color: #E2EBFA;\n",
              "      box-shadow: 0px 1px 2px rgba(60, 64, 67, 0.3), 0px 1px 3px 1px rgba(60, 64, 67, 0.15);\n",
              "      fill: #174EA6;\n",
              "    }\n",
              "\n",
              "    [theme=dark] .colab-df-convert {\n",
              "      background-color: #3B4455;\n",
              "      fill: #D2E3FC;\n",
              "    }\n",
              "\n",
              "    [theme=dark] .colab-df-convert:hover {\n",
              "      background-color: #434B5C;\n",
              "      box-shadow: 0px 1px 3px 1px rgba(0, 0, 0, 0.15);\n",
              "      filter: drop-shadow(0px 1px 2px rgba(0, 0, 0, 0.3));\n",
              "      fill: #FFFFFF;\n",
              "    }\n",
              "  </style>\n",
              "\n",
              "      <script>\n",
              "        const buttonEl =\n",
              "          document.querySelector('#df-15616911-07a6-4dd1-ad3a-9996a4946aba button.colab-df-convert');\n",
              "        buttonEl.style.display =\n",
              "          google.colab.kernel.accessAllowed ? 'block' : 'none';\n",
              "\n",
              "        async function convertToInteractive(key) {\n",
              "          const element = document.querySelector('#df-15616911-07a6-4dd1-ad3a-9996a4946aba');\n",
              "          const dataTable =\n",
              "            await google.colab.kernel.invokeFunction('convertToInteractive',\n",
              "                                                     [key], {});\n",
              "          if (!dataTable) return;\n",
              "\n",
              "          const docLinkHtml = 'Like what you see? Visit the ' +\n",
              "            '<a target=\"_blank\" href=https://colab.research.google.com/notebooks/data_table.ipynb>data table notebook</a>'\n",
              "            + ' to learn more about interactive tables.';\n",
              "          element.innerHTML = '';\n",
              "          dataTable['output_type'] = 'display_data';\n",
              "          await google.colab.output.renderOutput(dataTable, element);\n",
              "          const docLink = document.createElement('div');\n",
              "          docLink.innerHTML = docLinkHtml;\n",
              "          element.appendChild(docLink);\n",
              "        }\n",
              "      </script>\n",
              "    </div>\n",
              "  </div>\n",
              "  "
            ],
            "text/plain": [
              "          Negative  Positive\n",
              "Negative       596       622\n",
              "Positive       172      5403"
            ]
          },
          "metadata": {},
          "execution_count": 84
        }
      ]
    },
    {
      "cell_type": "code",
      "source": [
        "print(classification_report(y_test, gb_predictions))"
      ],
      "metadata": {
        "colab": {
          "base_uri": "https://localhost:8080/"
        },
        "id": "gDiKteFl6tG6",
        "outputId": "b7eba53f-bb65-4cf1-eb21-3828f2d52da4"
      },
      "execution_count": 85,
      "outputs": [
        {
          "output_type": "stream",
          "name": "stdout",
          "text": [
            "              precision    recall  f1-score   support\n",
            "\n",
            "           0       0.78      0.49      0.60      1218\n",
            "           1       0.90      0.97      0.93      5575\n",
            "\n",
            "    accuracy                           0.88      6793\n",
            "   macro avg       0.84      0.73      0.77      6793\n",
            "weighted avg       0.88      0.88      0.87      6793\n",
            "\n"
          ]
        }
      ]
    },
    {
      "cell_type": "code",
      "source": [
        "#XGBoost model\n",
        "import xgboost as xgb\n",
        "xt_gb = xgb.XGBClassifier(random_state=42)\n",
        "xt_gb.fit(X_train_combined, y_train)\n",
        "xgb_predictions = xt_gb.predict(X_test_combined)\n",
        "\n",
        "lable = ['Negative', 'Positive']\n",
        "pd.DataFrame(confusion_matrix(y_test, xgb_predictions), index = lable, columns= lable)"
      ],
      "metadata": {
        "colab": {
          "base_uri": "https://localhost:8080/",
          "height": 112
        },
        "id": "UYTGxQBU6s7f",
        "outputId": "8af35cbf-4607-4053-dd3e-ec426eda4fb3"
      },
      "execution_count": 87,
      "outputs": [
        {
          "output_type": "execute_result",
          "data": {
            "text/html": [
              "\n",
              "  <div id=\"df-27894b27-a230-4823-baaf-453542c88189\">\n",
              "    <div class=\"colab-df-container\">\n",
              "      <div>\n",
              "<style scoped>\n",
              "    .dataframe tbody tr th:only-of-type {\n",
              "        vertical-align: middle;\n",
              "    }\n",
              "\n",
              "    .dataframe tbody tr th {\n",
              "        vertical-align: top;\n",
              "    }\n",
              "\n",
              "    .dataframe thead th {\n",
              "        text-align: right;\n",
              "    }\n",
              "</style>\n",
              "<table border=\"1\" class=\"dataframe\">\n",
              "  <thead>\n",
              "    <tr style=\"text-align: right;\">\n",
              "      <th></th>\n",
              "      <th>Negative</th>\n",
              "      <th>Positive</th>\n",
              "    </tr>\n",
              "  </thead>\n",
              "  <tbody>\n",
              "    <tr>\n",
              "      <th>Negative</th>\n",
              "      <td>579</td>\n",
              "      <td>639</td>\n",
              "    </tr>\n",
              "    <tr>\n",
              "      <th>Positive</th>\n",
              "      <td>162</td>\n",
              "      <td>5413</td>\n",
              "    </tr>\n",
              "  </tbody>\n",
              "</table>\n",
              "</div>\n",
              "      <button class=\"colab-df-convert\" onclick=\"convertToInteractive('df-27894b27-a230-4823-baaf-453542c88189')\"\n",
              "              title=\"Convert this dataframe to an interactive table.\"\n",
              "              style=\"display:none;\">\n",
              "        \n",
              "  <svg xmlns=\"http://www.w3.org/2000/svg\" height=\"24px\"viewBox=\"0 0 24 24\"\n",
              "       width=\"24px\">\n",
              "    <path d=\"M0 0h24v24H0V0z\" fill=\"none\"/>\n",
              "    <path d=\"M18.56 5.44l.94 2.06.94-2.06 2.06-.94-2.06-.94-.94-2.06-.94 2.06-2.06.94zm-11 1L8.5 8.5l.94-2.06 2.06-.94-2.06-.94L8.5 2.5l-.94 2.06-2.06.94zm10 10l.94 2.06.94-2.06 2.06-.94-2.06-.94-.94-2.06-.94 2.06-2.06.94z\"/><path d=\"M17.41 7.96l-1.37-1.37c-.4-.4-.92-.59-1.43-.59-.52 0-1.04.2-1.43.59L10.3 9.45l-7.72 7.72c-.78.78-.78 2.05 0 2.83L4 21.41c.39.39.9.59 1.41.59.51 0 1.02-.2 1.41-.59l7.78-7.78 2.81-2.81c.8-.78.8-2.07 0-2.86zM5.41 20L4 18.59l7.72-7.72 1.47 1.35L5.41 20z\"/>\n",
              "  </svg>\n",
              "      </button>\n",
              "      \n",
              "  <style>\n",
              "    .colab-df-container {\n",
              "      display:flex;\n",
              "      flex-wrap:wrap;\n",
              "      gap: 12px;\n",
              "    }\n",
              "\n",
              "    .colab-df-convert {\n",
              "      background-color: #E8F0FE;\n",
              "      border: none;\n",
              "      border-radius: 50%;\n",
              "      cursor: pointer;\n",
              "      display: none;\n",
              "      fill: #1967D2;\n",
              "      height: 32px;\n",
              "      padding: 0 0 0 0;\n",
              "      width: 32px;\n",
              "    }\n",
              "\n",
              "    .colab-df-convert:hover {\n",
              "      background-color: #E2EBFA;\n",
              "      box-shadow: 0px 1px 2px rgba(60, 64, 67, 0.3), 0px 1px 3px 1px rgba(60, 64, 67, 0.15);\n",
              "      fill: #174EA6;\n",
              "    }\n",
              "\n",
              "    [theme=dark] .colab-df-convert {\n",
              "      background-color: #3B4455;\n",
              "      fill: #D2E3FC;\n",
              "    }\n",
              "\n",
              "    [theme=dark] .colab-df-convert:hover {\n",
              "      background-color: #434B5C;\n",
              "      box-shadow: 0px 1px 3px 1px rgba(0, 0, 0, 0.15);\n",
              "      filter: drop-shadow(0px 1px 2px rgba(0, 0, 0, 0.3));\n",
              "      fill: #FFFFFF;\n",
              "    }\n",
              "  </style>\n",
              "\n",
              "      <script>\n",
              "        const buttonEl =\n",
              "          document.querySelector('#df-27894b27-a230-4823-baaf-453542c88189 button.colab-df-convert');\n",
              "        buttonEl.style.display =\n",
              "          google.colab.kernel.accessAllowed ? 'block' : 'none';\n",
              "\n",
              "        async function convertToInteractive(key) {\n",
              "          const element = document.querySelector('#df-27894b27-a230-4823-baaf-453542c88189');\n",
              "          const dataTable =\n",
              "            await google.colab.kernel.invokeFunction('convertToInteractive',\n",
              "                                                     [key], {});\n",
              "          if (!dataTable) return;\n",
              "\n",
              "          const docLinkHtml = 'Like what you see? Visit the ' +\n",
              "            '<a target=\"_blank\" href=https://colab.research.google.com/notebooks/data_table.ipynb>data table notebook</a>'\n",
              "            + ' to learn more about interactive tables.';\n",
              "          element.innerHTML = '';\n",
              "          dataTable['output_type'] = 'display_data';\n",
              "          await google.colab.output.renderOutput(dataTable, element);\n",
              "          const docLink = document.createElement('div');\n",
              "          docLink.innerHTML = docLinkHtml;\n",
              "          element.appendChild(docLink);\n",
              "        }\n",
              "      </script>\n",
              "    </div>\n",
              "  </div>\n",
              "  "
            ],
            "text/plain": [
              "          Negative  Positive\n",
              "Negative       579       639\n",
              "Positive       162      5413"
            ]
          },
          "metadata": {},
          "execution_count": 87
        }
      ]
    },
    {
      "cell_type": "code",
      "source": [
        "print(classification_report(y_test, xgb_predictions))"
      ],
      "metadata": {
        "colab": {
          "base_uri": "https://localhost:8080/"
        },
        "id": "Sr3X_Qa96stK",
        "outputId": "548ddc18-f5d1-466a-b92c-fd7dde0c4529"
      },
      "execution_count": 88,
      "outputs": [
        {
          "output_type": "stream",
          "name": "stdout",
          "text": [
            "              precision    recall  f1-score   support\n",
            "\n",
            "           0       0.78      0.48      0.59      1218\n",
            "           1       0.89      0.97      0.93      5575\n",
            "\n",
            "    accuracy                           0.88      6793\n",
            "   macro avg       0.84      0.72      0.76      6793\n",
            "weighted avg       0.87      0.88      0.87      6793\n",
            "\n"
          ]
        }
      ]
    },
    {
      "cell_type": "markdown",
      "source": [
        "Gradient Boosting and XGBoosting method did not improve the result."
      ],
      "metadata": {
        "id": "H2Byw9zp77cT"
      }
    },
    {
      "cell_type": "markdown",
      "source": [
        "# ___Phase 4: Evaluation, Insights, Recommendations and Report___\n",
        "\n",
        "##Final Model Performance Evaluation and Recommendation\n",
        "\n"
      ],
      "metadata": {
        "id": "9QGVBZ4wpk5D"
      }
    },
    {
      "cell_type": "markdown",
      "source": [
        "By comparing the score of averaged metrics, the per-class performance metrics, and total features being used for each experiments, the method from experiments 7, \"Combining Bag of Words based Features - 3-grams with Feature Selection and the Structured Features\" produces the best performance. "
      ],
      "metadata": {
        "id": "OTP6WDxlqEs2"
      }
    },
    {
      "cell_type": "code",
      "source": [
        "#use the method from experiments 7 to rebuild the model\n",
        "#BOW vetorization with feataure selection\n",
        "cv = CountVectorizer(min_df = 3, max_df = 1.0, ngram_range = (1,3))\n",
        "X_traincv33 = cv.fit_transform(train_clean_text)\n",
        "X_testcv33 = cv.transform(test_clean_text)\n",
        "X_train_sparse = sparse.csr_matrix(X_train_struct)\n",
        "X_test_sparse = sparse.csr_matrix(X_test_struct)\n",
        "\n",
        "#conbine BOW features with structured features\n",
        "X_train_combined = hstack((X_train_sparse, X_traincv33))\n",
        "X_test_combined = hstack((X_test_sparse, X_testcv33))\n",
        "\n",
        "#Train and evaluate Logistic regrassion model\n",
        "lr = LogisticRegression(C=1, random_state= 42, solver='lbfgs', max_iter = 1e4)\n",
        "lr.fit(X_train_combined, y_train)\n",
        "lr_test_predict_combined = lr.predict(X_test_combined)\n",
        "lable = ['Negative', 'Positive']\n",
        "pd.DataFrame(confusion_matrix(y_test, lr_test_predict_combined), index = lable, columns= lable)\n"
      ],
      "metadata": {
        "colab": {
          "base_uri": "https://localhost:8080/",
          "height": 112
        },
        "id": "kOdB2JPhtO5M",
        "outputId": "0b8797b3-ecca-4596-af70-4ab1b86941ff"
      },
      "execution_count": 145,
      "outputs": [
        {
          "output_type": "execute_result",
          "data": {
            "text/html": [
              "\n",
              "  <div id=\"df-9b084814-abb8-4c80-8a99-f36a7e2cb2f4\">\n",
              "    <div class=\"colab-df-container\">\n",
              "      <div>\n",
              "<style scoped>\n",
              "    .dataframe tbody tr th:only-of-type {\n",
              "        vertical-align: middle;\n",
              "    }\n",
              "\n",
              "    .dataframe tbody tr th {\n",
              "        vertical-align: top;\n",
              "    }\n",
              "\n",
              "    .dataframe thead th {\n",
              "        text-align: right;\n",
              "    }\n",
              "</style>\n",
              "<table border=\"1\" class=\"dataframe\">\n",
              "  <thead>\n",
              "    <tr style=\"text-align: right;\">\n",
              "      <th></th>\n",
              "      <th>Negative</th>\n",
              "      <th>Positive</th>\n",
              "    </tr>\n",
              "  </thead>\n",
              "  <tbody>\n",
              "    <tr>\n",
              "      <th>Negative</th>\n",
              "      <td>847</td>\n",
              "      <td>371</td>\n",
              "    </tr>\n",
              "    <tr>\n",
              "      <th>Positive</th>\n",
              "      <td>238</td>\n",
              "      <td>5337</td>\n",
              "    </tr>\n",
              "  </tbody>\n",
              "</table>\n",
              "</div>\n",
              "      <button class=\"colab-df-convert\" onclick=\"convertToInteractive('df-9b084814-abb8-4c80-8a99-f36a7e2cb2f4')\"\n",
              "              title=\"Convert this dataframe to an interactive table.\"\n",
              "              style=\"display:none;\">\n",
              "        \n",
              "  <svg xmlns=\"http://www.w3.org/2000/svg\" height=\"24px\"viewBox=\"0 0 24 24\"\n",
              "       width=\"24px\">\n",
              "    <path d=\"M0 0h24v24H0V0z\" fill=\"none\"/>\n",
              "    <path d=\"M18.56 5.44l.94 2.06.94-2.06 2.06-.94-2.06-.94-.94-2.06-.94 2.06-2.06.94zm-11 1L8.5 8.5l.94-2.06 2.06-.94-2.06-.94L8.5 2.5l-.94 2.06-2.06.94zm10 10l.94 2.06.94-2.06 2.06-.94-2.06-.94-.94-2.06-.94 2.06-2.06.94z\"/><path d=\"M17.41 7.96l-1.37-1.37c-.4-.4-.92-.59-1.43-.59-.52 0-1.04.2-1.43.59L10.3 9.45l-7.72 7.72c-.78.78-.78 2.05 0 2.83L4 21.41c.39.39.9.59 1.41.59.51 0 1.02-.2 1.41-.59l7.78-7.78 2.81-2.81c.8-.78.8-2.07 0-2.86zM5.41 20L4 18.59l7.72-7.72 1.47 1.35L5.41 20z\"/>\n",
              "  </svg>\n",
              "      </button>\n",
              "      \n",
              "  <style>\n",
              "    .colab-df-container {\n",
              "      display:flex;\n",
              "      flex-wrap:wrap;\n",
              "      gap: 12px;\n",
              "    }\n",
              "\n",
              "    .colab-df-convert {\n",
              "      background-color: #E8F0FE;\n",
              "      border: none;\n",
              "      border-radius: 50%;\n",
              "      cursor: pointer;\n",
              "      display: none;\n",
              "      fill: #1967D2;\n",
              "      height: 32px;\n",
              "      padding: 0 0 0 0;\n",
              "      width: 32px;\n",
              "    }\n",
              "\n",
              "    .colab-df-convert:hover {\n",
              "      background-color: #E2EBFA;\n",
              "      box-shadow: 0px 1px 2px rgba(60, 64, 67, 0.3), 0px 1px 3px 1px rgba(60, 64, 67, 0.15);\n",
              "      fill: #174EA6;\n",
              "    }\n",
              "\n",
              "    [theme=dark] .colab-df-convert {\n",
              "      background-color: #3B4455;\n",
              "      fill: #D2E3FC;\n",
              "    }\n",
              "\n",
              "    [theme=dark] .colab-df-convert:hover {\n",
              "      background-color: #434B5C;\n",
              "      box-shadow: 0px 1px 3px 1px rgba(0, 0, 0, 0.15);\n",
              "      filter: drop-shadow(0px 1px 2px rgba(0, 0, 0, 0.3));\n",
              "      fill: #FFFFFF;\n",
              "    }\n",
              "  </style>\n",
              "\n",
              "      <script>\n",
              "        const buttonEl =\n",
              "          document.querySelector('#df-9b084814-abb8-4c80-8a99-f36a7e2cb2f4 button.colab-df-convert');\n",
              "        buttonEl.style.display =\n",
              "          google.colab.kernel.accessAllowed ? 'block' : 'none';\n",
              "\n",
              "        async function convertToInteractive(key) {\n",
              "          const element = document.querySelector('#df-9b084814-abb8-4c80-8a99-f36a7e2cb2f4');\n",
              "          const dataTable =\n",
              "            await google.colab.kernel.invokeFunction('convertToInteractive',\n",
              "                                                     [key], {});\n",
              "          if (!dataTable) return;\n",
              "\n",
              "          const docLinkHtml = 'Like what you see? Visit the ' +\n",
              "            '<a target=\"_blank\" href=https://colab.research.google.com/notebooks/data_table.ipynb>data table notebook</a>'\n",
              "            + ' to learn more about interactive tables.';\n",
              "          element.innerHTML = '';\n",
              "          dataTable['output_type'] = 'display_data';\n",
              "          await google.colab.output.renderOutput(dataTable, element);\n",
              "          const docLink = document.createElement('div');\n",
              "          docLink.innerHTML = docLinkHtml;\n",
              "          element.appendChild(docLink);\n",
              "        }\n",
              "      </script>\n",
              "    </div>\n",
              "  </div>\n",
              "  "
            ],
            "text/plain": [
              "          Negative  Positive\n",
              "Negative       847       371\n",
              "Positive       238      5337"
            ]
          },
          "metadata": {},
          "execution_count": 145
        }
      ]
    },
    {
      "cell_type": "code",
      "source": [
        "print(classification_report(y_test, lr_test_predict_combined))"
      ],
      "metadata": {
        "colab": {
          "base_uri": "https://localhost:8080/"
        },
        "id": "6lWgcgvD8mFC",
        "outputId": "869c9334-c5f0-4d53-cb66-a6f3bbdb929d"
      },
      "execution_count": 146,
      "outputs": [
        {
          "output_type": "stream",
          "name": "stdout",
          "text": [
            "              precision    recall  f1-score   support\n",
            "\n",
            "           0       0.78      0.70      0.74      1218\n",
            "           1       0.94      0.96      0.95      5575\n",
            "\n",
            "    accuracy                           0.91      6793\n",
            "   macro avg       0.86      0.83      0.84      6793\n",
            "weighted avg       0.91      0.91      0.91      6793\n",
            "\n"
          ]
        }
      ]
    },
    {
      "cell_type": "code",
      "source": [
        "#Get the actual feature names of the features\n",
        "features_names = np.array(X_train_struct.columns.tolist() + cv.get_feature_names())"
      ],
      "metadata": {
        "colab": {
          "base_uri": "https://localhost:8080/"
        },
        "id": "gOJ-rym1utBV",
        "outputId": "04528f09-d078-4f42-fe41-c9bff718c35b"
      },
      "execution_count": 147,
      "outputs": [
        {
          "output_type": "stream",
          "name": "stderr",
          "text": [
            "/usr/local/lib/python3.7/dist-packages/sklearn/utils/deprecation.py:87: FutureWarning: Function get_feature_names is deprecated; get_feature_names is deprecated in 1.0 and will be removed in 1.2. Please use get_feature_names_out instead.\n",
            "  warnings.warn(msg, category=FutureWarning)\n"
          ]
        }
      ]
    },
    {
      "cell_type": "code",
      "source": [
        "features_names"
      ],
      "metadata": {
        "colab": {
          "base_uri": "https://localhost:8080/"
        },
        "id": "e6HB-Pequ079",
        "outputId": "5164565c-1d61-4fe8-8156-e9059b123f04"
      },
      "execution_count": 148,
      "outputs": [
        {
          "output_type": "execute_result",
          "data": {
            "text/plain": [
              "array(['Age', 'Positive Feedback Count', 'Polarity', ..., 'zips', 'zone',\n",
              "       'zoom'], dtype='<U32')"
            ]
          },
          "metadata": {},
          "execution_count": 148
        }
      ]
    },
    {
      "cell_type": "code",
      "source": [
        "#get top 20 feature indices with negative coefficients \n",
        "fs1 = np.argsort(lr.coef_[0])[:20]\n"
      ],
      "metadata": {
        "id": "AwlIS2k2u9Go"
      },
      "execution_count": 149,
      "outputs": []
    },
    {
      "cell_type": "code",
      "source": [
        "#get top 20 feature indices with positive coefficients \n",
        "fs2 = np.argsort(lr.coef_[0])[-20:][::-1]"
      ],
      "metadata": {
        "id": "YE_YIH9l_Onq"
      },
      "execution_count": 150,
      "outputs": []
    },
    {
      "cell_type": "code",
      "source": [
        "fs1"
      ],
      "metadata": {
        "colab": {
          "base_uri": "https://localhost:8080/"
        },
        "id": "nTNiYT-48_h4",
        "outputId": "c4a89ffd-194f-412e-d743-180bb1d0ed68"
      },
      "execution_count": 151,
      "outputs": [
        {
          "output_type": "execute_result",
          "data": {
            "text/plain": [
              "array([41396, 25009,  9180, 40444, 23046, 24925, 25367, 32496, 31005,\n",
              "        5773, 41385,  8015, 28795,  1872, 32580, 14869, 16774, 43811,\n",
              "       31710, 17078])"
            ]
          },
          "metadata": {},
          "execution_count": 151
        }
      ]
    },
    {
      "cell_type": "code",
      "source": [
        "fs2"
      ],
      "metadata": {
        "colab": {
          "base_uri": "https://localhost:8080/"
        },
        "id": "jDoxCoZ39B2Z",
        "outputId": "ad84999a-7f16-4e71-af69-4c2fb4739267"
      },
      "execution_count": 152,
      "outputs": [
        {
          "output_type": "execute_result",
          "data": {
            "text/plain": [
              "array([    2, 40515,   805, 14236,  8460, 30468, 10232, 10607,  7011,\n",
              "       40977,  7169,  7122,  5961, 36551, 27453, 35276, 34906, 37985,\n",
              "       10480, 35743])"
            ]
          },
          "metadata": {},
          "execution_count": 152
        }
      ]
    },
    {
      "cell_type": "code",
      "source": [
        "#print top 20 featurees\n",
        "top20_neg_feataures = features_names[fs1]\n",
        "top20_neg_feataures"
      ],
      "metadata": {
        "colab": {
          "base_uri": "https://localhost:8080/"
        },
        "id": "1Xk7CeF9vj6m",
        "outputId": "03a1a687-fab7-41da-e35d-68243f23b68b"
      },
      "execution_count": 153,
      "outputs": [
        {
          "output_type": "execute_result",
          "data": {
            "text/plain": [
              "array(['wanted love', 'not great', 'disappointed', 'unflattering', 'meh',\n",
              "       'not flattering', 'not recommend', 'shame', 'returned', 'cheap',\n",
              "       'wanted like', 'cute but', 'poor', 'beautiful but', 'shapeless',\n",
              "       'going back', 'hopes', 'would not recommend', 'sack', 'idea'],\n",
              "      dtype='<U32')"
            ]
          },
          "metadata": {},
          "execution_count": 153
        }
      ]
    },
    {
      "cell_type": "code",
      "source": [
        "top20_pos_feataures = features_names[fs2]\n",
        "top20_pos_feataures"
      ],
      "metadata": {
        "colab": {
          "base_uri": "https://localhost:8080/"
        },
        "id": "t7ePrVC69fux",
        "outputId": "80227590-b183-4bff-f31c-67ef014ce13c"
      },
      "execution_count": 154,
      "outputs": [
        {
          "output_type": "execute_result",
          "data": {
            "text/plain": [
              "array(['Polarity', 'unique', 'amazing', 'fun', 'dd', 'recommend',\n",
              "       'dressed', 'elegant', 'comfy', 'vest', 'compliments', 'complaint',\n",
              "       'classic', 'stunning', 'perfect', 'soft', 'small fit', 'thin but',\n",
              "       'easy', 'sparkle'], dtype='<U32')"
            ]
          },
          "metadata": {},
          "execution_count": 154
        }
      ]
    },
    {
      "cell_type": "markdown",
      "source": [
        "__Print sample reviews for each of the 20 negative coefficient features__"
      ],
      "metadata": {
        "id": "W7w_5Yqr9SyR"
      }
    },
    {
      "cell_type": "code",
      "source": [
        "import re\n",
        "\n",
        "for feature in top20_neg_feataures:\n",
        "    print('Feature:', feature)\n",
        "\n",
        "    if feature in X_train_struct.columns.tolist():\n",
        "      print(\"This is a feature from the structured features\")\n",
        "      print()\n",
        "      continue\n",
        "    else:\n",
        "      print('Sample reviews:')\n",
        "      c = 0\n",
        "      for review in X_train['Clean Review'].values:\n",
        "          if re.search(r'\\b'+feature+r'\\b', review, flags=re.I|re.A):\n",
        "              print(review)\n",
        "              c+= 1\n",
        "          if c == 3:\n",
        "              break\n",
        "    print()\n",
        "  "
      ],
      "metadata": {
        "colab": {
          "base_uri": "https://localhost:8080/"
        },
        "id": "ScO-TSqSxOAM",
        "outputId": "9968e279-b154-4bab-a55c-2660f6980bf1"
      },
      "execution_count": 155,
      "outputs": [
        {
          "output_type": "stream",
          "name": "stdout",
          "text": [
            "Feature: wanted love\n",
            "Sample reviews:\n",
            "wanted love dresss much shorter described see thru though guess tell picture expected price\n",
            "wanted love but pretty pricey sweatshirt key hole back bright pink ribbon looks odd stitching beaded detail around bottom hem cuffs gorgeous but sleeves way long looked silly unfortunately going back\n",
            "wanted love dress really no style expecting smocking fitted but hung considered going size but think lining would tight return\n",
            "\n",
            "Feature: not great\n",
            "Sample reviews:\n",
            "meh details dress pretty but super poofy felt like made look bigger maybe straight body want create curves would work but not great hourglasspear shaped figure fits tts\n",
            "cute yellow darker cute sweater agree slightly boxy partly side pockets think cute yellow darker appears screen like mustardygold not great skin tone think true size got usual retailer size xspetite aa waist fits right soft nice medium weight packaging called bomber would say cut little like bomber jacket\n",
            "looks better online ordered top red based one reviews like marroon disappointed top plain cotton not great quality long belt back but fit quality overall plain looks tad dowdy still keeping got sale wear home lounge leggings but definitely not dressy perhaps white may not look bad plain design marroon dull color not help\n",
            "\n",
            "Feature: disappointed\n",
            "Sample reviews:\n",
            "amazing but runs sooo small absolutely fell love stress sought store fabric drape fabric amazing however runs extremely small normally wear medium sometimes even wear small dresses tried medium large could not even get zipped way disappointed gorgeous dress definitely size least one maybe two sizes\n",
            "nice threw cart online whim but not disappointed not even wear rompers usually reference normally size bought romper size xs petite shorter side definitely recommend buying petite size feel romper would run large regular sizes fabric top drapes nicely shorts medium length like neckline details armholes petite size not\n",
            "favorite oh soft delicious love sweater absolutely new favorite buy not disappointed neck soft not irritating like reviewer said love love look big hood want\n",
            "\n",
            "Feature: unflattering\n",
            "Sample reviews:\n",
            "made well but not flattering top made well strap holder keep bra hidden always nice feature however amount fabric made unflattering overall design fun probably would purchased fitted flattering medium photo measurements\n",
            "surprisingly cute not going even try see dress would fit seemed like unflattering silhouette since body nothing like model glad gave try dress cute comfy looks great belt outfit floppy straw hat skinny leather belt flat sandals lot fabric but gathers well without poofing ordered medium petite dd\n",
            "looked nothing like picture long unflattering belled greatly bottom also material thick give three starts quality but overall awkward\n",
            "\n",
            "Feature: meh\n",
            "Sample reviews:\n",
            "great design but execution meh loved look shirt but full price little steep waited go sale glad waited l left perfect fit since originally thinkng getting small medium usually retailer but one running really small compared retailer shirts fabric great but looked carefully zipper construction sewn poorly well sewing buttons areaalso lot thread h\n",
            "meh details dress pretty but super poofy felt like made look bigger maybe straight body want create curves would work but not great hourglasspear shaped figure fits tts\n",
            "ok like dress line color flowers cut etc but tried meh color wash bit flowers still beautiful but cut not flattering body model p fit ok but not keep ahve tie shoulder straps adjustable guess plus lbs dd waist\n",
            "\n",
            "Feature: not flattering\n",
            "Sample reviews:\n",
            "made well but not flattering top made well strap holder keep bra hidden always nice feature however amount fabric made unflattering overall design fun probably would purchased fitted flattering medium photo measurements\n",
            "tee top looked really cute received fit not flattering snug top loose bottom excess amount material made look disproportionate returned\n",
            "greek goddessstyle not curves avoid not flattering striped side panels look odd flow dress\n",
            "\n",
            "Feature: not recommend\n",
            "Sample reviews:\n",
            "oh oh reading reviews sizing one size got top size usually wear ml depending style ft tall lb like clothing loose but not loose top gone xxxxxs exists no wonder low leap price good quality though nice pale peach color no would not recommend unless wear xxxl\n",
            "beware washing absolutely beautiful top worn oncehand washed wroteruined black trim bled top tried everything could imagine get back normal not recommend\n",
            "beautiful fabric detailing rare find clothing made quality fabrics fine soft wool blend design feminine without overthetop fit slightly loose pictured model would not recommend wearing belt pictured makes look trendy detracts shape cardigan beautiful skimming body perfect topper work daytime evening really lovely one things decid\n",
            "\n",
            "Feature: shame\n",
            "Sample reviews:\n",
            "poor desgn jumpsuit cute looked amazing return poor design extremely hard put take many buttons undo not easy snaps fabric buttons definitely make great look jumpsuit but zipper side easy access use snaps instead loops fabric buttons shame lovely classy design good quality material but not worth difficu\n",
            "nightgown looked comfy cute ordered large uncomfortably tighti lbs shame size large not really medium\n",
            "misleading product photos dress excited new arrivals but sadly not live expectations unlike first two product photos dress baggy empire waisted black trim thin one shown last two product photos dress slip no zipper tie inches spare waist felt sloppy shame would loved original design online anyhow wanted share photos real\n",
            "\n",
            "Feature: returned\n",
            "Sample reviews:\n",
            "shorter pictured sheds lot ordered size xl ivory pictured lace details welldone but length much shorter model ft reference even sleeves short side wrists main problem much would trying fuzz everywhere returned love retailer mixes lace knit sweaters one not work\n",
            "stylish but made cheap fabric love design tunic sewn well but fabric cheap disliked texture fabric much returned\n",
            "flimsy loved cut stretch material made comfortable however found material unflattering thicker thighs tended cling body would better sort lining would prevented flimsy material highlighting imperfections bottom pants not hemmed want clean look may not like edges returned immediately not work\n",
            "\n",
            "Feature: cheap\n",
            "Sample reviews:\n",
            "stylish but made cheap fabric love design tunic sewn well but fabric cheap disliked texture fabric much returned\n",
            "not excited try dress looking velvet dress couple years not digging one fabric let right bat cheap looking seen nice velvet shiny thin slightly sheer dress cut expecting loose baby doll type dress length hit knees overall effect made feel gypsyishmy husband gave firm no saw walk\n",
            "oh dear elastic waistband ruined skirt meit made look cheap assumed photograph skirt knit structured lining real waistband zip instead sweatshirt knit no lining elastic looked cheap hung bit baggy elastic waist making nogo\n",
            "\n",
            "Feature: wanted like\n",
            "Sample reviews:\n",
            "really wanted like sides scooped bit much hoping able tuck skirt wear work but definitely gaps showed side midriff back goes\n",
            "not pictured really wanted like top model backwards v actually back closes eye hook tag also seam running back front actually high round neck material metallic thread felt rather scratchy cheap usually xs top much material bottom flared strangely xs short front moving arms caused ride\n",
            "wanted like holding horses dress similar one year ago loved swinging fit without looking like maternity dress fit style dress wonderful color killed ordered orange liked photo model dress arrived mail could hardly take package try color almost neon orange much redhead hard wear bright neony color not sure\n",
            "\n",
            "Feature: cute but\n",
            "Sample reviews:\n",
            "cute but major flaws pattern cute little subtle photos problems skirt pretty sure wrinkle two seconds buttons front no lining behind means sit wearing skirt not lay quite right gaps see whatever not underneath buttons like two inches apart not tiny little gap no thanks also skirt fir true size not tight gappy\n",
            "cute but tight chest several tiny tunics received one today cute but tight chest returning large\n",
            "runs big size quest find comfy cute casual tops took change one cute but quite oversized overwhelmed ordered large generally wear medium large safely size least size two still get fit shown model style color not suit coloring body type but still recommend comfortable different enough nice addition someone elses closet\n",
            "\n",
            "Feature: poor\n",
            "Sample reviews:\n",
            "poor desgn jumpsuit cute looked amazing return poor design extremely hard put take many buttons undo not easy snaps fabric buttons definitely make great look jumpsuit but zipper side easy access use snaps instead loops fabric buttons shame lovely classy design good quality material but not worth difficu\n",
            "beautiful tank but poor shape really lived detail fabric quality tank however sizing seemed disproportionate tight bust loose waist really loved colors purchased online but return sizing\n",
            "disappointing ordered vest line returned due poor quality\n",
            "\n",
            "Feature: beautiful but\n",
            "Sample reviews:\n",
            "dazzling truly word comes mind think dress dazzling pictures online barely justiceif retailer nearby check see available store go check person not disappoint every year around time beloved retailer seems come style dress years past different beautiful but think truly outdone year dress deep emerald green\n",
            "beautiful but bulky middle beautiful dress ordered size accommodate bust but rest dress big bulky middle area nothing shape would likely work best smaller ladies\n",
            "disappointed high hopes top beautiful but uncomfortable lacebeadwork extremely itchy button neck seems cheap worried would fall beadwork lace puckered shoulders making fit\n",
            "\n",
            "Feature: shapeless\n",
            "Sample reviews:\n",
            "looks like shapeless lingerie product disappointing fabric thin no shape hangs like pajama top not flattering really overpriced might look good someone perfect body shape would not but would probably still look like went pjs not wellendowed b nothing also online picture moss version looks like greyblack combo not really green\n",
            "adorable like reviewers opted grey version almost every tunic dress tried winds looking like sack body pleased dress looked pretty great neckline perfect nice depth addition ontrend lacing length love shirttail hemline also perfect drape material keeps looking like shapeless bag comment quite minor would give stars could pockets\n",
            "shapeless really wanted love coat material nice green color dark rich hood however cut bad probably lot people shoulders cut wide impeded movement bust hips cut tight overall boxy another boiled wool coat bought retailer years ago though cut oversize like one much fuller sweep proportions still seem right also\n",
            "\n",
            "Feature: going back\n",
            "Sample reviews:\n",
            "wanted love but pretty pricey sweatshirt key hole back bright pink ribbon looks odd stitching beaded detail around bottom hem cuffs gorgeous but sleeves way long looked silly unfortunately going back\n",
            "not sure one surprised reviewers loved one much completely different looks model much shorter others mention but flares lot enough feel maternityish looks fitted model maybe shape short torso carry weight hips ordered xs say material nice well made but going back\n",
            "pretty but scratchy color beautiful order not dramatically long model but otherwise fit sleeves little shorter would better but little scratchy wherever touches skin not worth going back\n",
            "\n",
            "Feature: hopes\n",
            "Sample reviews:\n",
            "put stop top love outfit much bought skirt pictured top model high hopes quest perfect date night outfit would ended not starters top much beige person horrible unflattering color get away successfully secondly much fabric billows bunches place wear like shown would silly tuck looks like tried hard make work lastly\n",
            "disappointed high hopes top beautiful but uncomfortable lacebeadwork extremely itchy button neck seems cheap worried would fall beadwork lace puckered shoulders making fit\n",
            "notta high hopes top but big much fabric\n",
            "\n",
            "Feature: would not recommend\n",
            "Sample reviews:\n",
            "oh oh reading reviews sizing one size got top size usually wear ml depending style ft tall lb like clothing loose but not loose top gone xxxxxs exists no wonder low leap price good quality though nice pale peach color no would not recommend unless wear xxxl\n",
            "beautiful fabric detailing rare find clothing made quality fabrics fine soft wool blend design feminine without overthetop fit slightly loose pictured model would not recommend wearing belt pictured makes look trendy detracts shape cardigan beautiful skimming body perfect topper work daytime evening really lovely one things decid\n",
            "poor quality seams split purchased pants vacation thought would perfect addition comfy travel wardrobe second wear happened longhaul flight entire side seam split food long upper outer thigh luckily would packed backup dress pants not tight but seams wrent strong enough handle little pressure sitting guess poor construction would not recommend\n",
            "\n",
            "Feature: sack\n",
            "Sample reviews:\n",
            "sad sack look like wearing dress sad sad sack fabric less ideal no shape speak love pockets but way much fabric petite person dress got good someone sadly person not\n",
            "see potato sack title says looks pretty online though\n",
            "adorable like reviewers opted grey version almost every tunic dress tried winds looking like sack body pleased dress looked pretty great neckline perfect nice depth addition ontrend lacing length love shirttail hemline also perfect drape material keeps looking like shapeless bag comment quite minor would give stars could pockets\n",
            "\n",
            "Feature: idea\n",
            "Sample reviews:\n",
            "cute idea but low cut material thin hoping wear cool flowing summer top but layer since whole bra basically hangs keeping good price also buttons super tiny little hard fasten\n",
            "nice getting another bought store safe thought would try ordering confirm size good idea b variable results trying order size charts large looked nice but slightly large chest directly compared medium seems major difference length large longer medium not find either itchy construction seems totally ok\n",
            "great idea mediocre execution really wanted love dress but think proportions weird usually go eight unstructured dresses structured dresses runs small throughout short feel comfortable wearing work front nicely detailed but back looks weirdly forgotten could use detailing tried three different sizes pulled weirdly chest little slip goes dress w\n",
            "\n"
          ]
        }
      ]
    },
    {
      "cell_type": "markdown",
      "source": [
        "__Print sample reviews for each of the 20 positive coefficient features__"
      ],
      "metadata": {
        "id": "ZkJiqDKn-sYJ"
      }
    },
    {
      "cell_type": "code",
      "source": [
        "for feature in top20_pos_feataures:\n",
        "    print('Feature:', feature)\n",
        "\n",
        "    if feature in X_train_struct.columns.tolist():\n",
        "      print(\"This is a feature from the structured features\")\n",
        "      print()\n",
        "      continue\n",
        "    else:\n",
        "      print('Sample reviews:')\n",
        "      c = 0\n",
        "      for review in X_train['Clean Review'].values:\n",
        "          if re.search(r'\\b'+feature+r'\\b', review, flags=re.I|re.A):\n",
        "              print(review)\n",
        "              c+= 1\n",
        "          if c == 3:\n",
        "              break\n",
        "    print()"
      ],
      "metadata": {
        "colab": {
          "base_uri": "https://localhost:8080/"
        },
        "id": "EdkgvHyo-r5j",
        "outputId": "b11be44e-069d-4ed6-d7d3-26e01594d767"
      },
      "execution_count": 156,
      "outputs": [
        {
          "output_type": "stream",
          "name": "stdout",
          "text": [
            "Feature: Polarity\n",
            "This is a feature from the structured features\n",
            "\n",
            "Feature: unique\n",
            "Sample reviews:\n",
            "love bow cute casual tee grabbed sale but love bow back something unique otherwise plain tee\n",
            "beautiful unique dress gorgeous color print think styled eclectic elegant would like definitely runs big shoulderbodice area sized\n",
            "love love love top cute comfy love details especially back embodies love retailer clothing little unique touches find anywhere else pleased\n",
            "\n",
            "Feature: amazing\n",
            "Sample reviews:\n",
            "lovely fabric but tiny hips hips bigger size us not fully close robe model must wearing larger two sizes nice oversized fit fabric soft lux amazing but weird dart back closure right sadly size hips butt taller thinner would kept worn every day\n",
            "amazing but runs sooo small absolutely fell love stress sought store fabric drape fabric amazing however runs extremely small normally wear medium sometimes even wear small dresses tried medium large could not even get zipped way disappointed gorgeous dress definitely size least one maybe two sizes\n",
            "amazing vest love everything vest comfortable cute great transition piece spring\n",
            "\n",
            "Feature: fun\n",
            "Sample reviews:\n",
            "made well but not flattering top made well strap holder keep bra hidden always nice feature however amount fabric made unflattering overall design fun probably would purchased fitted flattering medium photo measurements\n",
            "fun multi season pant purchased navygreen redbrown ultimately exchanged red blackgold charlies tend run small size one normally wear but needed side zip makes slimming fit ankle fit paired sleeveless silk navy blouse blue pant weather warm pair white oxford navy cable knit sweater see many possibilities pairs fun print fabric work\n",
            "fun little bit sexy love piece like another reviewer notice broken button right package but great every way going keep mended buttons reinforced generally size medium small frame top but baby growing hips found tts\n",
            "\n",
            "Feature: dd\n",
            "Sample reviews:\n",
            "surprisingly cute not going even try see dress would fit seemed like unflattering silhouette since body nothing like model glad gave try dress cute comfy looks great belt outfit floppy straw hat skinny leather belt flat sandals lot fabric but gathers well without poofing ordered medium petite dd\n",
            "new staple absolutely love top short but curvy bottom dd bust ordered xl upper body fits great not like anything hug body but not look like tent little aline shape another reason go larger size like dry clothes ordered grey order black also\n",
            "lovely color ordered either stylist pick top rated not remember but must say ti nice little loose but petite sizes sold ordered xs petite might short cut feminine not figure hugging but still flattering see wearing fall boots cardigan not summer sandals decided keep lbs dd waist\n",
            "\n",
            "Feature: recommend\n",
            "Sample reviews:\n",
            "sexy flows love jumpsuit usually size small however lot comfortable xs fit comfortable sexy received lot compliments couple need borrow tall went way ankles but paired open toed heels worked neck line pretty high but adjust comfort highly recommend jumpsuit even petite ladies\n",
            "not sure would flatter definitely agree reviewers top looks great model but pretty bad real life super boxy no give everything hangs plan ordering would recommend sizing\n",
            "gorgeous around love love sweater vest quality wonderful fit great highly recommend\n",
            "\n",
            "Feature: dressed\n",
            "Sample reviews:\n",
            "comfy absolutely love top ordered moss color size xxs lbs typically wear xs retailer clothing top kind flaredloose fitting would size website currently says everleigh but tag says eri ali color little darker person but tie dye effect spot beautiful super super comfy currently wearing lululemons but defin see top dressed cute pendant necklace skinny bla\n",
            "lovely blouse pretty well made new favorite dark jeans boots boho lovely blouse feel dressed bit jeans day loose flattering way not look like maternity top happy\n",
            "better person skirt beautiful flattering feminine fit floral pattern delicate little different course layers make piece stunner highly recommend see wearing year dressed jewels boots casual sweater\n",
            "\n",
            "Feature: elegant\n",
            "Sample reviews:\n",
            "casual elegance glad purchased top read reviews thoroughly usually medium tops broad shoulders reference lbs athletic build decided size top fits perfect looks pictured bit substantial expected details embroidery beautiful make top uniquely retailer casual elegant way pairing skinny jeans andor white skinny pants not tell\n",
            "wonderful but bit long beautiful detail bodice but either short bit long not yet decided keep material elegant details beautiful\n",
            "beautiful unique dress gorgeous color print think styled eclectic elegant would like definitely runs big shoulderbodice area sized\n",
            "\n",
            "Feature: comfy\n",
            "Sample reviews:\n",
            "cute though inside not soft got cream color absolutely love style color sweater however tried store one tried super soft comfy ended finding later sale ordered online got not know worn washed someone but inside not soft sad anyone else experience size great ordered xs\n",
            "surprisingly cute not going even try see dress would fit seemed like unflattering silhouette since body nothing like model glad gave try dress cute comfy looks great belt outfit floppy straw hat skinny leather belt flat sandals lot fabric but gathers well without poofing ordered medium petite dd\n",
            "comfy love top red color bit orangey taste but overall fabulous piece\n",
            "\n",
            "Feature: vest\n",
            "Sample reviews:\n",
            "gorgeous around love love sweater vest quality wonderful fit great highly recommend\n",
            "amazing vest love everything vest comfortable cute great transition piece spring\n",
            "ml size thingsdepending maker design tried vest paired top photo could not believe big boxy boxy looked dumpy frame thought might work broad shoulders hang vest offbut noooo breast ruined well go size c not going help one but going try sizing small give chance fitting better runs least\n",
            "\n",
            "Feature: compliments\n",
            "Sample reviews:\n",
            "sexy flows love jumpsuit usually size small however lot comfortable xs fit comfortable sexy received lot compliments couple need borrow tall went way ankles but paired open toed heels worked neck line pretty high but adjust comfort highly recommend jumpsuit even petite ladies\n",
            "perfect occasion dress purchased dress black tie optional wedding mansions rhode island comfortable appropriate received many compliments strangers wonderfully twirling dress dancing\n",
            "versitle sweater light but cozy enveloping sweater worn evening outfit well preschoolers birthday party odd cut but figured easy piece throw look put together tons compliments every time wear quite long would work someone taller\n",
            "\n",
            "Feature: complaint\n",
            "Sample reviews:\n",
            "cute little top love top beachy print cute complaint run large definitely not fitted tshirt bought medium little baggy hoping wash dry shrink bit not okay still cute\n",
            "beyond cute top one favorites not get much love design dots adorable received ton compliments back top quite bit longer looks great complaint runs bit small top even though shirt perfectly sized bent slip shoe one buttons popped less minute wearing\n",
            "returned wanted love love color thought style would work anyone but tried immediately took definite not keeping side zipper complaint many really made uncomfortable also detail bust would not lay flat looked odd loved material definitely green print but knew would never wear looked blah\n",
            "\n",
            "Feature: classic\n",
            "Sample reviews:\n",
            "classic edgy allinone not owned denim jacket since college but felt inspired season pilcro jacket perfect little distressed along edges tailored fit love cozy collar looks expensive fits really well\n",
            "love love love skirt silhouette length skirt length flattering classic comfortable colors weight skirt make versatile could worn yearround long not degrees bit weight one favorite pieces closet styled different ways pair higherend tee tank denim jacket bodyhugging sweater sized\n",
            "great layering piece sweater comfy classic balances quirky handknit look beautiful color practical fit bit cropped boxy part style others mentioned gaps knit make seethrough opinion makes perfect layering like longer camisole showing underneath wearing little dress warm but still thin enough fit jacket coat\n",
            "\n",
            "Feature: stunning\n",
            "Sample reviews:\n",
            "surprisingly awesome online pictures not dress justice materials top skirt different black part soft sweater feel bottom part appropriately thick knit feel contract stunning largely washed online pictures not kind dress see rack think oh gosh one but try moment comfortable flattering slimminga prefect everyday dress\n",
            "color spectacular love blouse stunning color ruffles make special different\n",
            "fabulous fall dress dress beautiful pattern pretty beading detail stunning immediately received many compliments first day wore think little short bought size also like loose fitting clothing wore bare legs boots felt ok likely add leggings tights weather gets cooler\n",
            "\n",
            "Feature: perfect\n",
            "Sample reviews:\n",
            "perfect occasion dress purchased dress black tie optional wedding mansions rhode island comfortable appropriate received many compliments strangers wonderfully twirling dress dancing\n",
            "creativity required not pass especially dress disaster semimaternity offers no shape however belt really becomes sweetest sweater dress not believe flattering dress becomes belt skirt falls perfectly perfect especially rich colors not go wrong positive need dress boots heels jacket whatever goes perfect\n",
            "pretty blouse made casual materials perfect drinks used vacation top flattering cut pretty design chiffon trim top\n",
            "\n",
            "Feature: soft\n",
            "Sample reviews:\n",
            "cute though inside not soft got cream color absolutely love style color sweater however tried store one tried super soft comfy ended finding later sale ordered online got not know worn washed someone but inside not soft sad anyone else experience size great ordered xs\n",
            "lovely fabric but tiny hips hips bigger size us not fully close robe model must wearing larger two sizes nice oversized fit fabric soft lux amazing but weird dart back closure right sadly size hips butt taller thinner would kept worn every day\n",
            "soft comfortable dressing weight drape shirt wonderful comfortable still flattering could wear jeans sneakers heels fits true size navy color deep\n",
            "\n",
            "Feature: small fit\n",
            "Sample reviews:\n",
            "swinging dress thought dress store true size bit swinging style athletic small fit perfect\n",
            "confusing sizing love shirt tried stores typically medium across board lbs went size figuring would small fit but short like everyone else said not crop top short but definitely raise arms stomach exposed short not buy price tag shortness but might spring regardless weird cut super cute otherwise\n",
            "usually wear medium bought small fit ok but no shape not flattering love baby doll dresses tops but tent daughter saw try said piece tablecloth going back\n",
            "\n",
            "Feature: thin but\n",
            "Sample reviews:\n",
            "liked midweight fabric not lined read polyester description worried might thin but stretchy midweight fabric pretty pretty print not like not know dress model wearing but empire waist dress empire waist long hem makes look like maternity dress sleeves cut oddly look wide dress even model\n",
            "relaxed cool like top not thin but still remains cool bad hand washed\n",
            "great piece love wide neck offshoulder tops think flattering first thought fabric thin but realized since want wear fuller party skirt nice ir not bulky actually think really cute white jeans summer great way dress casual outfit\n",
            "\n",
            "Feature: easy\n",
            "Sample reviews:\n",
            "comfortable cool easy wear but still lot style see becoming new basic\n",
            "runs big cute swing top would flattering love print white color soft not wrinkle easy but run big usually retailer but drowning size\n",
            "laid back stylish piece comfortable easy pair leggings denim soft not heavy\n",
            "\n",
            "Feature: sparkle\n",
            "Sample reviews:\n",
            "simple little wow piece skirt amazing right amount sparkle right amount shape bought size six really switch depending but six fits perfectly also bought regular length even though could probably considered petite but ended perfect but skirt lovely person enough wow wear thing simple tee still look amazing wore party black high neck tank\n",
            "super socks love little socks dots sparkle wear heels leggings jump suit pants not want higher sock kneehigh stockings\n",
            "great casual weekend sahm shirt stay home mom always lookout something casual interesting yet put together preppy yet quirky embroidery love shirt great jeans take shopping playground lunch without feeling overdressed anywhere sparkle embroidered birds gives spunk not make look boring predictable time not something screams look perfect mix\n",
            "\n"
          ]
        }
      ]
    },
    {
      "cell_type": "markdown",
      "source": [
        "## __Final Report__\n",
        "\n",
        "The NLP problem was derived from the data from an e-commerce store focusing on women's clothing. The data set initially contained various features for example, reviews, rating of the products, recommendation and etc. The main object of this report is to find a right supervised predictive model to predict if the produc is recommended by the customer or not. \n",
        "\n",
        "Based on the observation of experiments, we found that the model, \"Combining Bag of Words based Features - 3-grams with Feature Selection and the Structured Features\" produces the best performance. Using the model, we can predict the product is recommended by customer or not accuratly. \n",
        "\n",
        "Using the most accurate predictive model and the list of feature, we are able to extract the top 20 negative/positive reviews from the text data. \n"
      ],
      "metadata": {
        "id": "FD1O81fwsPvz"
      }
    },
    {
      "cell_type": "code",
      "source": [
        ""
      ],
      "metadata": {
        "id": "jWjYEU2ODJpT"
      },
      "execution_count": null,
      "outputs": []
    }
  ]
}