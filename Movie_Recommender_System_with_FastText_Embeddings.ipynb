{
  "nbformat": 4,
  "nbformat_minor": 0,
  "metadata": {
    "colab": {
      "name": "Movie Recommender System with FastText Embeddings.ipynb",
      "provenance": [],
      "authorship_tag": "ABX9TyMRPxITFnjB6YTZVj5mhxCt",
      "include_colab_link": true
    },
    "kernelspec": {
      "name": "python3",
      "display_name": "Python 3"
    },
    "language_info": {
      "name": "python"
    }
  },
  "cells": [
    {
      "cell_type": "markdown",
      "metadata": {
        "id": "view-in-github",
        "colab_type": "text"
      },
      "source": [
        "<a href=\"https://colab.research.google.com/github/jasonpark9001/NLP/blob/main/Movie_Recommender_System_with_FastText_Embeddings.ipynb\" target=\"_parent\"><img src=\"https://colab.research.google.com/assets/colab-badge.svg\" alt=\"Open In Colab\"/></a>"
      ]
    },
    {
      "cell_type": "markdown",
      "source": [
        "# Movie Recommender System with FastText Embeddings\n",
        "\n",
        "__We will be building a movie recommendation system here where based on data\\metadata pertaining to different movies, we try and recommend similar movies of interest!__\n"
      ],
      "metadata": {
        "id": "dsAj-nHcPCG8"
      }
    },
    {
      "cell_type": "markdown",
      "source": [
        "## Steps:\n",
        "- Load Data\n",
        "-Veiw some of rows of dataframe \n",
        "-Create 'Description' column\n",
        "-Text Preprocessing(normalization of document)\n",
        "-Use gensim to train a FastText model on the processed corpus\n",
        "-Create Movie Recommender\n"
      ],
      "metadata": {
        "id": "oGs7qZ5ARc9U"
      }
    },
    {
      "cell_type": "markdown",
      "source": [
        "## Load Data\n"
      ],
      "metadata": {
        "id": "h1cU9mJcPR-G"
      }
    },
    {
      "cell_type": "code",
      "execution_count": 14,
      "metadata": {
        "colab": {
          "base_uri": "https://localhost:8080/"
        },
        "id": "RNYEWUg0O-UD",
        "outputId": "781ca5a9-08ca-4701-add6-466b1340b78a"
      },
      "outputs": [
        {
          "output_type": "stream",
          "name": "stdout",
          "text": [
            "<class 'pandas.core.frame.DataFrame'>\n",
            "RangeIndex: 4803 entries, 0 to 4802\n",
            "Data columns (total 20 columns):\n",
            " #   Column                Non-Null Count  Dtype  \n",
            "---  ------                --------------  -----  \n",
            " 0   budget                4803 non-null   int64  \n",
            " 1   genres                4803 non-null   object \n",
            " 2   homepage              1712 non-null   object \n",
            " 3   id                    4803 non-null   int64  \n",
            " 4   keywords              4803 non-null   object \n",
            " 5   original_language     4803 non-null   object \n",
            " 6   original_title        4803 non-null   object \n",
            " 7   overview              4800 non-null   object \n",
            " 8   popularity            4803 non-null   float64\n",
            " 9   production_companies  4803 non-null   object \n",
            " 10  production_countries  4803 non-null   object \n",
            " 11  release_date          4802 non-null   object \n",
            " 12  revenue               4803 non-null   int64  \n",
            " 13  runtime               4801 non-null   float64\n",
            " 14  spoken_languages      4803 non-null   object \n",
            " 15  status                4803 non-null   object \n",
            " 16  tagline               3959 non-null   object \n",
            " 17  title                 4803 non-null   object \n",
            " 18  vote_average          4803 non-null   float64\n",
            " 19  vote_count            4803 non-null   int64  \n",
            "dtypes: float64(3), int64(4), object(13)\n",
            "memory usage: 750.6+ KB\n"
          ]
        }
      ],
      "source": [
        "import pandas as pd\n",
        "\n",
        "df = pd.read_csv('tmdb_5000_movies.csv.gz', compression='gzip')\n",
        "df.info()"
      ]
    },
    {
      "cell_type": "markdown",
      "source": [
        "### View top few rows of the dataframe "
      ],
      "metadata": {
        "id": "lkZuMkmqPzar"
      }
    },
    {
      "cell_type": "code",
      "source": [
        "df.head(2)"
      ],
      "metadata": {
        "colab": {
          "base_uri": "https://localhost:8080/",
          "height": 367
        },
        "id": "8Qyz4ebyPyB1",
        "outputId": "f02a51f3-61f1-426c-fa1d-5227f881662d"
      },
      "execution_count": 15,
      "outputs": [
        {
          "output_type": "execute_result",
          "data": {
            "text/plain": [
              "      budget                                             genres  \\\n",
              "0  237000000  [{\"id\": 28, \"name\": \"Action\"}, {\"id\": 12, \"nam...   \n",
              "1  300000000  [{\"id\": 12, \"name\": \"Adventure\"}, {\"id\": 14, \"...   \n",
              "\n",
              "                                       homepage     id  \\\n",
              "0                   http://www.avatarmovie.com/  19995   \n",
              "1  http://disney.go.com/disneypictures/pirates/    285   \n",
              "\n",
              "                                            keywords original_language  \\\n",
              "0  [{\"id\": 1463, \"name\": \"culture clash\"}, {\"id\":...                en   \n",
              "1  [{\"id\": 270, \"name\": \"ocean\"}, {\"id\": 726, \"na...                en   \n",
              "\n",
              "                             original_title  \\\n",
              "0                                    Avatar   \n",
              "1  Pirates of the Caribbean: At World's End   \n",
              "\n",
              "                                            overview  popularity  \\\n",
              "0  In the 22nd century, a paraplegic Marine is di...  150.437577   \n",
              "1  Captain Barbossa, long believed to be dead, ha...  139.082615   \n",
              "\n",
              "                                production_companies  \\\n",
              "0  [{\"name\": \"Ingenious Film Partners\", \"id\": 289...   \n",
              "1  [{\"name\": \"Walt Disney Pictures\", \"id\": 2}, {\"...   \n",
              "\n",
              "                                production_countries release_date     revenue  \\\n",
              "0  [{\"iso_3166_1\": \"US\", \"name\": \"United States o...   2009-12-10  2787965087   \n",
              "1  [{\"iso_3166_1\": \"US\", \"name\": \"United States o...   2007-05-19   961000000   \n",
              "\n",
              "   runtime                                   spoken_languages    status  \\\n",
              "0    162.0  [{\"iso_639_1\": \"en\", \"name\": \"English\"}, {\"iso...  Released   \n",
              "1    169.0           [{\"iso_639_1\": \"en\", \"name\": \"English\"}]  Released   \n",
              "\n",
              "                                          tagline  \\\n",
              "0                     Enter the World of Pandora.   \n",
              "1  At the end of the world, the adventure begins.   \n",
              "\n",
              "                                      title  vote_average  vote_count  \n",
              "0                                    Avatar           7.2       11800  \n",
              "1  Pirates of the Caribbean: At World's End           6.9        4500  "
            ],
            "text/html": [
              "\n",
              "  <div id=\"df-99b3516f-7af5-4b79-8597-fda3b41c0f9b\">\n",
              "    <div class=\"colab-df-container\">\n",
              "      <div>\n",
              "<style scoped>\n",
              "    .dataframe tbody tr th:only-of-type {\n",
              "        vertical-align: middle;\n",
              "    }\n",
              "\n",
              "    .dataframe tbody tr th {\n",
              "        vertical-align: top;\n",
              "    }\n",
              "\n",
              "    .dataframe thead th {\n",
              "        text-align: right;\n",
              "    }\n",
              "</style>\n",
              "<table border=\"1\" class=\"dataframe\">\n",
              "  <thead>\n",
              "    <tr style=\"text-align: right;\">\n",
              "      <th></th>\n",
              "      <th>budget</th>\n",
              "      <th>genres</th>\n",
              "      <th>homepage</th>\n",
              "      <th>id</th>\n",
              "      <th>keywords</th>\n",
              "      <th>original_language</th>\n",
              "      <th>original_title</th>\n",
              "      <th>overview</th>\n",
              "      <th>popularity</th>\n",
              "      <th>production_companies</th>\n",
              "      <th>production_countries</th>\n",
              "      <th>release_date</th>\n",
              "      <th>revenue</th>\n",
              "      <th>runtime</th>\n",
              "      <th>spoken_languages</th>\n",
              "      <th>status</th>\n",
              "      <th>tagline</th>\n",
              "      <th>title</th>\n",
              "      <th>vote_average</th>\n",
              "      <th>vote_count</th>\n",
              "    </tr>\n",
              "  </thead>\n",
              "  <tbody>\n",
              "    <tr>\n",
              "      <th>0</th>\n",
              "      <td>237000000</td>\n",
              "      <td>[{\"id\": 28, \"name\": \"Action\"}, {\"id\": 12, \"nam...</td>\n",
              "      <td>http://www.avatarmovie.com/</td>\n",
              "      <td>19995</td>\n",
              "      <td>[{\"id\": 1463, \"name\": \"culture clash\"}, {\"id\":...</td>\n",
              "      <td>en</td>\n",
              "      <td>Avatar</td>\n",
              "      <td>In the 22nd century, a paraplegic Marine is di...</td>\n",
              "      <td>150.437577</td>\n",
              "      <td>[{\"name\": \"Ingenious Film Partners\", \"id\": 289...</td>\n",
              "      <td>[{\"iso_3166_1\": \"US\", \"name\": \"United States o...</td>\n",
              "      <td>2009-12-10</td>\n",
              "      <td>2787965087</td>\n",
              "      <td>162.0</td>\n",
              "      <td>[{\"iso_639_1\": \"en\", \"name\": \"English\"}, {\"iso...</td>\n",
              "      <td>Released</td>\n",
              "      <td>Enter the World of Pandora.</td>\n",
              "      <td>Avatar</td>\n",
              "      <td>7.2</td>\n",
              "      <td>11800</td>\n",
              "    </tr>\n",
              "    <tr>\n",
              "      <th>1</th>\n",
              "      <td>300000000</td>\n",
              "      <td>[{\"id\": 12, \"name\": \"Adventure\"}, {\"id\": 14, \"...</td>\n",
              "      <td>http://disney.go.com/disneypictures/pirates/</td>\n",
              "      <td>285</td>\n",
              "      <td>[{\"id\": 270, \"name\": \"ocean\"}, {\"id\": 726, \"na...</td>\n",
              "      <td>en</td>\n",
              "      <td>Pirates of the Caribbean: At World's End</td>\n",
              "      <td>Captain Barbossa, long believed to be dead, ha...</td>\n",
              "      <td>139.082615</td>\n",
              "      <td>[{\"name\": \"Walt Disney Pictures\", \"id\": 2}, {\"...</td>\n",
              "      <td>[{\"iso_3166_1\": \"US\", \"name\": \"United States o...</td>\n",
              "      <td>2007-05-19</td>\n",
              "      <td>961000000</td>\n",
              "      <td>169.0</td>\n",
              "      <td>[{\"iso_639_1\": \"en\", \"name\": \"English\"}]</td>\n",
              "      <td>Released</td>\n",
              "      <td>At the end of the world, the adventure begins.</td>\n",
              "      <td>Pirates of the Caribbean: At World's End</td>\n",
              "      <td>6.9</td>\n",
              "      <td>4500</td>\n",
              "    </tr>\n",
              "  </tbody>\n",
              "</table>\n",
              "</div>\n",
              "      <button class=\"colab-df-convert\" onclick=\"convertToInteractive('df-99b3516f-7af5-4b79-8597-fda3b41c0f9b')\"\n",
              "              title=\"Convert this dataframe to an interactive table.\"\n",
              "              style=\"display:none;\">\n",
              "        \n",
              "  <svg xmlns=\"http://www.w3.org/2000/svg\" height=\"24px\"viewBox=\"0 0 24 24\"\n",
              "       width=\"24px\">\n",
              "    <path d=\"M0 0h24v24H0V0z\" fill=\"none\"/>\n",
              "    <path d=\"M18.56 5.44l.94 2.06.94-2.06 2.06-.94-2.06-.94-.94-2.06-.94 2.06-2.06.94zm-11 1L8.5 8.5l.94-2.06 2.06-.94-2.06-.94L8.5 2.5l-.94 2.06-2.06.94zm10 10l.94 2.06.94-2.06 2.06-.94-2.06-.94-.94-2.06-.94 2.06-2.06.94z\"/><path d=\"M17.41 7.96l-1.37-1.37c-.4-.4-.92-.59-1.43-.59-.52 0-1.04.2-1.43.59L10.3 9.45l-7.72 7.72c-.78.78-.78 2.05 0 2.83L4 21.41c.39.39.9.59 1.41.59.51 0 1.02-.2 1.41-.59l7.78-7.78 2.81-2.81c.8-.78.8-2.07 0-2.86zM5.41 20L4 18.59l7.72-7.72 1.47 1.35L5.41 20z\"/>\n",
              "  </svg>\n",
              "      </button>\n",
              "      \n",
              "  <style>\n",
              "    .colab-df-container {\n",
              "      display:flex;\n",
              "      flex-wrap:wrap;\n",
              "      gap: 12px;\n",
              "    }\n",
              "\n",
              "    .colab-df-convert {\n",
              "      background-color: #E8F0FE;\n",
              "      border: none;\n",
              "      border-radius: 50%;\n",
              "      cursor: pointer;\n",
              "      display: none;\n",
              "      fill: #1967D2;\n",
              "      height: 32px;\n",
              "      padding: 0 0 0 0;\n",
              "      width: 32px;\n",
              "    }\n",
              "\n",
              "    .colab-df-convert:hover {\n",
              "      background-color: #E2EBFA;\n",
              "      box-shadow: 0px 1px 2px rgba(60, 64, 67, 0.3), 0px 1px 3px 1px rgba(60, 64, 67, 0.15);\n",
              "      fill: #174EA6;\n",
              "    }\n",
              "\n",
              "    [theme=dark] .colab-df-convert {\n",
              "      background-color: #3B4455;\n",
              "      fill: #D2E3FC;\n",
              "    }\n",
              "\n",
              "    [theme=dark] .colab-df-convert:hover {\n",
              "      background-color: #434B5C;\n",
              "      box-shadow: 0px 1px 3px 1px rgba(0, 0, 0, 0.15);\n",
              "      filter: drop-shadow(0px 1px 2px rgba(0, 0, 0, 0.3));\n",
              "      fill: #FFFFFF;\n",
              "    }\n",
              "  </style>\n",
              "\n",
              "      <script>\n",
              "        const buttonEl =\n",
              "          document.querySelector('#df-99b3516f-7af5-4b79-8597-fda3b41c0f9b button.colab-df-convert');\n",
              "        buttonEl.style.display =\n",
              "          google.colab.kernel.accessAllowed ? 'block' : 'none';\n",
              "\n",
              "        async function convertToInteractive(key) {\n",
              "          const element = document.querySelector('#df-99b3516f-7af5-4b79-8597-fda3b41c0f9b');\n",
              "          const dataTable =\n",
              "            await google.colab.kernel.invokeFunction('convertToInteractive',\n",
              "                                                     [key], {});\n",
              "          if (!dataTable) return;\n",
              "\n",
              "          const docLinkHtml = 'Like what you see? Visit the ' +\n",
              "            '<a target=\"_blank\" href=https://colab.research.google.com/notebooks/data_table.ipynb>data table notebook</a>'\n",
              "            + ' to learn more about interactive tables.';\n",
              "          element.innerHTML = '';\n",
              "          dataTable['output_type'] = 'display_data';\n",
              "          await google.colab.output.renderOutput(dataTable, element);\n",
              "          const docLink = document.createElement('div');\n",
              "          docLink.innerHTML = docLinkHtml;\n",
              "          element.appendChild(docLink);\n",
              "        }\n",
              "      </script>\n",
              "    </div>\n",
              "  </div>\n",
              "  "
            ]
          },
          "metadata": {},
          "execution_count": 15
        }
      ]
    },
    {
      "cell_type": "code",
      "source": [
        "column_names = ['title', 'tagline', 'overview', 'genres', 'popularity']\n",
        "df = df[column_names]\n",
        "df.tagline.fillna('',inplace= True)"
      ],
      "metadata": {
        "colab": {
          "base_uri": "https://localhost:8080/"
        },
        "id": "UwuIdQqTPl5L",
        "outputId": "5c133ae4-db28-42c4-c11f-c517c741b65a"
      },
      "execution_count": 16,
      "outputs": [
        {
          "output_type": "stream",
          "name": "stderr",
          "text": [
            "/usr/local/lib/python3.7/dist-packages/pandas/core/generic.py:6392: SettingWithCopyWarning: \n",
            "A value is trying to be set on a copy of a slice from a DataFrame\n",
            "\n",
            "See the caveats in the documentation: https://pandas.pydata.org/pandas-docs/stable/user_guide/indexing.html#returning-a-view-versus-a-copy\n",
            "  return self._update_inplace(result)\n"
          ]
        }
      ]
    },
    {
      "cell_type": "code",
      "source": [
        "df.head()"
      ],
      "metadata": {
        "colab": {
          "base_uri": "https://localhost:8080/",
          "height": 206
        },
        "id": "RGiw6TsrQSGs",
        "outputId": "60bcaf27-b49b-4085-bb54-210c804da777"
      },
      "execution_count": 17,
      "outputs": [
        {
          "output_type": "execute_result",
          "data": {
            "text/plain": [
              "                                      title  \\\n",
              "0                                    Avatar   \n",
              "1  Pirates of the Caribbean: At World's End   \n",
              "2                                   Spectre   \n",
              "3                     The Dark Knight Rises   \n",
              "4                               John Carter   \n",
              "\n",
              "                                          tagline  \\\n",
              "0                     Enter the World of Pandora.   \n",
              "1  At the end of the world, the adventure begins.   \n",
              "2                           A Plan No One Escapes   \n",
              "3                                 The Legend Ends   \n",
              "4            Lost in our world, found in another.   \n",
              "\n",
              "                                            overview  \\\n",
              "0  In the 22nd century, a paraplegic Marine is di...   \n",
              "1  Captain Barbossa, long believed to be dead, ha...   \n",
              "2  A cryptic message from Bond’s past sends him o...   \n",
              "3  Following the death of District Attorney Harve...   \n",
              "4  John Carter is a war-weary, former military ca...   \n",
              "\n",
              "                                              genres  popularity  \n",
              "0  [{\"id\": 28, \"name\": \"Action\"}, {\"id\": 12, \"nam...  150.437577  \n",
              "1  [{\"id\": 12, \"name\": \"Adventure\"}, {\"id\": 14, \"...  139.082615  \n",
              "2  [{\"id\": 28, \"name\": \"Action\"}, {\"id\": 12, \"nam...  107.376788  \n",
              "3  [{\"id\": 28, \"name\": \"Action\"}, {\"id\": 80, \"nam...  112.312950  \n",
              "4  [{\"id\": 28, \"name\": \"Action\"}, {\"id\": 12, \"nam...   43.926995  "
            ],
            "text/html": [
              "\n",
              "  <div id=\"df-71765b76-9f57-40f4-aa25-ca22f97f30d6\">\n",
              "    <div class=\"colab-df-container\">\n",
              "      <div>\n",
              "<style scoped>\n",
              "    .dataframe tbody tr th:only-of-type {\n",
              "        vertical-align: middle;\n",
              "    }\n",
              "\n",
              "    .dataframe tbody tr th {\n",
              "        vertical-align: top;\n",
              "    }\n",
              "\n",
              "    .dataframe thead th {\n",
              "        text-align: right;\n",
              "    }\n",
              "</style>\n",
              "<table border=\"1\" class=\"dataframe\">\n",
              "  <thead>\n",
              "    <tr style=\"text-align: right;\">\n",
              "      <th></th>\n",
              "      <th>title</th>\n",
              "      <th>tagline</th>\n",
              "      <th>overview</th>\n",
              "      <th>genres</th>\n",
              "      <th>popularity</th>\n",
              "    </tr>\n",
              "  </thead>\n",
              "  <tbody>\n",
              "    <tr>\n",
              "      <th>0</th>\n",
              "      <td>Avatar</td>\n",
              "      <td>Enter the World of Pandora.</td>\n",
              "      <td>In the 22nd century, a paraplegic Marine is di...</td>\n",
              "      <td>[{\"id\": 28, \"name\": \"Action\"}, {\"id\": 12, \"nam...</td>\n",
              "      <td>150.437577</td>\n",
              "    </tr>\n",
              "    <tr>\n",
              "      <th>1</th>\n",
              "      <td>Pirates of the Caribbean: At World's End</td>\n",
              "      <td>At the end of the world, the adventure begins.</td>\n",
              "      <td>Captain Barbossa, long believed to be dead, ha...</td>\n",
              "      <td>[{\"id\": 12, \"name\": \"Adventure\"}, {\"id\": 14, \"...</td>\n",
              "      <td>139.082615</td>\n",
              "    </tr>\n",
              "    <tr>\n",
              "      <th>2</th>\n",
              "      <td>Spectre</td>\n",
              "      <td>A Plan No One Escapes</td>\n",
              "      <td>A cryptic message from Bond’s past sends him o...</td>\n",
              "      <td>[{\"id\": 28, \"name\": \"Action\"}, {\"id\": 12, \"nam...</td>\n",
              "      <td>107.376788</td>\n",
              "    </tr>\n",
              "    <tr>\n",
              "      <th>3</th>\n",
              "      <td>The Dark Knight Rises</td>\n",
              "      <td>The Legend Ends</td>\n",
              "      <td>Following the death of District Attorney Harve...</td>\n",
              "      <td>[{\"id\": 28, \"name\": \"Action\"}, {\"id\": 80, \"nam...</td>\n",
              "      <td>112.312950</td>\n",
              "    </tr>\n",
              "    <tr>\n",
              "      <th>4</th>\n",
              "      <td>John Carter</td>\n",
              "      <td>Lost in our world, found in another.</td>\n",
              "      <td>John Carter is a war-weary, former military ca...</td>\n",
              "      <td>[{\"id\": 28, \"name\": \"Action\"}, {\"id\": 12, \"nam...</td>\n",
              "      <td>43.926995</td>\n",
              "    </tr>\n",
              "  </tbody>\n",
              "</table>\n",
              "</div>\n",
              "      <button class=\"colab-df-convert\" onclick=\"convertToInteractive('df-71765b76-9f57-40f4-aa25-ca22f97f30d6')\"\n",
              "              title=\"Convert this dataframe to an interactive table.\"\n",
              "              style=\"display:none;\">\n",
              "        \n",
              "  <svg xmlns=\"http://www.w3.org/2000/svg\" height=\"24px\"viewBox=\"0 0 24 24\"\n",
              "       width=\"24px\">\n",
              "    <path d=\"M0 0h24v24H0V0z\" fill=\"none\"/>\n",
              "    <path d=\"M18.56 5.44l.94 2.06.94-2.06 2.06-.94-2.06-.94-.94-2.06-.94 2.06-2.06.94zm-11 1L8.5 8.5l.94-2.06 2.06-.94-2.06-.94L8.5 2.5l-.94 2.06-2.06.94zm10 10l.94 2.06.94-2.06 2.06-.94-2.06-.94-.94-2.06-.94 2.06-2.06.94z\"/><path d=\"M17.41 7.96l-1.37-1.37c-.4-.4-.92-.59-1.43-.59-.52 0-1.04.2-1.43.59L10.3 9.45l-7.72 7.72c-.78.78-.78 2.05 0 2.83L4 21.41c.39.39.9.59 1.41.59.51 0 1.02-.2 1.41-.59l7.78-7.78 2.81-2.81c.8-.78.8-2.07 0-2.86zM5.41 20L4 18.59l7.72-7.72 1.47 1.35L5.41 20z\"/>\n",
              "  </svg>\n",
              "      </button>\n",
              "      \n",
              "  <style>\n",
              "    .colab-df-container {\n",
              "      display:flex;\n",
              "      flex-wrap:wrap;\n",
              "      gap: 12px;\n",
              "    }\n",
              "\n",
              "    .colab-df-convert {\n",
              "      background-color: #E8F0FE;\n",
              "      border: none;\n",
              "      border-radius: 50%;\n",
              "      cursor: pointer;\n",
              "      display: none;\n",
              "      fill: #1967D2;\n",
              "      height: 32px;\n",
              "      padding: 0 0 0 0;\n",
              "      width: 32px;\n",
              "    }\n",
              "\n",
              "    .colab-df-convert:hover {\n",
              "      background-color: #E2EBFA;\n",
              "      box-shadow: 0px 1px 2px rgba(60, 64, 67, 0.3), 0px 1px 3px 1px rgba(60, 64, 67, 0.15);\n",
              "      fill: #174EA6;\n",
              "    }\n",
              "\n",
              "    [theme=dark] .colab-df-convert {\n",
              "      background-color: #3B4455;\n",
              "      fill: #D2E3FC;\n",
              "    }\n",
              "\n",
              "    [theme=dark] .colab-df-convert:hover {\n",
              "      background-color: #434B5C;\n",
              "      box-shadow: 0px 1px 3px 1px rgba(0, 0, 0, 0.15);\n",
              "      filter: drop-shadow(0px 1px 2px rgba(0, 0, 0, 0.3));\n",
              "      fill: #FFFFFF;\n",
              "    }\n",
              "  </style>\n",
              "\n",
              "      <script>\n",
              "        const buttonEl =\n",
              "          document.querySelector('#df-71765b76-9f57-40f4-aa25-ca22f97f30d6 button.colab-df-convert');\n",
              "        buttonEl.style.display =\n",
              "          google.colab.kernel.accessAllowed ? 'block' : 'none';\n",
              "\n",
              "        async function convertToInteractive(key) {\n",
              "          const element = document.querySelector('#df-71765b76-9f57-40f4-aa25-ca22f97f30d6');\n",
              "          const dataTable =\n",
              "            await google.colab.kernel.invokeFunction('convertToInteractive',\n",
              "                                                     [key], {});\n",
              "          if (!dataTable) return;\n",
              "\n",
              "          const docLinkHtml = 'Like what you see? Visit the ' +\n",
              "            '<a target=\"_blank\" href=https://colab.research.google.com/notebooks/data_table.ipynb>data table notebook</a>'\n",
              "            + ' to learn more about interactive tables.';\n",
              "          element.innerHTML = '';\n",
              "          dataTable['output_type'] = 'display_data';\n",
              "          await google.colab.output.renderOutput(dataTable, element);\n",
              "          const docLink = document.createElement('div');\n",
              "          docLink.innerHTML = docLinkHtml;\n",
              "          element.appendChild(docLink);\n",
              "        }\n",
              "      </script>\n",
              "    </div>\n",
              "  </div>\n",
              "  "
            ]
          },
          "metadata": {},
          "execution_count": 17
        }
      ]
    },
    {
      "cell_type": "markdown",
      "source": [
        "### Merge text from tagline column with text from overview column \n",
        "\n",
        "So the new description columns will have both information of \"tagline\" and \"overveiw\" column."
      ],
      "metadata": {
        "id": "6L8zsGL2Qufs"
      }
    },
    {
      "cell_type": "code",
      "source": [
        "df['description'] =df['tagline'].map(str)+ ' '+ df['overview'].map(str)"
      ],
      "metadata": {
        "id": "NO8c21SQQYKD"
      },
      "execution_count": 18,
      "outputs": []
    },
    {
      "cell_type": "code",
      "source": [
        "df.dropna(inplace=True)\n",
        "df.info()"
      ],
      "metadata": {
        "colab": {
          "base_uri": "https://localhost:8080/"
        },
        "id": "WqMtT99URKx0",
        "outputId": "352b13a8-46e5-4182-ecfb-638675595664"
      },
      "execution_count": 21,
      "outputs": [
        {
          "output_type": "stream",
          "name": "stdout",
          "text": [
            "<class 'pandas.core.frame.DataFrame'>\n",
            "Int64Index: 4800 entries, 0 to 4802\n",
            "Data columns (total 6 columns):\n",
            " #   Column       Non-Null Count  Dtype  \n",
            "---  ------       --------------  -----  \n",
            " 0   title        4800 non-null   object \n",
            " 1   tagline      4800 non-null   object \n",
            " 2   overview     4800 non-null   object \n",
            " 3   genres       4800 non-null   object \n",
            " 4   popularity   4800 non-null   float64\n",
            " 5   description  4800 non-null   object \n",
            "dtypes: float64(1), object(5)\n",
            "memory usage: 262.5+ KB\n"
          ]
        }
      ]
    },
    {
      "cell_type": "markdown",
      "source": [
        "## Text Preprocessing\n",
        "\n",
        "- prepare the text colunmns for analysis\n"
      ],
      "metadata": {
        "id": "nX9mUKi5SAmD"
      }
    },
    {
      "cell_type": "code",
      "source": [
        "import nltk\n",
        "nltk.download('stopwords')\n",
        "nltk.download('punkt')"
      ],
      "metadata": {
        "colab": {
          "base_uri": "https://localhost:8080/"
        },
        "id": "OfRfuJ7xRMZU",
        "outputId": "c504adca-6734-415b-825c-ed9d5220feab"
      },
      "execution_count": 22,
      "outputs": [
        {
          "output_type": "stream",
          "name": "stdout",
          "text": [
            "[nltk_data] Downloading package stopwords to /root/nltk_data...\n",
            "[nltk_data]   Unzipping corpora/stopwords.zip.\n",
            "[nltk_data] Downloading package punkt to /root/nltk_data...\n",
            "[nltk_data]   Unzipping tokenizers/punkt.zip.\n"
          ]
        },
        {
          "output_type": "execute_result",
          "data": {
            "text/plain": [
              "True"
            ]
          },
          "metadata": {},
          "execution_count": 22
        }
      ]
    },
    {
      "cell_type": "code",
      "source": [
        "import re\n",
        "import numpy as np\n",
        "stop_words = nltk.corpus.stopwords.words('english')"
      ],
      "metadata": {
        "id": "NN-DDmznSRez"
      },
      "execution_count": 23,
      "outputs": []
    },
    {
      "cell_type": "code",
      "source": [
        "#create a function which normalize the documents\n",
        "\n",
        "def normalize_document(doc):\n",
        "    # remove special characters\\whitespaces, ignore case\n",
        "    doc = re.sub(r'[^a-zA-Z/s]', ' ', doc,  flags= re.I|re.A)\n",
        "\n",
        "    # lower case  \n",
        "    doc = doc.lower()\n",
        "\n",
        "    # remove whitespaces\n",
        "    doc = doc.strip()\n",
        "\n",
        "    # tokenize document\n",
        "    tokens = nltk.word_tokenize(doc)\n",
        "\n",
        "    # filter stopwords out of document\n",
        "    filtered_tokens = [token for token in tokens if token not in stop_words]\n",
        "\n",
        "    # re-create/merge sentences from filtered content\n",
        "    doc = ' '.join(filtered_tokens)\n",
        "    return doc"
      ],
      "metadata": {
        "id": "mn38kSymSWtM"
      },
      "execution_count": 32,
      "outputs": []
    },
    {
      "cell_type": "code",
      "source": [
        "#create the normalized corpus\n",
        "normalize_corpus = np.vectorize(normalize_document)\n",
        "norm_corpus = normalize_corpus(list(df['description']))"
      ],
      "metadata": {
        "id": "e3J-XPWMTqIE"
      },
      "execution_count": 33,
      "outputs": []
    },
    {
      "cell_type": "code",
      "source": [
        "#check the numbe rof corpus\n",
        "len(norm_corpus)"
      ],
      "metadata": {
        "colab": {
          "base_uri": "https://localhost:8080/"
        },
        "id": "J_fIv9k7UK8M",
        "outputId": "b2bbf2ef-271a-4fa0-b281-f9b73d2a8c36"
      },
      "execution_count": 34,
      "outputs": [
        {
          "output_type": "execute_result",
          "data": {
            "text/plain": [
              "4800"
            ]
          },
          "metadata": {},
          "execution_count": 34
        }
      ]
    },
    {
      "cell_type": "code",
      "source": [
        "norm_corpus"
      ],
      "metadata": {
        "colab": {
          "base_uri": "https://localhost:8080/"
        },
        "id": "IKx2m92LXNol",
        "outputId": "822e6bb8-37ff-4a93-a623-0870fe100c6d"
      },
      "execution_count": 35,
      "outputs": [
        {
          "output_type": "execute_result",
          "data": {
            "text/plain": [
              "array(['enter world pandora nd century paraplegic marine dispatched moon pandora unique mission becomes torn following orders protecting alien civilization',\n",
              "       'end world adventure begins captain barbossa long believed dead come back life headed edge earth turner elizabeth swann nothing quite seems',\n",
              "       'plan one escapes cryptic message bond past sends trail uncover sinister organization battles political forces keep secret service alive bond peels back layers deceit reveal terrible truth behind spectre',\n",
              "       ...,\n",
              "       'signed sealed delivered introduces dedicated quartet civil servants dead letter office u postal system transform elite team lost mail detectives determination deliver seemingly undeliverable takes post office unpredictable world letters packages past save lives solve crimes reunite old loves change futures arriving late always miraculously time',\n",
              "       'new yorker shanghai ambitious new york attorney sam sent shanghai assignment immediately stumbles legal mess could end career help beautiful relocation specialist well connected old timer clever journalist street smart legal assistant sam might save job find romance learn appreciate beauty wonders shanghai written anonymous imdb com',\n",
              "       'ever since second grade first saw e extraterrestrial brian herzlinger crush drew barrymore years later decided try fulfill lifelong dream asking date one small problem drew barrymore well brian herzlinger broke year old aspiring filmmaker new jersey'],\n",
              "      dtype='<U779')"
            ]
          },
          "metadata": {},
          "execution_count": 35
        }
      ]
    },
    {
      "cell_type": "markdown",
      "source": [
        "###  Use ``gensim`` to train a FastText model on the normalized corpus \n",
        "\n",
        "\n",
        "\n",
        "- the embedding size to be 300\n",
        "- context to be around 30\n",
        "- min word count to be 2 \n",
        "- use a skipgram model\n",
        "- iterations can be 50 \n",
        "\n"
      ],
      "metadata": {
        "id": "WVg1DhzNUaQE"
      }
    },
    {
      "cell_type": "code",
      "source": [
        "import logging\n",
        "logging.basicConfig(format = '%(asctime)s : %(levelname)s : %(message)s', level= logging.INFO)"
      ],
      "metadata": {
        "id": "mCxEHBXmWbX1"
      },
      "execution_count": 30,
      "outputs": []
    },
    {
      "cell_type": "code",
      "source": [
        "from gensim.models import FastText\n",
        "\n",
        "# iterate normalized corpus and split\n",
        "tokenized_docs = [nltk.word_tokenize(doc) for doc in norm_corpus]\n",
        "\n",
        "# Set values for various parameters\n",
        "feature_size = 300   # Set Word embedding dimensionality \n",
        "window_context = 30  # Set Context window size                                                                                  \n",
        "min_word_count = 2   # Set Minimum word count                    \n",
        "sg = 1              # set skip-gram model flag\n",
        "\n",
        "# train FastText model\n",
        "ft_model = FastText(tokenized_docs, size=feature_size, window= window_context, min_count = min_word_count, sg=sg, iter= 50)"
      ],
      "metadata": {
        "id": "-YcqhW_nV-Fs"
      },
      "execution_count": null,
      "outputs": []
    },
    {
      "cell_type": "code",
      "source": [
        "ft_model"
      ],
      "metadata": {
        "colab": {
          "base_uri": "https://localhost:8080/"
        },
        "id": "0rp9bpQunp4A",
        "outputId": "efdc1cff-6c40-49e3-9c63-fc972de81f5b"
      },
      "execution_count": 60,
      "outputs": [
        {
          "output_type": "execute_result",
          "data": {
            "text/plain": [
              "<gensim.models.fasttext.FastText at 0x7f359d94bad0>"
            ]
          },
          "metadata": {},
          "execution_count": 60
        }
      ]
    },
    {
      "cell_type": "code",
      "source": [
        "def average_W2V_Vectorizer(corpus, model, num_features):\n",
        "    vocab = set(model.wv.index2word) #one can access its keyed vectors via the model.wv attributes. \n",
        "  \n",
        "  \n",
        "  \n",
        "    def average_W2V_Vector(words, model, vocab, num_features ):\n",
        "          feature_vector = np.zeros((num_features,),dtype=\"float64\" )\n",
        "          n_word = 0\n",
        "          for word in words:\n",
        "                  if word in vocab:\n",
        "                            n_word = n_word+1\n",
        "                            feature_vector = np.add(feature_vector, model[word])\n",
        "      \n",
        "                  if n_word:\n",
        "                            feature_vector = np.divide(feature_vector, n_word)\n",
        "          return feature_vector\n",
        "\n",
        "    features= [average_W2V_Vector(tokenized_sentence, model, vocab, num_features) for tokenized_sentence in corpus]\n",
        "    return np.array(features)"
      ],
      "metadata": {
        "id": "8p4Hon2CeLa_"
      },
      "execution_count": 64,
      "outputs": []
    },
    {
      "cell_type": "code",
      "source": [
        "ft_vec_doc = average_W2V_Vectorizer(corpus = tokenized_docs , model = ft_model, num_features = feature_size )\n",
        "ft_vec_doc.shape"
      ],
      "metadata": {
        "colab": {
          "base_uri": "https://localhost:8080/"
        },
        "id": "0I-gtFpIjc_w",
        "outputId": "66ae2bda-7a4c-4895-8f06-0d281f469ef9"
      },
      "execution_count": 65,
      "outputs": [
        {
          "output_type": "stream",
          "name": "stderr",
          "text": [
            "/usr/local/lib/python3.7/dist-packages/ipykernel_launcher.py:12: DeprecationWarning: Call to deprecated `__getitem__` (Method will be removed in 4.0.0, use self.wv.__getitem__() instead).\n",
            "  if sys.path[0] == '':\n"
          ]
        },
        {
          "output_type": "execute_result",
          "data": {
            "text/plain": [
              "(4800, 300)"
            ]
          },
          "metadata": {},
          "execution_count": 65
        }
      ]
    },
    {
      "cell_type": "code",
      "source": [
        "vec_df = pd.DataFrame(ft_vec_doc)"
      ],
      "metadata": {
        "id": "KXjDdygxjwYP"
      },
      "execution_count": 72,
      "outputs": []
    },
    {
      "cell_type": "markdown",
      "source": [
        "## Get Movie Recommendations\n",
        "\n",
        "Use a content based recommendation system to find similar movies based on the movie's description\n",
        "- **Cosign similarity** is used."
      ],
      "metadata": {
        "id": "taHO6Jk6odmY"
      }
    },
    {
      "cell_type": "code",
      "source": [
        "from sklearn.metrics.pairwise import cosine_similarity"
      ],
      "metadata": {
        "id": "B8hHxyGQkUNH"
      },
      "execution_count": 67,
      "outputs": []
    },
    {
      "cell_type": "code",
      "source": [
        "doc_sim = cosine_similarity(vec_df.values)\n",
        "doc_sim_df = pd.DataFrame(doc_sim)\n",
        "doc_sim_df.head()"
      ],
      "metadata": {
        "colab": {
          "base_uri": "https://localhost:8080/",
          "height": 236
        },
        "id": "jLTZ5HespAz5",
        "outputId": "17885c3f-edfd-4975-a42c-e586498767dd"
      },
      "execution_count": 73,
      "outputs": [
        {
          "output_type": "execute_result",
          "data": {
            "text/plain": [
              "       0         1         2         3         4         5         6     \\\n",
              "0  1.000000  0.092244  0.258557  0.076623  0.157003  0.179050  0.135307   \n",
              "1  0.092244  1.000000  0.135482  0.151660  0.099395  0.195379  0.178484   \n",
              "2  0.258557  0.135482  1.000000  0.314557  0.218783  0.171528  0.187098   \n",
              "3  0.076623  0.151660  0.314557  1.000000  0.172601  0.109631  0.190052   \n",
              "4  0.157003  0.099395  0.218783  0.172601  1.000000  0.082450  0.146060   \n",
              "\n",
              "       7         8         9     ...      4790      4791      4792      4793  \\\n",
              "0  0.236105  0.171401  0.085183  ...  0.189982  0.116467  0.103358  0.131448   \n",
              "1  0.097387  0.100567  0.092886  ...  0.058422  0.147661  0.138236  0.140639   \n",
              "2  0.220585  0.254631  0.269043  ...  0.202046  0.157564  0.105428  0.127249   \n",
              "3  0.063325  0.044828  0.201730  ...  0.149527  0.062245  0.043369  0.121631   \n",
              "4  0.113062  0.102454  0.177824  ...  0.122390  0.025740  0.122461  0.148873   \n",
              "\n",
              "       4794      4795      4796      4797      4798      4799  \n",
              "0  0.222977  0.177339  0.156279  0.161117  0.145010  0.135220  \n",
              "1  0.150708  0.126868  0.099938  0.060208  0.249185  0.106623  \n",
              "2  0.240188  0.200722  0.174420  0.269616  0.209187  0.153909  \n",
              "3  0.251044  0.076216  0.075151  0.146943  0.233765  0.074630  \n",
              "4  0.173147  0.130495  0.082466  0.048878  0.194673  0.098041  \n",
              "\n",
              "[5 rows x 4800 columns]"
            ],
            "text/html": [
              "\n",
              "  <div id=\"df-311cfee4-7e36-45f6-a508-78078dda6fad\">\n",
              "    <div class=\"colab-df-container\">\n",
              "      <div>\n",
              "<style scoped>\n",
              "    .dataframe tbody tr th:only-of-type {\n",
              "        vertical-align: middle;\n",
              "    }\n",
              "\n",
              "    .dataframe tbody tr th {\n",
              "        vertical-align: top;\n",
              "    }\n",
              "\n",
              "    .dataframe thead th {\n",
              "        text-align: right;\n",
              "    }\n",
              "</style>\n",
              "<table border=\"1\" class=\"dataframe\">\n",
              "  <thead>\n",
              "    <tr style=\"text-align: right;\">\n",
              "      <th></th>\n",
              "      <th>0</th>\n",
              "      <th>1</th>\n",
              "      <th>2</th>\n",
              "      <th>3</th>\n",
              "      <th>4</th>\n",
              "      <th>5</th>\n",
              "      <th>6</th>\n",
              "      <th>7</th>\n",
              "      <th>8</th>\n",
              "      <th>9</th>\n",
              "      <th>...</th>\n",
              "      <th>4790</th>\n",
              "      <th>4791</th>\n",
              "      <th>4792</th>\n",
              "      <th>4793</th>\n",
              "      <th>4794</th>\n",
              "      <th>4795</th>\n",
              "      <th>4796</th>\n",
              "      <th>4797</th>\n",
              "      <th>4798</th>\n",
              "      <th>4799</th>\n",
              "    </tr>\n",
              "  </thead>\n",
              "  <tbody>\n",
              "    <tr>\n",
              "      <th>0</th>\n",
              "      <td>1.000000</td>\n",
              "      <td>0.092244</td>\n",
              "      <td>0.258557</td>\n",
              "      <td>0.076623</td>\n",
              "      <td>0.157003</td>\n",
              "      <td>0.179050</td>\n",
              "      <td>0.135307</td>\n",
              "      <td>0.236105</td>\n",
              "      <td>0.171401</td>\n",
              "      <td>0.085183</td>\n",
              "      <td>...</td>\n",
              "      <td>0.189982</td>\n",
              "      <td>0.116467</td>\n",
              "      <td>0.103358</td>\n",
              "      <td>0.131448</td>\n",
              "      <td>0.222977</td>\n",
              "      <td>0.177339</td>\n",
              "      <td>0.156279</td>\n",
              "      <td>0.161117</td>\n",
              "      <td>0.145010</td>\n",
              "      <td>0.135220</td>\n",
              "    </tr>\n",
              "    <tr>\n",
              "      <th>1</th>\n",
              "      <td>0.092244</td>\n",
              "      <td>1.000000</td>\n",
              "      <td>0.135482</td>\n",
              "      <td>0.151660</td>\n",
              "      <td>0.099395</td>\n",
              "      <td>0.195379</td>\n",
              "      <td>0.178484</td>\n",
              "      <td>0.097387</td>\n",
              "      <td>0.100567</td>\n",
              "      <td>0.092886</td>\n",
              "      <td>...</td>\n",
              "      <td>0.058422</td>\n",
              "      <td>0.147661</td>\n",
              "      <td>0.138236</td>\n",
              "      <td>0.140639</td>\n",
              "      <td>0.150708</td>\n",
              "      <td>0.126868</td>\n",
              "      <td>0.099938</td>\n",
              "      <td>0.060208</td>\n",
              "      <td>0.249185</td>\n",
              "      <td>0.106623</td>\n",
              "    </tr>\n",
              "    <tr>\n",
              "      <th>2</th>\n",
              "      <td>0.258557</td>\n",
              "      <td>0.135482</td>\n",
              "      <td>1.000000</td>\n",
              "      <td>0.314557</td>\n",
              "      <td>0.218783</td>\n",
              "      <td>0.171528</td>\n",
              "      <td>0.187098</td>\n",
              "      <td>0.220585</td>\n",
              "      <td>0.254631</td>\n",
              "      <td>0.269043</td>\n",
              "      <td>...</td>\n",
              "      <td>0.202046</td>\n",
              "      <td>0.157564</td>\n",
              "      <td>0.105428</td>\n",
              "      <td>0.127249</td>\n",
              "      <td>0.240188</td>\n",
              "      <td>0.200722</td>\n",
              "      <td>0.174420</td>\n",
              "      <td>0.269616</td>\n",
              "      <td>0.209187</td>\n",
              "      <td>0.153909</td>\n",
              "    </tr>\n",
              "    <tr>\n",
              "      <th>3</th>\n",
              "      <td>0.076623</td>\n",
              "      <td>0.151660</td>\n",
              "      <td>0.314557</td>\n",
              "      <td>1.000000</td>\n",
              "      <td>0.172601</td>\n",
              "      <td>0.109631</td>\n",
              "      <td>0.190052</td>\n",
              "      <td>0.063325</td>\n",
              "      <td>0.044828</td>\n",
              "      <td>0.201730</td>\n",
              "      <td>...</td>\n",
              "      <td>0.149527</td>\n",
              "      <td>0.062245</td>\n",
              "      <td>0.043369</td>\n",
              "      <td>0.121631</td>\n",
              "      <td>0.251044</td>\n",
              "      <td>0.076216</td>\n",
              "      <td>0.075151</td>\n",
              "      <td>0.146943</td>\n",
              "      <td>0.233765</td>\n",
              "      <td>0.074630</td>\n",
              "    </tr>\n",
              "    <tr>\n",
              "      <th>4</th>\n",
              "      <td>0.157003</td>\n",
              "      <td>0.099395</td>\n",
              "      <td>0.218783</td>\n",
              "      <td>0.172601</td>\n",
              "      <td>1.000000</td>\n",
              "      <td>0.082450</td>\n",
              "      <td>0.146060</td>\n",
              "      <td>0.113062</td>\n",
              "      <td>0.102454</td>\n",
              "      <td>0.177824</td>\n",
              "      <td>...</td>\n",
              "      <td>0.122390</td>\n",
              "      <td>0.025740</td>\n",
              "      <td>0.122461</td>\n",
              "      <td>0.148873</td>\n",
              "      <td>0.173147</td>\n",
              "      <td>0.130495</td>\n",
              "      <td>0.082466</td>\n",
              "      <td>0.048878</td>\n",
              "      <td>0.194673</td>\n",
              "      <td>0.098041</td>\n",
              "    </tr>\n",
              "  </tbody>\n",
              "</table>\n",
              "<p>5 rows × 4800 columns</p>\n",
              "</div>\n",
              "      <button class=\"colab-df-convert\" onclick=\"convertToInteractive('df-311cfee4-7e36-45f6-a508-78078dda6fad')\"\n",
              "              title=\"Convert this dataframe to an interactive table.\"\n",
              "              style=\"display:none;\">\n",
              "        \n",
              "  <svg xmlns=\"http://www.w3.org/2000/svg\" height=\"24px\"viewBox=\"0 0 24 24\"\n",
              "       width=\"24px\">\n",
              "    <path d=\"M0 0h24v24H0V0z\" fill=\"none\"/>\n",
              "    <path d=\"M18.56 5.44l.94 2.06.94-2.06 2.06-.94-2.06-.94-.94-2.06-.94 2.06-2.06.94zm-11 1L8.5 8.5l.94-2.06 2.06-.94-2.06-.94L8.5 2.5l-.94 2.06-2.06.94zm10 10l.94 2.06.94-2.06 2.06-.94-2.06-.94-.94-2.06-.94 2.06-2.06.94z\"/><path d=\"M17.41 7.96l-1.37-1.37c-.4-.4-.92-.59-1.43-.59-.52 0-1.04.2-1.43.59L10.3 9.45l-7.72 7.72c-.78.78-.78 2.05 0 2.83L4 21.41c.39.39.9.59 1.41.59.51 0 1.02-.2 1.41-.59l7.78-7.78 2.81-2.81c.8-.78.8-2.07 0-2.86zM5.41 20L4 18.59l7.72-7.72 1.47 1.35L5.41 20z\"/>\n",
              "  </svg>\n",
              "      </button>\n",
              "      \n",
              "  <style>\n",
              "    .colab-df-container {\n",
              "      display:flex;\n",
              "      flex-wrap:wrap;\n",
              "      gap: 12px;\n",
              "    }\n",
              "\n",
              "    .colab-df-convert {\n",
              "      background-color: #E8F0FE;\n",
              "      border: none;\n",
              "      border-radius: 50%;\n",
              "      cursor: pointer;\n",
              "      display: none;\n",
              "      fill: #1967D2;\n",
              "      height: 32px;\n",
              "      padding: 0 0 0 0;\n",
              "      width: 32px;\n",
              "    }\n",
              "\n",
              "    .colab-df-convert:hover {\n",
              "      background-color: #E2EBFA;\n",
              "      box-shadow: 0px 1px 2px rgba(60, 64, 67, 0.3), 0px 1px 3px 1px rgba(60, 64, 67, 0.15);\n",
              "      fill: #174EA6;\n",
              "    }\n",
              "\n",
              "    [theme=dark] .colab-df-convert {\n",
              "      background-color: #3B4455;\n",
              "      fill: #D2E3FC;\n",
              "    }\n",
              "\n",
              "    [theme=dark] .colab-df-convert:hover {\n",
              "      background-color: #434B5C;\n",
              "      box-shadow: 0px 1px 3px 1px rgba(0, 0, 0, 0.15);\n",
              "      filter: drop-shadow(0px 1px 2px rgba(0, 0, 0, 0.3));\n",
              "      fill: #FFFFFF;\n",
              "    }\n",
              "  </style>\n",
              "\n",
              "      <script>\n",
              "        const buttonEl =\n",
              "          document.querySelector('#df-311cfee4-7e36-45f6-a508-78078dda6fad button.colab-df-convert');\n",
              "        buttonEl.style.display =\n",
              "          google.colab.kernel.accessAllowed ? 'block' : 'none';\n",
              "\n",
              "        async function convertToInteractive(key) {\n",
              "          const element = document.querySelector('#df-311cfee4-7e36-45f6-a508-78078dda6fad');\n",
              "          const dataTable =\n",
              "            await google.colab.kernel.invokeFunction('convertToInteractive',\n",
              "                                                     [key], {});\n",
              "          if (!dataTable) return;\n",
              "\n",
              "          const docLinkHtml = 'Like what you see? Visit the ' +\n",
              "            '<a target=\"_blank\" href=https://colab.research.google.com/notebooks/data_table.ipynb>data table notebook</a>'\n",
              "            + ' to learn more about interactive tables.';\n",
              "          element.innerHTML = '';\n",
              "          dataTable['output_type'] = 'display_data';\n",
              "          await google.colab.output.renderOutput(dataTable, element);\n",
              "          const docLink = document.createElement('div');\n",
              "          docLink.innerHTML = docLinkHtml;\n",
              "          element.appendChild(docLink);\n",
              "        }\n",
              "      </script>\n",
              "    </div>\n",
              "  </div>\n",
              "  "
            ]
          },
          "metadata": {},
          "execution_count": 73
        }
      ]
    },
    {
      "cell_type": "markdown",
      "source": [
        "### Get a list of Movie titles, Movie title and it's index\n",
        "-Get the ID for the movie **Minions**"
      ],
      "metadata": {
        "id": "MREE1kNJqmbJ"
      }
    },
    {
      "cell_type": "code",
      "source": [
        "#movie ID\n",
        "movies_list = df['title']\n",
        "movies_list"
      ],
      "metadata": {
        "colab": {
          "base_uri": "https://localhost:8080/"
        },
        "id": "6G0oYEvCpv1a",
        "outputId": "075b625d-39e7-4995-8d93-f879ce57842b"
      },
      "execution_count": 74,
      "outputs": [
        {
          "output_type": "execute_result",
          "data": {
            "text/plain": [
              "0                                         Avatar\n",
              "1       Pirates of the Caribbean: At World's End\n",
              "2                                        Spectre\n",
              "3                          The Dark Knight Rises\n",
              "4                                    John Carter\n",
              "                          ...                   \n",
              "4798                                 El Mariachi\n",
              "4799                                   Newlyweds\n",
              "4800                   Signed, Sealed, Delivered\n",
              "4801                            Shanghai Calling\n",
              "4802                           My Date with Drew\n",
              "Name: title, Length: 4800, dtype: object"
            ]
          },
          "metadata": {},
          "execution_count": 74
        }
      ]
    },
    {
      "cell_type": "code",
      "source": [
        ""
      ],
      "metadata": {
        "colab": {
          "base_uri": "https://localhost:8080/"
        },
        "id": "Zmen8kjKrfOK",
        "outputId": "040ba40d-9cc1-4cc7-85f9-9839d7c6473f"
      },
      "execution_count": 83,
      "outputs": [
        {
          "output_type": "execute_result",
          "data": {
            "text/plain": [
              "546"
            ]
          },
          "metadata": {},
          "execution_count": 83
        }
      ]
    },
    {
      "cell_type": "code",
      "source": [
        "##movie ID\n",
        "movie_idx_minions = np.where(movies_list == 'Minions')[0][0]\n",
        "movie_idx_minions"
      ],
      "metadata": {
        "colab": {
          "base_uri": "https://localhost:8080/"
        },
        "id": "wSpv9ucsrMoi",
        "outputId": "52ff7203-526e-4275-edf6-0c53cbfe9afd"
      },
      "execution_count": 84,
      "outputs": [
        {
          "output_type": "execute_result",
          "data": {
            "text/plain": [
              "546"
            ]
          },
          "metadata": {},
          "execution_count": 84
        }
      ]
    },
    {
      "cell_type": "markdown",
      "source": [
        "## Extract row of the movie 'Minions' in the dataframe\n"
      ],
      "metadata": {
        "id": "QfQ_58PpsG_K"
      }
    },
    {
      "cell_type": "code",
      "source": [
        "movie_similarities = doc_sim_df.iloc[546].values\n",
        "movie_similarities"
      ],
      "metadata": {
        "colab": {
          "base_uri": "https://localhost:8080/"
        },
        "id": "huvn_XTXr-2J",
        "outputId": "2464b9f4-295c-4754-9c68-a106be5ad5ca"
      },
      "execution_count": 100,
      "outputs": [
        {
          "output_type": "execute_result",
          "data": {
            "text/plain": [
              "array([0.20479107, 0.09085604, 0.23326263, ..., 0.16425708, 0.0909234 ,\n",
              "       0.06744803])"
            ]
          },
          "metadata": {},
          "execution_count": 100
        }
      ]
    },
    {
      "cell_type": "markdown",
      "source": [
        "##Get top 5 movie names by using top 5 movie IDs"
      ],
      "metadata": {
        "id": "Dgo3ZkLttI8q"
      }
    },
    {
      "cell_type": "code",
      "source": [
        "similar_movie_idxs = np.argsort(-movie_similarities)[1:6]\n",
        "similar_movie_idxs"
      ],
      "metadata": {
        "colab": {
          "base_uri": "https://localhost:8080/"
        },
        "id": "Ke2lTXA-scrp",
        "outputId": "e7435c75-9cde-461c-9e7c-faddde6c7129"
      },
      "execution_count": 109,
      "outputs": [
        {
          "output_type": "execute_result",
          "data": {
            "text/plain": [
              "array([ 813,  109, 1424,  785, 1822])"
            ]
          },
          "metadata": {},
          "execution_count": 109
        }
      ]
    },
    {
      "cell_type": "code",
      "source": [
        "similar_movie_name = movies_list[similar_movie_idxs]\n",
        "similar_movie_name"
      ],
      "metadata": {
        "colab": {
          "base_uri": "https://localhost:8080/"
        },
        "id": "25Hi4hGYtxQD",
        "outputId": "eb2865ff-e095-41a8-fba1-955cb86f7da6"
      },
      "execution_count": 110,
      "outputs": [
        {
          "output_type": "execute_result",
          "data": {
            "text/plain": [
              "813                                              Superman\n",
              "109     The Chronicles of Narnia: The Voyage of the Da...\n",
              "1424                                           Concussion\n",
              "785                                        Beyond Borders\n",
              "1822                                    Forbidden Kingdom\n",
              "Name: title, dtype: object"
            ]
          },
          "metadata": {},
          "execution_count": 110
        }
      ]
    },
    {
      "cell_type": "markdown",
      "source": [
        "##Movie Recommender\n",
        "-Based on the previous steps, we can build our own movie recommender system."
      ],
      "metadata": {
        "id": "oPVhlqRovW25"
      }
    },
    {
      "cell_type": "code",
      "source": [
        "def movie_recommender(movie_title, movies=movies_list, doc_sims=None):\n",
        "    # find movie id\n",
        "    movie_idx = np.where(movies_list == movie_title)[0][0]\n",
        "\n",
        "    # get movie similarities. \n",
        "    \n",
        "    movie_similarities = doc_sims.iloc[movie_idx].values\n",
        "    \n",
        "    # get top 5 similar movie IDs\n",
        "    similar_movie_idxs = np.argsort(-movie_similarities)[1:6]\n",
        "    \n",
        "    # get top 5 movies\n",
        "    similar_movies = movies_list[similar_movie_idxs]\n",
        "    \n",
        "    # return the top 5 movies\n",
        "    return similar_movies"
      ],
      "metadata": {
        "id": "HakhZrf2vGsC"
      },
      "execution_count": 123,
      "outputs": []
    },
    {
      "cell_type": "code",
      "source": [
        "#try the system with movie,'superman'\n",
        "similar_movie_super = movie_recommender(movie_title = 'Superman', movies = movies_list, doc_sims= doc_sim_df)"
      ],
      "metadata": {
        "id": "uqRmxPkawN76"
      },
      "execution_count": 135,
      "outputs": []
    },
    {
      "cell_type": "code",
      "source": [
        "similar_movie_super"
      ],
      "metadata": {
        "colab": {
          "base_uri": "https://localhost:8080/"
        },
        "id": "QL6VEzSJwnUK",
        "outputId": "8f8d3389-c1b4-4729-c135-1010e77e4ef3"
      },
      "execution_count": 136,
      "outputs": [
        {
          "output_type": "execute_result",
          "data": {
            "text/plain": [
              "546                                               Minions\n",
              "109     The Chronicles of Narnia: The Voyage of the Da...\n",
              "1424                                           Concussion\n",
              "391                                             Enchanted\n",
              "785                                        Beyond Borders\n",
              "Name: title, dtype: object"
            ]
          },
          "metadata": {},
          "execution_count": 136
        }
      ]
    },
    {
      "cell_type": "code",
      "source": [
        "popular_movies = ['Minions', 'Interstellar', 'Deadpool', 'Jurassic World', 'Pirates of the Caribbean: The Curse of the Black Pearl',\n",
        "              'Dawn of the Planet of the Apes', 'The Hunger Games: Mockingjay - Part 1', 'Terminator Genisys', \n",
        "              'Captain America: Civil War', 'The Dark Knight', 'The Martian', 'Batman v Superman: Dawn of Justice', \n",
        "              'Pulp Fiction', 'The Godfather', 'The Shawshank Redemption', 'The Lord of the Rings: The Fellowship of the Ring',  \n",
        "              'Harry Potter and the Chamber of Secrets', 'Star Wars', 'The Hobbit: The Battle of the Five Armies',\n",
        "              'Iron Man']"
      ],
      "metadata": {
        "id": "KjDT2cXtxC9D"
      },
      "execution_count": 124,
      "outputs": []
    },
    {
      "cell_type": "code",
      "source": [
        "for movie in popular_movies:\n",
        "    print('Movie:', movie)\n",
        "    \n",
        "    print('Top 5 recommended Movies:', movie_recommender(movie_title=movie, movies=movies_list, doc_sims=doc_sim_df))\n",
        "    print()"
      ],
      "metadata": {
        "colab": {
          "base_uri": "https://localhost:8080/"
        },
        "id": "4Dq18GcjxDmr",
        "outputId": "e7aa35f9-2f44-4ddd-b95b-ed4d78c8c8ee"
      },
      "execution_count": 137,
      "outputs": [
        {
          "output_type": "stream",
          "name": "stdout",
          "text": [
            "Movie: Minions\n",
            "Top 5 recommended Movies: 813                                              Superman\n",
            "109     The Chronicles of Narnia: The Voyage of the Da...\n",
            "1424                                           Concussion\n",
            "785                                        Beyond Borders\n",
            "1822                                    Forbidden Kingdom\n",
            "Name: title, dtype: object\n",
            "\n",
            "Movie: Interstellar\n",
            "Top 5 recommended Movies: 1317         White Squall\n",
            "4509         Love Letters\n",
            "1529        Out of Africa\n",
            "1269    Raise the Titanic\n",
            "2901        5 Days of War\n",
            "Name: title, dtype: object\n",
            "\n",
            "Movie: Deadpool\n",
            "Top 5 recommended Movies: 4516    Kingdom of the Spiders\n",
            "3896                  Sinister\n",
            "4773                    Clerks\n",
            "3243               Brown Sugar\n",
            "2549        Where the Heart Is\n",
            "Name: title, dtype: object\n",
            "\n",
            "Movie: Jurassic World\n",
            "Top 5 recommended Movies: 3458                   Duel in the Sun\n",
            "3021                   Invasion U.S.A.\n",
            "348     Ice Age: Dawn of the Dinosaurs\n",
            "1165       Back to the Future Part III\n",
            "236                        Windtalkers\n",
            "Name: title, dtype: object\n",
            "\n",
            "Movie: Pirates of the Caribbean: The Curse of the Black Pearl\n",
            "Top 5 recommended Movies: 3090    Cecil B. Demented\n",
            "847              Semi-Pro\n",
            "1989         The Waterboy\n",
            "2412         Smokin' Aces\n",
            "567         Runaway Bride\n",
            "Name: title, dtype: object\n",
            "\n",
            "Movie: Dawn of the Planet of the Apes\n",
            "Top 5 recommended Movies: 920                  Congo\n",
            "4768    The Exploding Girl\n",
            "4136          Freeze Frame\n",
            "1762             Dark City\n",
            "4679       Call + Response\n",
            "Name: title, dtype: object\n",
            "\n",
            "Movie: The Hunger Games: Mockingjay - Part 1\n",
            "Top 5 recommended Movies: 3070                  Jeff, Who Lives at Home\n",
            "4139                                Nine Dead\n",
            "102     The Hunger Games: Mockingjay - Part 2\n",
            "3402                           The Snow Queen\n",
            "4728             The Lost Skeleton of Cadavra\n",
            "Name: title, dtype: object\n",
            "\n",
            "Movie: Terminator Genisys\n",
            "Top 5 recommended Movies: 3372                            Split Second\n",
            "4774                          Pink Narcissus\n",
            "2559    Confessions of a Teenage Drama Queen\n",
            "2187                                21 Grams\n",
            "2754                  Two Can Play That Game\n",
            "Name: title, dtype: object\n",
            "\n",
            "Movie: Captain America: Civil War\n",
            "Top 5 recommended Movies: 1860        Kiss of the Dragon\n",
            "1544    Extraordinary Measures\n",
            "2941                   Frailty\n",
            "401         Enemy at the Gates\n",
            "1775             The Statement\n",
            "Name: title, dtype: object\n",
            "\n",
            "Movie: The Dark Knight\n",
            "Top 5 recommended Movies: 119      Batman Begins\n",
            "3853              2:13\n",
            "428     Batman Returns\n",
            "3887     Trainspotting\n",
            "3240     28 Days Later\n",
            "Name: title, dtype: object\n",
            "\n",
            "Movie: The Martian\n",
            "Top 5 recommended Movies: 3716       Lilya 4-ever\n",
            "2160         Stay Alive\n",
            "2283    Thir13en Ghosts\n",
            "280      Public Enemies\n",
            "2002            Haywire\n",
            "Name: title, dtype: object\n",
            "\n",
            "Movie: Batman v Superman: Dawn of Justice\n",
            "Top 5 recommended Movies: 101     X-Men: First Class\n",
            "4441                 Bambi\n",
            "2236     Chasing Mavericks\n",
            "3988     Diary of the Dead\n",
            "1456        Bound by Honor\n",
            "Name: title, dtype: object\n",
            "\n",
            "Movie: Pulp Fiction\n",
            "Top 5 recommended Movies: 4603           My Dog Tulip\n",
            "2327               Predator\n",
            "4594    The Broadway Melody\n",
            "4541     The Slaughter Rule\n",
            "3551             Miss Julie\n",
            "Name: title, dtype: object\n",
            "\n",
            "Movie: The Godfather\n",
            "Top 5 recommended Movies: 155     Fun with Dick and Jane\n",
            "4729      Dude Where's My Dog?\n",
            "2064                 Underdogs\n",
            "4280             Forget Me Not\n",
            "1868        Cradle 2 the Grave\n",
            "Name: title, dtype: object\n",
            "\n",
            "Movie: The Shawshank Redemption\n",
            "Top 5 recommended Movies: 4482         L.I.E.\n",
            "1275       Sunshine\n",
            "2574         Flicka\n",
            "484     The Postman\n",
            "3534       Galaxina\n",
            "Name: title, dtype: object\n",
            "\n",
            "Movie: The Lord of the Rings: The Fellowship of the Ring\n",
            "Top 5 recommended Movies: 347     Cloudy with a Chance of Meatballs\n",
            "4364                  Two Girls and a Guy\n",
            "2055                            Mad Money\n",
            "3269                         Woman on Top\n",
            "621                      The Finest Hours\n",
            "Name: title, dtype: object\n",
            "\n",
            "Movie: Harry Potter and the Chamber of Secrets\n",
            "Top 5 recommended Movies: 2013     Bodyguards and Assassins\n",
            "1911                  Shark Night\n",
            "737     Jack Ryan: Shadow Recruit\n",
            "2818                      Witness\n",
            "528                        Munich\n",
            "Name: title, dtype: object\n",
            "\n",
            "Movie: Star Wars\n",
            "Top 5 recommended Movies: 3574                                       Oculus\n",
            "233     Star Wars: Episode I - The Phantom Menace\n",
            "627                               The Last Legion\n",
            "4273                                   The Basket\n",
            "2505                                       Ararat\n",
            "Name: title, dtype: object\n",
            "\n",
            "Movie: The Hobbit: The Battle of the Five Armies\n",
            "Top 5 recommended Movies: 2165            Shorts\n",
            "228           Oblivion\n",
            "4          John Carter\n",
            "3398           Wah-Wah\n",
            "1077    Johnny English\n",
            "Name: title, dtype: object\n",
            "\n",
            "Movie: Iron Man\n",
            "Top 5 recommended Movies: 1270    Universal Soldier: The Return\n",
            "728                           Hellboy\n",
            "1627             Deliver Us from Evil\n",
            "410                     Mirror Mirror\n",
            "1449                        The Order\n",
            "Name: title, dtype: object\n",
            "\n"
          ]
        }
      ]
    },
    {
      "cell_type": "code",
      "source": [
        ""
      ],
      "metadata": {
        "id": "-368xWCVxjJS"
      },
      "execution_count": null,
      "outputs": []
    }
  ]
}